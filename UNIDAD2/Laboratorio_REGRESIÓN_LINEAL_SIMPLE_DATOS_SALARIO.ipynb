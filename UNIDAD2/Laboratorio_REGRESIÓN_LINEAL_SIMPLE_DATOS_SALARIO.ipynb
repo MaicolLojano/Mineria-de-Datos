{
  "nbformat": 4,
  "nbformat_minor": 0,
  "metadata": {
    "colab": {
      "provenance": [],
      "include_colab_link": true
    },
    "kernelspec": {
      "name": "python3",
      "display_name": "Python 3"
    },
    "language_info": {
      "name": "python"
    }
  },
  "cells": [
    {
      "cell_type": "markdown",
      "metadata": {
        "id": "view-in-github",
        "colab_type": "text"
      },
      "source": [
        "<a href=\"https://colab.research.google.com/github/MaicolLojano/Mineria-de-Datos/blob/main/UNIDAD2/Laboratorio_REGRESI%C3%93N_LINEAL_SIMPLE_DATOS_SALARIO.ipynb\" target=\"_parent\"><img src=\"https://colab.research.google.com/assets/colab-badge.svg\" alt=\"Open In Colab\"/></a>"
      ]
    },
    {
      "cell_type": "markdown",
      "source": [
        "<!--Header-->\n",
        "<div>\n",
        "    <div class=\"row\" style=\"color: #4D4D4D;font-size: 15px;padding-bottom: 20px\">\n",
        "        <div class=\"col-md-7\">\n",
        "            <img src=\"https://www.tecazuay.edu.ec/wp-content/uploads/2023/07/LOGO-RECTANGULAR_SIN-FONDO-2048x626.png\" alt=\"Logo TECAZUAY\" width=\"100%\" class=\"img-responsive\" style=\"margin:20px 0px 0px\">\n",
        "        </div>\n",
        "        <div class=\"col-md-5\">\n",
        "            <h1 style=\"margin:15px 0px 0px;font-size: 40px;\">REGRESIÓN LINEAL</h1>\n",
        "            <div style=\"text-align:left;margin-top: 5px;\"></div>\n",
        "        </div>\n",
        "    </div>\n",
        "    <div class=\"row\" style=\"background: #FCB517;padding: 10px 20px;\">\n",
        "        <div class=\"col-md-6\">\n",
        "        </div>\n",
        "        <div class=\"col-md-6\">\n",
        "            </div>\n",
        "        </div>\n",
        "        <div style=\"text-align:right;\">Carrera: TECNOLOGÍA SUPERIOR EN BIG DATA <span style=\"margin-left: 30px;\"></span></div>\n",
        "         <div style=\"text-align:right;\">Estudiante: Maicol Lojano Jara  <span style=\"margin-left: 30px;\"></span></div>\n",
        "          <div style=\"text-align:right;\">Fecha: 6/7/2024 <span style=\"margin-left: 30px;\"></span></div>\n",
        "        </div>\n",
        "    </div>\n",
        "</div>\n",
        "<!--/Header-->"
      ],
      "metadata": {
        "id": "T8iDxDHuHQXb"
      }
    },
    {
      "cell_type": "markdown",
      "source": [
        "**REGRESIÓN LINEAL**\n",
        "\n",
        "La regresión lineal es una técnica estadística que se utiliza para modelar la relación entre una variable dependiente y una o más variables independientes. El objetivo de la regresión lineal es encontrar una línea recta que mejor represente la relación entre estas variables."
      ],
      "metadata": {
        "id": "BxBKMqinn-SI"
      }
    },
    {
      "cell_type": "markdown",
      "source": [
        "**Regresión lineal simple:** Este tipo de regresión lineal involucra solo dos variables, una variable independiente y una variable dependiente. La relación entre las dos variables se modela mediante una línea recta."
      ],
      "metadata": {
        "id": "w2_FV2lKok-X"
      }
    },
    {
      "cell_type": "markdown",
      "source": [
        "Supongamos que se tiene un conjunto de datos que muestra la cantidad de horas trabajadas por empleados y sus salarios en miles de dólares. El objetivo es determinar si hay una relación lineal entre las horas trabajadas y los salarios, y si es así, utilizar la regresión lineal para predecir los salarios en función de las horas trabajadas."
      ],
      "metadata": {
        "id": "5FL-8nUpkfTH"
      }
    },
    {
      "cell_type": "markdown",
      "source": [
        "Primero, se deben importar las bibliotecas necesarias y cargar los datos en un DataFrame de Pandas:"
      ],
      "metadata": {
        "id": "iC-9QQ2TkxeM"
      }
    },
    {
      "cell_type": "code",
      "execution_count": null,
      "metadata": {
        "colab": {
          "base_uri": "https://localhost:8080/"
        },
        "id": "LtoGJ6SChWvy",
        "outputId": "0df1f678-1227-4411-9829-482ca16d1be7"
      },
      "outputs": [
        {
          "output_type": "stream",
          "name": "stdout",
          "text": [
            "   Horas Trabajadas  Salario(en miles de dolares)\n",
            "0                 4                            40\n",
            "1                 8                            80\n",
            "2                 3                            30\n",
            "3                 5                            50\n",
            "4                 7                            70\n",
            "5                 9                            90\n",
            "6                 6                            90\n",
            "7                 2                            20\n",
            "8                 1                            10\n",
            "9                10                           100\n"
          ]
        }
      ],
      "source": [
        "import pandas as pd\n",
        "import numpy as np\n",
        "from sklearn.linear_model import LinearRegression\n",
        "import matplotlib.pyplot as plt\n",
        "\n",
        "# cargar los datos\n",
        "\n",
        "datos = {\n",
        "    'Horas Trabajadas': [4, 8, 3, 5, 7, 9, 6, 2, 1, 10],\n",
        "    'Salario(en miles de dolares)': [40, 80, 30, 50, 70, 90, 90, 20, 10, 100]\n",
        "}\n",
        "data = pd.DataFrame(datos)\n",
        "\n",
        "data.to_csv(\"datos_salarios.csv\", index=False)\n",
        "# visualizar los primeros registros\n",
        "print(data)"
      ]
    },
    {
      "cell_type": "markdown",
      "source": [
        "El archivo \"datos_salarios.csv\" contiene los datos de horas trabajadas y salarios, que se presentan en la siguiente tabla:"
      ],
      "metadata": {
        "id": "sGWTfP7Tk_ge"
      }
    },
    {
      "cell_type": "markdown",
      "source": [
        "Ahora se van a agregar 50 datos más a la lista"
      ],
      "metadata": {
        "id": "ALogtzPPT732"
      }
    },
    {
      "cell_type": "code",
      "source": [
        "# visualizar los primeros registros\n",
        "print(data)"
      ],
      "metadata": {
        "colab": {
          "base_uri": "https://localhost:8080/"
        },
        "id": "Asu8s8WOlH3W",
        "outputId": "72288a44-373c-461e-f18b-e37dd41bad78"
      },
      "execution_count": null,
      "outputs": [
        {
          "output_type": "stream",
          "name": "stdout",
          "text": [
            "   Horas Trabajadas  Salario(en miles de dolares)\n",
            "0                 4                            40\n",
            "1                 8                            80\n",
            "2                 3                            30\n",
            "3                 5                            50\n",
            "4                 7                            70\n",
            "5                 9                            90\n",
            "6                 6                            90\n",
            "7                 2                            20\n",
            "8                 1                            10\n",
            "9                10                           100\n"
          ]
        }
      ]
    },
    {
      "cell_type": "markdown",
      "source": [
        "A continuación, se deben separar las variables independientes (horas trabajadas) de la variable dependiente (Salario(en miles de dolares):"
      ],
      "metadata": {
        "id": "KfI4iQ8KlNXm"
      }
    },
    {
      "cell_type": "code",
      "source": [
        "# separar las variables independientes y dependiente\n",
        "X = data.iloc[:, :-1].values\n",
        "y = data.iloc[:, 1].values"
      ],
      "metadata": {
        "id": "7h2ZHnM6hkFX"
      },
      "execution_count": null,
      "outputs": []
    },
    {
      "cell_type": "code",
      "source": [
        "X"
      ],
      "metadata": {
        "colab": {
          "base_uri": "https://localhost:8080/"
        },
        "id": "3hz6Eny6jX5j",
        "outputId": "2fb492a5-5790-44cb-f2bf-974465a30568"
      },
      "execution_count": null,
      "outputs": [
        {
          "output_type": "execute_result",
          "data": {
            "text/plain": [
              "array([[ 4],\n",
              "       [ 8],\n",
              "       [ 3],\n",
              "       [ 5],\n",
              "       [ 7],\n",
              "       [ 9],\n",
              "       [ 6],\n",
              "       [ 2],\n",
              "       [ 1],\n",
              "       [10]])"
            ]
          },
          "metadata": {},
          "execution_count": 28
        }
      ]
    },
    {
      "cell_type": "code",
      "source": [
        "y"
      ],
      "metadata": {
        "colab": {
          "base_uri": "https://localhost:8080/"
        },
        "id": "fyt6BnTcjdOd",
        "outputId": "df479062-c198-4673-c220-88055e8a7f42"
      },
      "execution_count": null,
      "outputs": [
        {
          "output_type": "execute_result",
          "data": {
            "text/plain": [
              "array([ 40,  80,  30,  50,  70,  90,  90,  20,  10, 100])"
            ]
          },
          "metadata": {},
          "execution_count": 29
        }
      ]
    },
    {
      "cell_type": "markdown",
      "source": [
        "Luego, se puede ajustar la línea de regresión utilizando el modelo de regresión lineal de Scikit-learn:"
      ],
      "metadata": {
        "id": "sFIjm6C6lcMb"
      }
    },
    {
      "cell_type": "code",
      "source": [
        "# ajustar el modelo de regresión lineal\n",
        "regressor = LinearRegression()\n",
        "regressor.fit(X, y)"
      ],
      "metadata": {
        "colab": {
          "base_uri": "https://localhost:8080/",
          "height": 74
        },
        "id": "ip2FAZU_jq6-",
        "outputId": "a5c0b14c-cc36-469d-a569-ddcec9e502b8"
      },
      "execution_count": null,
      "outputs": [
        {
          "output_type": "execute_result",
          "data": {
            "text/plain": [
              "LinearRegression()"
            ],
            "text/html": [
              "<style>#sk-container-id-2 {color: black;background-color: white;}#sk-container-id-2 pre{padding: 0;}#sk-container-id-2 div.sk-toggleable {background-color: white;}#sk-container-id-2 label.sk-toggleable__label {cursor: pointer;display: block;width: 100%;margin-bottom: 0;padding: 0.3em;box-sizing: border-box;text-align: center;}#sk-container-id-2 label.sk-toggleable__label-arrow:before {content: \"▸\";float: left;margin-right: 0.25em;color: #696969;}#sk-container-id-2 label.sk-toggleable__label-arrow:hover:before {color: black;}#sk-container-id-2 div.sk-estimator:hover label.sk-toggleable__label-arrow:before {color: black;}#sk-container-id-2 div.sk-toggleable__content {max-height: 0;max-width: 0;overflow: hidden;text-align: left;background-color: #f0f8ff;}#sk-container-id-2 div.sk-toggleable__content pre {margin: 0.2em;color: black;border-radius: 0.25em;background-color: #f0f8ff;}#sk-container-id-2 input.sk-toggleable__control:checked~div.sk-toggleable__content {max-height: 200px;max-width: 100%;overflow: auto;}#sk-container-id-2 input.sk-toggleable__control:checked~label.sk-toggleable__label-arrow:before {content: \"▾\";}#sk-container-id-2 div.sk-estimator input.sk-toggleable__control:checked~label.sk-toggleable__label {background-color: #d4ebff;}#sk-container-id-2 div.sk-label input.sk-toggleable__control:checked~label.sk-toggleable__label {background-color: #d4ebff;}#sk-container-id-2 input.sk-hidden--visually {border: 0;clip: rect(1px 1px 1px 1px);clip: rect(1px, 1px, 1px, 1px);height: 1px;margin: -1px;overflow: hidden;padding: 0;position: absolute;width: 1px;}#sk-container-id-2 div.sk-estimator {font-family: monospace;background-color: #f0f8ff;border: 1px dotted black;border-radius: 0.25em;box-sizing: border-box;margin-bottom: 0.5em;}#sk-container-id-2 div.sk-estimator:hover {background-color: #d4ebff;}#sk-container-id-2 div.sk-parallel-item::after {content: \"\";width: 100%;border-bottom: 1px solid gray;flex-grow: 1;}#sk-container-id-2 div.sk-label:hover label.sk-toggleable__label {background-color: #d4ebff;}#sk-container-id-2 div.sk-serial::before {content: \"\";position: absolute;border-left: 1px solid gray;box-sizing: border-box;top: 0;bottom: 0;left: 50%;z-index: 0;}#sk-container-id-2 div.sk-serial {display: flex;flex-direction: column;align-items: center;background-color: white;padding-right: 0.2em;padding-left: 0.2em;position: relative;}#sk-container-id-2 div.sk-item {position: relative;z-index: 1;}#sk-container-id-2 div.sk-parallel {display: flex;align-items: stretch;justify-content: center;background-color: white;position: relative;}#sk-container-id-2 div.sk-item::before, #sk-container-id-2 div.sk-parallel-item::before {content: \"\";position: absolute;border-left: 1px solid gray;box-sizing: border-box;top: 0;bottom: 0;left: 50%;z-index: -1;}#sk-container-id-2 div.sk-parallel-item {display: flex;flex-direction: column;z-index: 1;position: relative;background-color: white;}#sk-container-id-2 div.sk-parallel-item:first-child::after {align-self: flex-end;width: 50%;}#sk-container-id-2 div.sk-parallel-item:last-child::after {align-self: flex-start;width: 50%;}#sk-container-id-2 div.sk-parallel-item:only-child::after {width: 0;}#sk-container-id-2 div.sk-dashed-wrapped {border: 1px dashed gray;margin: 0 0.4em 0.5em 0.4em;box-sizing: border-box;padding-bottom: 0.4em;background-color: white;}#sk-container-id-2 div.sk-label label {font-family: monospace;font-weight: bold;display: inline-block;line-height: 1.2em;}#sk-container-id-2 div.sk-label-container {text-align: center;}#sk-container-id-2 div.sk-container {/* jupyter's `normalize.less` sets `[hidden] { display: none; }` but bootstrap.min.css set `[hidden] { display: none !important; }` so we also need the `!important` here to be able to override the default hidden behavior on the sphinx rendered scikit-learn.org. See: https://github.com/scikit-learn/scikit-learn/issues/21755 */display: inline-block !important;position: relative;}#sk-container-id-2 div.sk-text-repr-fallback {display: none;}</style><div id=\"sk-container-id-2\" class=\"sk-top-container\"><div class=\"sk-text-repr-fallback\"><pre>LinearRegression()</pre><b>In a Jupyter environment, please rerun this cell to show the HTML representation or trust the notebook. <br />On GitHub, the HTML representation is unable to render, please try loading this page with nbviewer.org.</b></div><div class=\"sk-container\" hidden><div class=\"sk-item\"><div class=\"sk-estimator sk-toggleable\"><input class=\"sk-toggleable__control sk-hidden--visually\" id=\"sk-estimator-id-2\" type=\"checkbox\" checked><label for=\"sk-estimator-id-2\" class=\"sk-toggleable__label sk-toggleable__label-arrow\">LinearRegression</label><div class=\"sk-toggleable__content\"><pre>LinearRegression()</pre></div></div></div></div></div>"
            ]
          },
          "metadata": {},
          "execution_count": 30
        }
      ]
    },
    {
      "cell_type": "markdown",
      "source": [
        "Finalmente, se puede visualizar la línea de regresión y predecir el salario  en función de las horas que trabaja:"
      ],
      "metadata": {
        "id": "umVgczTslmb_"
      }
    },
    {
      "cell_type": "code",
      "source": [
        "# visualizar la línea de regresión\n",
        "plt.scatter(X, y, color='red')\n",
        "plt.plot(X, regressor.predict(X), color='blue')\n",
        "plt.title('Relación entre Horas Trabajadas y Salario')\n",
        "plt.xlabel('Horas Trabajadas')\n",
        "plt.ylabel('Salario(en miles de dolares)')\n",
        "plt.show()\n",
        "\n",
        "# Predecir el salario para 8 horas trabajadas\n",
        "horas_trabajadas = [[8]]\n",
        "print(\"Salario predicho para 8 horas trabajadas:\", regressor.predict(horas_trabajadas))"
      ],
      "metadata": {
        "colab": {
          "base_uri": "https://localhost:8080/",
          "height": 489
        },
        "id": "j6k44Ve2jxOX",
        "outputId": "ece78e6c-195d-4041-aa7c-98f4413ea2d3"
      },
      "execution_count": null,
      "outputs": [
        {
          "output_type": "display_data",
          "data": {
            "text/plain": [
              "<Figure size 640x480 with 1 Axes>"
            ],
            "image/png": "[encoded data removed]"
          },
          "metadata": {}
        },
        {
          "output_type": "stream",
          "name": "stdout",
          "text": [
            "Salario predicho para 8 horas trabajadas: [83.45454545]\n"
          ]
        }
      ]
    },
    {
      "cell_type": "markdown",
      "source": [
        "**EVALUACIÓN DEL MODELO**\n",
        "\n",
        "Para evaluar la calidad de un modelo de regresión lineal, hay varias métricas que se pueden utilizar. Aquí se presentan algunas de las más comunes:"
      ],
      "metadata": {
        "id": "9F3ynKONm0wP"
      }
    },
    {
      "cell_type": "markdown",
      "source": [
        "**1. Error cuadrático medio (MSE):** Esta métrica calcula el promedio de los errores al cuadrado entre las predicciones y los valores reales. Un MSE más bajo indica un mejor ajuste del modelo."
      ],
      "metadata": {
        "id": "ouUR1jR2m_z_"
      }
    },
    {
      "cell_type": "code",
      "source": [
        "from sklearn.metrics import mean_squared_error\n",
        "\n",
        "# calcular el MSE\n",
        "y_pred = regressor.predict(X)\n",
        "mse = mean_squared_error(y, y_pred)\n",
        "print(\"MSE:\", mse)"
      ],
      "metadata": {
        "colab": {
          "base_uri": "https://localhost:8080/"
        },
        "id": "9mnD_vcMm6Vm",
        "outputId": "217cddb5-67f1-4ee5-ec16-628d7b6bc6b9"
      },
      "execution_count": null,
      "outputs": [
        {
          "output_type": "stream",
          "name": "stdout",
          "text": [
            "MSE: 80.72727272727269\n"
          ]
        }
      ]
    },
    {
      "cell_type": "markdown",
      "source": [
        "**2. Coeficiente de determinación (R2):** Esta métrica mide la proporción de la varianza en la variable dependiente que se puede explicar por la variable independiente. Un R2 más alto indica un mejor ajuste del modelo."
      ],
      "metadata": {
        "id": "j9C2wEQ7nOkq"
      }
    },
    {
      "cell_type": "code",
      "source": [
        "from sklearn.metrics import r2_score\n",
        "\n",
        "# calcular el R2\n",
        "r2 = r2_score(y, y_pred)\n",
        "print(\"R2:\", r2)"
      ],
      "metadata": {
        "colab": {
          "base_uri": "https://localhost:8080/"
        },
        "id": "fhmCMGSpnW8i",
        "outputId": "b07ade2c-dea0-42b0-fec0-f84f1177d373"
      },
      "execution_count": null,
      "outputs": [
        {
          "output_type": "stream",
          "name": "stdout",
          "text": [
            "R2: 0.9137529137529138\n"
          ]
        }
      ]
    },
    {
      "cell_type": "markdown",
      "source": [
        "**3. Gráfico de residuos:** Un gráfico de residuos muestra la diferencia entre los valores reales y las predicciones en función de las variables independientes. Si las predicciones son precisas, los residuos deberían estar distribuidos aleatoriamente alrededor de cero. Si hay un patrón en los residuos, puede ser una indicación de que el modelo no está capturando completamente las relaciones entre las variables."
      ],
      "metadata": {
        "id": "rJH7GkaDna5Y"
      }
    },
    {
      "cell_type": "code",
      "source": [
        "# Crear un gráfico de residuos\n",
        "residuos = y - y_pred\n",
        "plt.scatter(X, residuos, color='blue')\n",
        "plt.axhline(y=0, color='black', linestyle='--')\n",
        "plt.title('Gráfico de residuos')\n",
        "plt.xlabel('Horas Trabajadas')\n",
        "plt.ylabel('Residuos')\n",
        "plt.grid(True)\n",
        "plt.show()"
      ],
      "metadata": {
        "colab": {
          "base_uri": "https://localhost:8080/",
          "height": 472
        },
        "id": "AsqIBabfG4lk",
        "outputId": "4d19120b-a4de-4842-cbbd-dc0954ce5911"
      },
      "execution_count": null,
      "outputs": [
        {
          "output_type": "display_data",
          "data": {
            "text/plain": [
              "<Figure size 640x480 with 1 Axes>"
            ],
            "image/png": "[encoded data removed]"
          },
          "metadata": {}
        }
      ]
    },
    {
      "cell_type": "markdown",
      "source": [
        "Estas métricas pueden ayudar a evaluar la calidad de un modelo de regresión lineal y determinar si es adecuado para el conjunto de datos y el problema en cuestión. Es importante tener en cuenta que ninguna métrica por sí sola puede decir si un modelo es adecuado, por lo que se deben considerar varias métricas en conjunto."
      ],
      "metadata": {
        "id": "lhBS_GEpn0Tz"
      }
    }
  ]
}