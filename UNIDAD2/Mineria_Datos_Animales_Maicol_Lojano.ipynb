{
  "cells": [
    {
      "cell_type": "markdown",
      "metadata": {
        "id": "view-in-github",
        "colab_type": "text"
      },
      "source": [
        "<a href=\"https://colab.research.google.com/github/MaicolLojano/Mineria-de-Datos/blob/main/UNIDAD2/Mineria_Datos_Animales_Maicol_Lojano.ipynb\" target=\"_parent\"><img src=\"https://colab.research.google.com/assets/colab-badge.svg\" alt=\"Open In Colab\"/></a>"
      ]
    },
    {
      "cell_type": "markdown",
      "id": "aead13df-63c3-49e4-a623-dc315c976968",
      "metadata": {
        "id": "aead13df-63c3-49e4-a623-dc315c976968"
      },
      "source": [
        "# ANÁLISIS DE DATOS"
      ]
    },
    {
      "cell_type": "markdown",
      "id": "66b302af-2ab8-4965-bd1e-d54d90bf97a7",
      "metadata": {
        "id": "66b302af-2ab8-4965-bd1e-d54d90bf97a7"
      },
      "source": [
        "# 1. Generar Datos Ficticios\n",
        "\n",
        "Primero, generaremos un conjunto de datos ficticios."
      ]
    },
    {
      "cell_type": "code",
      "execution_count": null,
      "id": "dd91a7a0-e085-4839-be8a-e4f2078f5bb0",
      "metadata": {
        "id": "dd91a7a0-e085-4839-be8a-e4f2078f5bb0"
      },
      "outputs": [],
      "source": [
        "import pandas as pd\n",
        "import numpy as np\n",
        "\n",
        "# Generar datos ficticios\n",
        "np.random.seed(0)\n",
        "fechas = pd.date_range(start='2022-01-01', periods=200, freq='D')\n",
        "categorias = ['Comida para Perros', 'Comida para Gatos', 'Comida para Aves', 'Comida para Peces']\n",
        "data = {\n",
        "    'Fecha': np.random.choice(fechas, 1000),\n",
        "    'Categoria': np.random.choice(categorias, 1000),\n",
        "    'Ventas': np.random.randint(100, 1000, 1000),\n",
        "    'Ingresos': np.random.uniform(1000, 10000, 1000),\n",
        "    'Promociones': np.random.randint(0, 20, 1000),\n",
        "    'Descuento': np.random.uniform(0, 0.3, 1000)\n",
        "}\n",
        "\n",
        "df = pd.DataFrame(data)\n"
      ]
    },
    {
      "cell_type": "code",
      "execution_count": null,
      "id": "607830df-c8b5-49c0-9452-8b14cf9df618",
      "metadata": {
        "id": "607830df-c8b5-49c0-9452-8b14cf9df618"
      },
      "outputs": [],
      "source": [
        "# Guardar la data\n",
        "# Especifica la ruta donde deseas guardar el archivo CSV\n",
        "ruta_archivo = 'Data_Animales.csv'\n",
        "\n",
        "# Guarda el DataFrame como un archivo CSV\n",
        "df.to_csv(ruta_archivo, index=False)"
      ]
    },
    {
      "cell_type": "markdown",
      "id": "0ed2f246-c976-4fdb-8181-53af034f6882",
      "metadata": {
        "id": "0ed2f246-c976-4fdb-8181-53af034f6882"
      },
      "source": [
        "## 2. Análisis Descriptivo\n",
        "\n",
        "Realizaremos un análisis descriptivo de los datos."
      ]
    },
    {
      "cell_type": "code",
      "execution_count": null,
      "id": "50132cb9-8696-42b1-8782-67d0455cedf4",
      "metadata": {
        "colab": {
          "base_uri": "https://localhost:8080/"
        },
        "id": "50132cb9-8696-42b1-8782-67d0455cedf4",
        "outputId": "7488a90e-8b52-4bbd-f413-1d15497585ba"
      },
      "outputs": [
        {
          "name": "stdout",
          "output_type": "stream",
          "text": [
            "                            Fecha       Ventas     Ingresos  Promociones  \\\n",
            "count                        1000  1000.000000  1000.000000  1000.000000   \n",
            "mean   2022-04-12 09:47:31.200000   536.747000  5549.576778     9.145000   \n",
            "min           2022-01-01 00:00:00   100.000000  1001.680425     0.000000   \n",
            "25%           2022-02-23 00:00:00   300.000000  3310.944888     4.000000   \n",
            "50%           2022-04-13 00:00:00   531.500000  5512.213147     9.000000   \n",
            "75%           2022-05-30 00:00:00   762.000000  7825.842187    14.000000   \n",
            "max           2022-07-19 00:00:00   999.000000  9992.872002    19.000000   \n",
            "std                           NaN   266.333705  2586.200645     5.792714   \n",
            "\n",
            "         Descuento  \n",
            "count  1000.000000  \n",
            "mean      0.143675  \n",
            "min       0.000022  \n",
            "25%       0.068575  \n",
            "50%       0.142516  \n",
            "75%       0.215175  \n",
            "max       0.298720  \n",
            "std       0.084841  \n"
          ]
        }
      ],
      "source": [
        "# Estadísticas descriptivas\n",
        "desc_stats = df.describe()\n",
        "print(desc_stats)\n"
      ]
    },
    {
      "cell_type": "code",
      "execution_count": null,
      "id": "40a1e08b-8ed0-419b-983b-07ce52720857",
      "metadata": {
        "colab": {
          "base_uri": "https://localhost:8080/"
        },
        "id": "40a1e08b-8ed0-419b-983b-07ce52720857",
        "outputId": "f6a4016b-fbbc-4dfe-aa0c-0c02548f1ffa"
      },
      "outputs": [
        {
          "name": "stdout",
          "output_type": "stream",
          "text": [
            "Análisis de la variable 'Fecha':\n",
            "count                          1000\n",
            "mean     2022-04-12 09:47:31.200000\n",
            "min             2022-01-01 00:00:00\n",
            "25%             2022-02-23 00:00:00\n",
            "50%             2022-04-13 00:00:00\n",
            "75%             2022-05-30 00:00:00\n",
            "max             2022-07-19 00:00:00\n",
            "Name: Fecha, dtype: object\n"
          ]
        }
      ],
      "source": [
        "# Realizar el anàlisis descriptivo de cada variable utilice librerias\n",
        "# Convertir la columna 'Fecha' a tipo datetime si no lo está\n",
        "df['Fecha'] = pd.to_datetime(df['Fecha'])\n",
        "\n",
        "# Análisis de la Variable 'Fecha'\n",
        "descripcion_fecha = df['Fecha'].describe()\n",
        "\n",
        "print(\"Análisis de la variable 'Fecha':\")\n",
        "print(descripcion_fecha)"
      ]
    },
    {
      "cell_type": "code",
      "execution_count": null,
      "id": "85SeR4Fikkql",
      "metadata": {
        "colab": {
          "base_uri": "https://localhost:8080/"
        },
        "id": "85SeR4Fikkql",
        "outputId": "15cd3ced-3f75-4804-c284-953f5c834a8e"
      },
      "outputs": [
        {
          "name": "stdout",
          "output_type": "stream",
          "text": [
            "\n",
            "Análisis de la variable 'Categoria':\n",
            "Categoria\n",
            "Comida para Peces     259\n",
            "Comida para Gatos     254\n",
            "Comida para Perros    254\n",
            "Comida para Aves      233\n",
            "Name: count, dtype: int64\n"
          ]
        }
      ],
      "source": [
        "# Análisis de la Variable 'Categoria'\n",
        "# Conteo de valores para la variable 'Categoria'\n",
        "conteo_categorias = df['Categoria'].value_counts()\n",
        "\n",
        "print(\"\\nAnálisis de la variable 'Categoria':\")\n",
        "print(conteo_categorias)"
      ]
    },
    {
      "cell_type": "code",
      "execution_count": null,
      "id": "nHzvgxPjlD6d",
      "metadata": {
        "colab": {
          "base_uri": "https://localhost:8080/"
        },
        "id": "nHzvgxPjlD6d",
        "outputId": "e07f7858-7f64-4d7d-dde3-1509d3bbcacc"
      },
      "outputs": [
        {
          "name": "stdout",
          "output_type": "stream",
          "text": [
            "\n",
            "Análisis de la variable Ventas:\n",
            "            Ventas\n",
            "count  1000.000000\n",
            "mean    536.747000\n",
            "std     266.333705\n",
            "min     100.000000\n",
            "25%     300.000000\n",
            "50%     531.500000\n",
            "75%     762.000000\n",
            "max     999.000000\n"
          ]
        }
      ],
      "source": [
        "# Análisis descrptivo de la Variable Numérica: 'Ventas'\n",
        "# Estadísticas descriptivas para la variable Ventas\n",
        "descripcion_ventas = df[['Ventas']].describe()\n",
        "\n",
        "print(\"\\nAnálisis de la variable Ventas:\")\n",
        "print(descripcion_ventas)"
      ]
    },
    {
      "cell_type": "code",
      "execution_count": null,
      "id": "5tZNJtivl2eK",
      "metadata": {
        "colab": {
          "base_uri": "https://localhost:8080/"
        },
        "id": "5tZNJtivl2eK",
        "outputId": "7753cf04-2e7e-453a-e45c-f22fe7994876"
      },
      "outputs": [
        {
          "name": "stdout",
          "output_type": "stream",
          "text": [
            "\n",
            "Análisis de la variable Ingresos:\n",
            "          Ingresos\n",
            "count  1000.000000\n",
            "mean   5549.576778\n",
            "std    2586.200645\n",
            "min    1001.680425\n",
            "25%    3310.944888\n",
            "50%    5512.213147\n",
            "75%    7825.842187\n",
            "max    9992.872002\n"
          ]
        }
      ],
      "source": [
        "# Análisis descrptivo de la Variable Numérica: 'Ventas'\n",
        "# Estadísticas descriptivas para la variable Ventas\n",
        "descripcion_ingresos = df[['Ingresos']].describe()\n",
        "\n",
        "print(\"\\nAnálisis de la variable Ingresos:\")\n",
        "print(descripcion_ingresos)"
      ]
    },
    {
      "cell_type": "code",
      "execution_count": null,
      "id": "efjge3rgmI-Z",
      "metadata": {
        "colab": {
          "base_uri": "https://localhost:8080/"
        },
        "id": "efjge3rgmI-Z",
        "outputId": "7d8aa93f-8506-467a-b84b-a152067a72b3"
      },
      "outputs": [
        {
          "name": "stdout",
          "output_type": "stream",
          "text": [
            "\n",
            "Análisis de la variable promociones:\n",
            "       Promociones\n",
            "count  1000.000000\n",
            "mean      9.145000\n",
            "std       5.792714\n",
            "min       0.000000\n",
            "25%       4.000000\n",
            "50%       9.000000\n",
            "75%      14.000000\n",
            "max      19.000000\n"
          ]
        }
      ],
      "source": [
        "# Análisis descrptivo de la Variable Numérica: 'Ventas'\n",
        "# Estadísticas descriptivas para la variable Ventas\n",
        "descripcion_promociones = df[['Promociones']].describe()\n",
        "\n",
        "print(\"\\nAnálisis de la variable promociones:\")\n",
        "print(descripcion_promociones)"
      ]
    },
    {
      "cell_type": "code",
      "execution_count": null,
      "id": "7XwYVtGCmTCg",
      "metadata": {
        "colab": {
          "base_uri": "https://localhost:8080/"
        },
        "id": "7XwYVtGCmTCg",
        "outputId": "10a6b5c5-624e-41dd-e978-02d5e75d34e4"
      },
      "outputs": [
        {
          "name": "stdout",
          "output_type": "stream",
          "text": [
            "\n",
            "Análisis de la variable Descuentos:\n",
            "         Descuento\n",
            "count  1000.000000\n",
            "mean      0.143675\n",
            "std       0.084841\n",
            "min       0.000022\n",
            "25%       0.068575\n",
            "50%       0.142516\n",
            "75%       0.215175\n",
            "max       0.298720\n"
          ]
        }
      ],
      "source": [
        "# Análisis descrptivo de la Variable Numérica: 'Ventas'\n",
        "# Estadísticas descriptivas para la variable Ventas\n",
        "descripcion_numericas = df[['Descuento']].describe()\n",
        "\n",
        "print(\"\\nAnálisis de la variable Descuentos:\")\n",
        "print(descripcion_numericas)"
      ]
    },
    {
      "cell_type": "code",
      "execution_count": null,
      "id": "3OWmhZpJxk8o",
      "metadata": {
        "colab": {
          "base_uri": "https://localhost:8080/"
        },
        "id": "3OWmhZpJxk8o",
        "outputId": "497ebabe-aba5-4b9a-f3cd-ff21a080e464"
      },
      "outputs": [
        {
          "name": "stdout",
          "output_type": "stream",
          "text": [
            "Requirement already satisfied: sweetviz in c:\\users\\asus\\anaconda3\\lib\\site-packages (2.3.1)\n",
            "Requirement already satisfied: pandas!=1.0.0,!=1.0.1,!=1.0.2,>=0.25.3 in c:\\users\\asus\\anaconda3\\lib\\site-packages (from sweetviz) (2.2.1)\n",
            "Requirement already satisfied: numpy>=1.16.0 in c:\\users\\asus\\anaconda3\\lib\\site-packages (from sweetviz) (1.26.4)\n",
            "Requirement already satisfied: matplotlib>=3.1.3 in c:\\users\\asus\\anaconda3\\lib\\site-packages (from sweetviz) (3.8.4)\n",
            "Requirement already satisfied: tqdm>=4.43.0 in c:\\users\\asus\\anaconda3\\lib\\site-packages (from sweetviz) (4.66.2)\n",
            "Requirement already satisfied: scipy>=1.3.2 in c:\\users\\asus\\anaconda3\\lib\\site-packages (from sweetviz) (1.13.0)\n",
            "Requirement already satisfied: jinja2>=2.11.1 in c:\\users\\asus\\anaconda3\\lib\\site-packages (from sweetviz) (3.1.3)\n",
            "Requirement already satisfied: importlib-resources>=1.2.0 in c:\\users\\asus\\anaconda3\\lib\\site-packages (from sweetviz) (6.4.0)\n",
            "Requirement already satisfied: MarkupSafe>=2.0 in c:\\users\\asus\\anaconda3\\lib\\site-packages (from jinja2>=2.11.1->sweetviz) (2.1.3)\n",
            "Requirement already satisfied: contourpy>=1.0.1 in c:\\users\\asus\\anaconda3\\lib\\site-packages (from matplotlib>=3.1.3->sweetviz) (1.2.0)\n",
            "Requirement already satisfied: cycler>=0.10 in c:\\users\\asus\\anaconda3\\lib\\site-packages (from matplotlib>=3.1.3->sweetviz) (0.11.0)\n",
            "Requirement already satisfied: fonttools>=4.22.0 in c:\\users\\asus\\anaconda3\\lib\\site-packages (from matplotlib>=3.1.3->sweetviz) (4.51.0)\n",
            "Requirement already satisfied: kiwisolver>=1.3.1 in c:\\users\\asus\\anaconda3\\lib\\site-packages (from matplotlib>=3.1.3->sweetviz) (1.4.4)\n",
            "Requirement already satisfied: packaging>=20.0 in c:\\users\\asus\\anaconda3\\lib\\site-packages (from matplotlib>=3.1.3->sweetviz) (23.2)\n",
            "Requirement already satisfied: pillow>=8 in c:\\users\\asus\\anaconda3\\lib\\site-packages (from matplotlib>=3.1.3->sweetviz) (10.3.0)\n",
            "Requirement already satisfied: pyparsing>=2.3.1 in c:\\users\\asus\\anaconda3\\lib\\site-packages (from matplotlib>=3.1.3->sweetviz) (3.0.9)\n",
            "Requirement already satisfied: python-dateutil>=2.7 in c:\\users\\asus\\anaconda3\\lib\\site-packages (from matplotlib>=3.1.3->sweetviz) (2.8.2)\n",
            "Requirement already satisfied: pytz>=2020.1 in c:\\users\\asus\\anaconda3\\lib\\site-packages (from pandas!=1.0.0,!=1.0.1,!=1.0.2,>=0.25.3->sweetviz) (2024.1)\n",
            "Requirement already satisfied: tzdata>=2022.7 in c:\\users\\asus\\anaconda3\\lib\\site-packages (from pandas!=1.0.0,!=1.0.1,!=1.0.2,>=0.25.3->sweetviz) (2023.3)\n",
            "Requirement already satisfied: colorama in c:\\users\\asus\\anaconda3\\lib\\site-packages (from tqdm>=4.43.0->sweetviz) (0.4.6)\n",
            "Requirement already satisfied: six>=1.5 in c:\\users\\asus\\anaconda3\\lib\\site-packages (from python-dateutil>=2.7->matplotlib>=3.1.3->sweetviz) (1.16.0)\n"
          ]
        }
      ],
      "source": [
        "!pip install sweetviz"
      ]
    },
    {
      "cell_type": "code",
      "execution_count": null,
      "id": "DBJkcqD0xrSP",
      "metadata": {
        "id": "DBJkcqD0xrSP"
      },
      "outputs": [],
      "source": [
        "import sweetviz as sv"
      ]
    },
    {
      "cell_type": "code",
      "execution_count": null,
      "id": "vFodGGD1xto5",
      "metadata": {
        "colab": {
          "base_uri": "https://localhost:8080/",
          "height": 49,
          "referenced_widgets": [
            "5ccdaf10cab3467295fa8a52e9b07505",
            "132c8538f12c4354af6d89b1cd13d1fe",
            "a8719f7cf21d422aa80d079757e6209c",
            "a9fe5608b2ab464a8990f8f178b86456",
            "32e8d1a7be0a416caa7580f2b91ba430",
            "6f4af80503304cb094dc9d8b9154c6fc",
            "d25f9c5486844eefa712b171d5e66fc5",
            "ee174affad034adead0be5f43cc8055d",
            "34d660d203e943aa84ee8881064e454c",
            "bbcaaa17e8134c84b8ad693e529b2b4c",
            "97d3afb4f45240109963c67792b426d5",
            "f7ddd3337f7043a1a977639f4a6091d4"
          ]
        },
        "id": "vFodGGD1xto5",
        "outputId": "f81b1a66-8d39-4b4f-cc4d-d42f10a052e7"
      },
      "outputs": [
        {
          "data": {
            "application/vnd.jupyter.widget-view+json": {
              "model_id": "f7ddd3337f7043a1a977639f4a6091d4",
              "version_major": 2,
              "version_minor": 0
            },
            "text/plain": [
              "                                             |          | [  0%]   00:00 -> (? left)"
            ]
          },
          "metadata": {},
          "output_type": "display_data"
        }
      ],
      "source": [
        "advert_report = sv.analyze([df, \"Generación de un reporte de las ventas de comida para 4 tipos de animales:\"])"
      ]
    },
    {
      "cell_type": "code",
      "execution_count": null,
      "id": "LCbqw9vCx72h",
      "metadata": {
        "colab": {
          "base_uri": "https://localhost:8080/"
        },
        "id": "LCbqw9vCx72h",
        "outputId": "fcd85f12-8531-4fe1-8e2c-979b67ee7ad7"
      },
      "outputs": [
        {
          "name": "stdout",
          "output_type": "stream",
          "text": [
            "Report SWEETVIZ_REPORT.html was generated! NOTEBOOK/COLAB USERS: the web browser MAY not pop up, regardless, the report IS saved in your notebook/colab files.\n"
          ]
        }
      ],
      "source": [
        "advert_report.show_html()"
      ]
    },
    {
      "cell_type": "markdown",
      "id": "0d971ef2-012d-48a5-9937-e0913eb60f39",
      "metadata": {
        "id": "0d971ef2-012d-48a5-9937-e0913eb60f39"
      },
      "source": [
        "## 3. Análisis Predictivo\n",
        "\n",
        "Utilizaremos un modelo de regresión lineal para predecir las ventas."
      ]
    },
    {
      "cell_type": "code",
      "execution_count": null,
      "id": "1f86c4f8-e2c4-4d0f-b59a-161d7dee7fee",
      "metadata": {
        "colab": {
          "base_uri": "https://localhost:8080/",
          "height": 593
        },
        "id": "1f86c4f8-e2c4-4d0f-b59a-161d7dee7fee",
        "outputId": "6d5bf96a-1369-4588-cc41-8e602eb5c360"
      },
      "outputs": [
        {
          "name": "stdout",
          "output_type": "stream",
          "text": [
            "Error cuadrático medio (MSE): 75178.40923049267\n",
            "Coeficiente de determinación (R^2): -0.008509598927873396\n"
          ]
        },
        {
          "data": {
            "image/png": "[encoded data removed]",
            "text/plain": [
              "<Figure size 1000x600 with 1 Axes>"
            ]
          },
          "metadata": {},
          "output_type": "display_data"
        }
      ],
      "source": [
        "from sklearn.model_selection import train_test_split\n",
        "from sklearn.linear_model import LinearRegression\n",
        "from sklearn.metrics import mean_squared_error, r2_score\n",
        "import matplotlib.pyplot as plt\n",
        "\n",
        "# Preparar los datos\n",
        "X = df[['Ingresos', 'Promociones', 'Descuento']]\n",
        "y = df['Ventas']\n",
        "X_train, X_test, y_train, y_test = train_test_split(X, y, test_size=0.2, random_state=42)\n",
        "\n",
        "# Modelo de regresión\n",
        "model = LinearRegression()\n",
        "model.fit(X_train, y_train)\n",
        "\n",
        "# Predicciones\n",
        "predicciones = model.predict(X_test)\n",
        "\n",
        "# Métricas del modelo\n",
        "mse = mean_squared_error(y_test, predicciones)\n",
        "r2 = r2_score(y_test, predicciones)\n",
        "print(f'Error cuadrático medio (MSE): {mse}')\n",
        "print(f'Coeficiente de determinación (R^2): {r2}')\n",
        "\n",
        "#Representar de manera Gràfica\n",
        "plt.figure(figsize=(10, 6))\n",
        "\n",
        "plt.scatter(y_test, predicciones, color='blue', label='Predicciones')\n",
        "plt.plot([y_test.min(), y_test.max()], [y_test.min(), y_test.max()], color='red', linestyle='--', lw=2, label='Línea de referencia')\n",
        "plt.title('Predicciones vs Valores Reales')\n",
        "plt.xlabel('Valores Reales')\n",
        "plt.ylabel('Predicciones')\n",
        "plt.legend()\n",
        "plt.grid(True)\n",
        "plt.show()"
      ]
    },
    {
      "cell_type": "code",
      "execution_count": null,
      "id": "jID7uh1YrKs9",
      "metadata": {
        "colab": {
          "base_uri": "https://localhost:8080/",
          "height": 34
        },
        "id": "jID7uh1YrKs9",
        "outputId": "84e4e71b-d765-437d-f689-9412e04c9684"
      },
      "outputs": [
        {
          "data": {
            "text/plain": [
              "<Figure size 640x480 with 0 Axes>"
            ]
          },
          "metadata": {},
          "output_type": "display_data"
        }
      ],
      "source": [
        "# Guardar el gráfico como imagen PNG\n",
        "plt.savefig('Predicciones vs valores reales.png')"
      ]
    },
    {
      "cell_type": "markdown",
      "id": "fc3ea991-a7d0-4a8a-b086-9bb97dbd916e",
      "metadata": {
        "id": "fc3ea991-a7d0-4a8a-b086-9bb97dbd916e"
      },
      "source": [
        "## 4. Análisis de Series Temporales\n",
        "\n",
        "Realizaremos un análisis de series temporales con un gráfico."
      ]
    },
    {
      "cell_type": "code",
      "execution_count": null,
      "id": "705573a7-25db-4c00-bb6f-fbdebdc8285f",
      "metadata": {
        "colab": {
          "base_uri": "https://localhost:8080/",
          "height": 507
        },
        "id": "705573a7-25db-4c00-bb6f-fbdebdc8285f",
        "outputId": "88d6ad24-a3b1-4dd1-f8fa-644572376f06"
      },
      "outputs": [
        {
          "data": {
            "image/png": "[encoded data removed]",
            "text/plain": [
              "<Figure size 1000x500 with 1 Axes>"
            ]
          },
          "metadata": {},
          "output_type": "display_data"
        }
      ],
      "source": [
        "import matplotlib.pyplot as plt\n",
        "\n",
        "# Ventas por fecha\n",
        "ventas_fecha = df.groupby('Fecha').agg({'Ventas': 'sum'}).reset_index()\n",
        "\n",
        "plt.figure(figsize=(10, 5))\n",
        "plt.plot(ventas_fecha['Fecha'], ventas_fecha['Ventas'], marker='o')\n",
        "plt.title(\"Ventas a lo Largo del Tiempo\", fontsize=16)\n",
        "plt.xlabel(\"Fecha\", fontsize=14)\n",
        "plt.ylabel(\"Total Ventas\", fontsize=14)\n",
        "plt.xticks(rotation=45)\n",
        "plt.tight_layout()\n",
        "plt.show()\n",
        "\n"
      ]
    },
    {
      "cell_type": "code",
      "execution_count": null,
      "id": "orHH2nV7rWnQ",
      "metadata": {
        "colab": {
          "base_uri": "https://localhost:8080/",
          "height": 34
        },
        "id": "orHH2nV7rWnQ",
        "outputId": "57420004-eff5-44f4-ee88-b9821b573430"
      },
      "outputs": [
        {
          "data": {
            "text/plain": [
              "<Figure size 640x480 with 0 Axes>"
            ]
          },
          "metadata": {},
          "output_type": "display_data"
        }
      ],
      "source": [
        "# Guardar el gráfico como imagen PNG\n",
        "plt.savefig('Ventas a lo largo del tiempo.png')"
      ]
    },
    {
      "cell_type": "markdown",
      "id": "888f15eb-9c6e-4093-9ac2-2f0fbdce08df",
      "metadata": {
        "id": "888f15eb-9c6e-4093-9ac2-2f0fbdce08df"
      },
      "source": [
        "## 5. Segmentación de Datos\n",
        "Realizaremos la segmentación de los datos."
      ]
    },
    {
      "cell_type": "code",
      "execution_count": null,
      "id": "7268a02b-27e2-469b-88a4-dc715f9b54b6",
      "metadata": {
        "colab": {
          "base_uri": "https://localhost:8080/",
          "height": 407
        },
        "id": "7268a02b-27e2-469b-88a4-dc715f9b54b6",
        "outputId": "42ce8284-9999-472a-ce02-ccdc43cfd6ed"
      },
      "outputs": [
        {
          "data": {
            "image/png": "[encoded data removed]",
            "text/plain": [
              "<Figure size 800x400 with 1 Axes>"
            ]
          },
          "metadata": {},
          "output_type": "display_data"
        }
      ],
      "source": [
        "segmentos = df.groupby('Categoria').agg({'Ventas': 'mean'}).reset_index()\n",
        "\n",
        "plt.figure(figsize=(8, 4))\n",
        "plt.bar(segmentos['Categoria'], segmentos['Ventas'], color='lightblue')\n",
        "plt.title(\"Promedio de Ventas por Categoría\", fontsize=16)\n",
        "plt.xlabel(\"Categoría\", fontsize=14)\n",
        "plt.ylabel(\"Promedio Ventas\", fontsize=14)\n",
        "plt.tight_layout()\n",
        "plt.show()\n"
      ]
    },
    {
      "cell_type": "code",
      "execution_count": null,
      "id": "q4DQJOA_qwA4",
      "metadata": {
        "colab": {
          "base_uri": "https://localhost:8080/",
          "height": 34
        },
        "id": "q4DQJOA_qwA4",
        "outputId": "38138beb-d8ef-4f48-d7e1-b1f2e9f13c9f"
      },
      "outputs": [
        {
          "data": {
            "text/plain": [
              "<Figure size 640x480 with 0 Axes>"
            ]
          },
          "metadata": {},
          "output_type": "display_data"
        }
      ],
      "source": [
        "# Guardar el gráfico como imagen PNG\n",
        "plt.savefig('Promedio de ventas por categoria.png')"
      ]
    },
    {
      "cell_type": "markdown",
      "id": "5f09ca05-de69-4638-8d3f-ca07da5e95db",
      "metadata": {
        "id": "5f09ca05-de69-4638-8d3f-ca07da5e95db"
      },
      "source": [
        "## 6. Optimización y Modelo de Decisiones\n",
        "\n",
        "Realizaremos una optimización simple usando scipy."
      ]
    },
    {
      "cell_type": "code",
      "execution_count": null,
      "id": "a70e4205-8fb4-43f1-96e6-0fbbf35731ea",
      "metadata": {
        "colab": {
          "base_uri": "https://localhost:8080/"
        },
        "id": "a70e4205-8fb4-43f1-96e6-0fbbf35731ea",
        "outputId": "b00569a5-018a-49bf-a967-ca914f004bb4"
      },
      "outputs": [
        {
          "name": "stdout",
          "output_type": "stream",
          "text": [
            "Resultados de la optimización:         message: Optimization terminated successfully. (HiGHS Status 7: Optimal)\n",
            "        success: True\n",
            "         status: 0\n",
            "            fun: -500.00000000000006\n",
            "              x: [ 0.000e+00  3.333e+01]\n",
            "            nit: 1\n",
            "          lower:  residual: [ 0.000e+00  3.333e+01]\n",
            "                 marginals: [ 0.000e+00  0.000e+00]\n",
            "          upper:  residual: [       inf        inf]\n",
            "                 marginals: [ 0.000e+00  0.000e+00]\n",
            "          eqlin:  residual: []\n",
            "                 marginals: []\n",
            "        ineqlin:  residual: [ 6.667e+00  0.000e+00]\n",
            "                 marginals: [-0.000e+00 -1.000e+00]\n",
            " mip_node_count: 0\n",
            " mip_dual_bound: 0.0\n",
            "        mip_gap: 0.0\n"
          ]
        }
      ],
      "source": [
        "from scipy.optimize import linprog\n",
        "\n",
        "# Definir coeficientes de la función objetivo (negativa para maximizar)\n",
        "c = [-20, -15]  # Ejemplo de coeficientes\n",
        "A = [[1, 1], [20, 15]]\n",
        "b = [40, 500]\n",
        "\n",
        "# Realizar la optimización\n",
        "res = linprog(c, A_ub=A, b_ub=b)\n",
        "print(\"Resultados de la optimización:\", res)\n"
      ]
    },
    {
      "cell_type": "markdown",
      "id": "0258cf46-3c00-4622-9758-f6af24201111",
      "metadata": {
        "id": "0258cf46-3c00-4622-9758-f6af24201111"
      },
      "source": [
        "## 7. Crear la Presentación Ejecutiva\n",
        "\n",
        "Finalmente, crearemos la presentación en PowerPoint."
      ]
    },
    {
      "cell_type": "code",
      "execution_count": null,
      "id": "UsMFnROfoEr4",
      "metadata": {
        "colab": {
          "base_uri": "https://localhost:8080/"
        },
        "id": "UsMFnROfoEr4",
        "outputId": "bac92223-61e8-4cd2-8482-8fd4a3c56837"
      },
      "outputs": [
        {
          "name": "stdout",
          "output_type": "stream",
          "text": [
            "Requirement already satisfied: python-pptx in c:\\users\\asus\\anaconda3\\lib\\site-packages (0.6.23)\n",
            "Requirement already satisfied: lxml>=3.1.0 in c:\\users\\asus\\anaconda3\\lib\\site-packages (from python-pptx) (5.2.1)\n",
            "Requirement already satisfied: Pillow>=3.3.2 in c:\\users\\asus\\anaconda3\\lib\\site-packages (from python-pptx) (10.3.0)\n",
            "Requirement already satisfied: XlsxWriter>=0.5.7 in c:\\users\\asus\\anaconda3\\lib\\site-packages (from python-pptx) (3.2.0)\n"
          ]
        }
      ],
      "source": [
        "!pip install python-pptx\n"
      ]
    },
    {
      "cell_type": "code",
      "execution_count": null,
      "id": "d32bb288-c19f-46ad-b39f-45f2e78e6992",
      "metadata": {
        "id": "d32bb288-c19f-46ad-b39f-45f2e78e6992"
      },
      "outputs": [],
      "source": [
        "from pptx import Presentation\n",
        "from pptx.util import Inches\n",
        "\n",
        "# Crear presentación\n",
        "prs = Presentation()\n",
        "\n",
        "# Función para agregar un título y un subtítulo\n",
        "def add_title_slide(title, subtitle):\n",
        "    slide = prs.slides.add_slide(prs.slide_layouts[0])\n",
        "    slide.shapes.title.text = title\n",
        "    slide.placeholders[1].text = subtitle\n",
        "\n",
        "# Diapositiva de título\n",
        "add_title_slide(\"Análisis de Ventas de Comida para Mascotas\", \"Análisis completo de datos y resultados\")\n",
        "\n",
        "# Estadísticas Descriptivas\n",
        "slide = prs.slides.add_slide(prs.slide_layouts[5])\n",
        "title = slide.shapes.title\n",
        "title.text = \"Estadísticas Descriptivas\"\n",
        "content = slide.shapes.add_textbox(Inches(0.5), Inches(1), Inches(8), Inches(5))\n",
        "content.text = desc_stats.to_string()\n",
        "\n",
        "# Gráfico de Predicciones vs Valores reales\n",
        "slide = prs.slides.add_slide(prs.slide_layouts[5])\n",
        "title = slide.shapes.title\n",
        "title.text = \"Predicciones vs Valores reales\"\n",
        "slide.shapes.add_picture(\"Predicciones vs valores reales.png\", Inches(0.5), Inches(1), width=Inches(8))\n",
        "\n",
        "# Análisis de Ventas a lo largo del tiempo\n",
        "slide = prs.slides.add_slide(prs.slide_layouts[5])\n",
        "title = slide.shapes.title\n",
        "title.text = \"Ventas a lo Largo del Tiempo\"\n",
        "slide.shapes.add_picture(\"Ventas a lo largo del tiempo.png\", Inches(0.5), Inches(1), width=Inches(8))\n",
        "\n",
        "# Análisis de Promedio de ventas por categoria\n",
        "slide = prs.slides.add_slide(prs.slide_layouts[5])\n",
        "title = slide.shapes.title\n",
        "title.text = \"Promedio de ventas por categoria\"\n",
        "slide.shapes.add_picture(\"Promedio de ventas por categoria.png\", Inches(0.5), Inches(1), width=Inches(8))\n",
        "\n",
        "# Resultados de Optimización\n",
        "slide = prs.slides.add_slide(prs.slide_layouts[5])\n",
        "title = slide.shapes.title\n",
        "title.text = \"Resultados de Optimización\"\n",
        "optimization_result = f\"Comida para Perros: {res.x[0]:.2f}\\nComida para Gatos: {res.x[1]:.2f}\\nGanancia Total: {-res.fun:.2f}\"\n",
        "content = slide.shapes.add_textbox(Inches(0.5), Inches(1), Inches(8), Inches(5))\n",
        "content.text = optimization_result\n",
        "\n",
        "# Conclusiones\n",
        "slide = prs.slides.add_slide(prs.slide_layouts[5])\n",
        "title = slide.shapes.title\n",
        "title.text = \"Conclusiones Finales\"\n",
        "conclusiones = (\n",
        "    \"1. Identificamos las categorías más vendidas y sus tendencias.\\n\"\n",
        "    \"2. El modelo predictivo proporciona información valiosa sobre ventas.\\n\"\n",
        "    \"3. Las promociones tienen un impacto significativo en las ventas.\\n\"\n",
        "    \"4. La optimización sugiere cantidades óptimas para maximizar ganancias.\"\n",
        ")\n",
        "content = slide.shapes.add_textbox(Inches(0.5), Inches(1), Inches(8), Inches(5))\n",
        "content.text = conclusiones"
      ]
    },
    {
      "cell_type": "code",
      "execution_count": null,
      "id": "2BL9QztSsI7h",
      "metadata": {
        "id": "2BL9QztSsI7h"
      },
      "outputs": [],
      "source": [
        "# Guardar la presentación\n",
        "prs.save(\"Analisis_Ventas_Pets_Completo.pptx\")"
      ]
    },
    {
      "cell_type": "code",
      "execution_count": null,
      "id": "e3469328-6887-49c3-b1d3-e5abf2be428d",
      "metadata": {
        "colab": {
          "base_uri": "https://localhost:8080/"
        },
        "id": "e3469328-6887-49c3-b1d3-e5abf2be428d",
        "outputId": "6ea24e15-8b15-4b9b-a0d8-5c2a449c9bbb"
      },
      "outputs": [
        {
          "name": "stdout",
          "output_type": "stream",
          "text": [
            "Requirement already satisfied: powerbiclient in c:\\users\\asus\\anaconda3\\lib\\site-packages (3.1.1)\n",
            "Requirement already satisfied: ipywidgets>=7.0.0 in c:\\users\\asus\\anaconda3\\lib\\site-packages (from powerbiclient) (7.6.5)\n",
            "Requirement already satisfied: jupyter-ui-poll>=0.1.2 in c:\\users\\asus\\anaconda3\\lib\\site-packages (from powerbiclient) (0.2.2)\n",
            "Requirement already satisfied: msal>=1.8.0 in c:\\users\\asus\\anaconda3\\lib\\site-packages (from powerbiclient) (1.28.0)\n",
            "Requirement already satisfied: requests>=2.25.1 in c:\\users\\asus\\anaconda3\\lib\\site-packages (from powerbiclient) (2.31.0)\n",
            "Requirement already satisfied: pandas in c:\\users\\asus\\anaconda3\\lib\\site-packages (from powerbiclient) (2.2.1)\n",
            "Requirement already satisfied: pyspark in c:\\users\\asus\\anaconda3\\lib\\site-packages (from powerbiclient) (3.5.1)\n",
            "Requirement already satisfied: ipykernel>=4.5.1 in c:\\users\\asus\\anaconda3\\lib\\site-packages (from ipywidgets>=7.0.0->powerbiclient) (6.28.0)\n",
            "Requirement already satisfied: ipython-genutils~=0.2.0 in c:\\users\\asus\\anaconda3\\lib\\site-packages (from ipywidgets>=7.0.0->powerbiclient) (0.2.0)\n",
            "Requirement already satisfied: traitlets>=4.3.1 in c:\\users\\asus\\anaconda3\\lib\\site-packages (from ipywidgets>=7.0.0->powerbiclient) (5.7.1)\n",
            "Requirement already satisfied: nbformat>=4.2.0 in c:\\users\\asus\\anaconda3\\lib\\site-packages (from ipywidgets>=7.0.0->powerbiclient) (5.9.2)\n",
            "Requirement already satisfied: widgetsnbextension~=3.5.0 in c:\\users\\asus\\anaconda3\\lib\\site-packages (from ipywidgets>=7.0.0->powerbiclient) (3.5.2)\n",
            "Requirement already satisfied: ipython>=4.0.0 in c:\\users\\asus\\anaconda3\\lib\\site-packages (from ipywidgets>=7.0.0->powerbiclient) (8.20.0)\n",
            "Requirement already satisfied: jupyterlab-widgets>=1.0.0 in c:\\users\\asus\\anaconda3\\lib\\site-packages (from ipywidgets>=7.0.0->powerbiclient) (3.0.10)\n",
            "Requirement already satisfied: PyJWT<3,>=1.0.0 in c:\\users\\asus\\anaconda3\\lib\\site-packages (from PyJWT[crypto]<3,>=1.0.0->msal>=1.8.0->powerbiclient) (2.8.0)\n",
            "Requirement already satisfied: cryptography<45,>=0.6 in c:\\users\\asus\\anaconda3\\lib\\site-packages (from msal>=1.8.0->powerbiclient) (42.0.5)\n",
            "Requirement already satisfied: charset-normalizer<4,>=2 in c:\\users\\asus\\anaconda3\\lib\\site-packages (from requests>=2.25.1->powerbiclient) (2.0.4)\n",
            "Requirement already satisfied: idna<4,>=2.5 in c:\\users\\asus\\anaconda3\\lib\\site-packages (from requests>=2.25.1->powerbiclient) (3.7)\n",
            "Requirement already satisfied: urllib3<3,>=1.21.1 in c:\\users\\asus\\anaconda3\\lib\\site-packages (from requests>=2.25.1->powerbiclient) (2.2.1)\n",
            "Requirement already satisfied: certifi>=2017.4.17 in c:\\users\\asus\\anaconda3\\lib\\site-packages (from requests>=2.25.1->powerbiclient) (2024.2.2)\n",
            "Requirement already satisfied: numpy<2,>=1.23.2 in c:\\users\\asus\\anaconda3\\lib\\site-packages (from pandas->powerbiclient) (1.26.4)\n",
            "Requirement already satisfied: python-dateutil>=2.8.2 in c:\\users\\asus\\anaconda3\\lib\\site-packages (from pandas->powerbiclient) (2.8.2)\n",
            "Requirement already satisfied: pytz>=2020.1 in c:\\users\\asus\\anaconda3\\lib\\site-packages (from pandas->powerbiclient) (2024.1)\n",
            "Requirement already satisfied: tzdata>=2022.7 in c:\\users\\asus\\anaconda3\\lib\\site-packages (from pandas->powerbiclient) (2023.3)\n",
            "Requirement already satisfied: py4j==0.10.9.7 in c:\\users\\asus\\anaconda3\\lib\\site-packages (from pyspark->powerbiclient) (0.10.9.7)\n",
            "Requirement already satisfied: cffi>=1.12 in c:\\users\\asus\\anaconda3\\lib\\site-packages (from cryptography<45,>=0.6->msal>=1.8.0->powerbiclient) (1.16.0)\n",
            "Requirement already satisfied: comm>=0.1.1 in c:\\users\\asus\\anaconda3\\lib\\site-packages (from ipykernel>=4.5.1->ipywidgets>=7.0.0->powerbiclient) (0.2.1)\n",
            "Requirement already satisfied: debugpy>=1.6.5 in c:\\users\\asus\\anaconda3\\lib\\site-packages (from ipykernel>=4.5.1->ipywidgets>=7.0.0->powerbiclient) (1.6.7)\n",
            "Requirement already satisfied: jupyter-client>=6.1.12 in c:\\users\\asus\\anaconda3\\lib\\site-packages (from ipykernel>=4.5.1->ipywidgets>=7.0.0->powerbiclient) (7.4.9)\n",
            "Requirement already satisfied: jupyter-core!=5.0.*,>=4.12 in c:\\users\\asus\\anaconda3\\lib\\site-packages (from ipykernel>=4.5.1->ipywidgets>=7.0.0->powerbiclient) (5.5.0)\n",
            "Requirement already satisfied: matplotlib-inline>=0.1 in c:\\users\\asus\\anaconda3\\lib\\site-packages (from ipykernel>=4.5.1->ipywidgets>=7.0.0->powerbiclient) (0.1.6)\n",
            "Requirement already satisfied: nest-asyncio in c:\\users\\asus\\anaconda3\\lib\\site-packages (from ipykernel>=4.5.1->ipywidgets>=7.0.0->powerbiclient) (1.6.0)\n",
            "Requirement already satisfied: packaging in c:\\users\\asus\\anaconda3\\lib\\site-packages (from ipykernel>=4.5.1->ipywidgets>=7.0.0->powerbiclient) (23.2)\n",
            "Requirement already satisfied: psutil in c:\\users\\asus\\anaconda3\\lib\\site-packages (from ipykernel>=4.5.1->ipywidgets>=7.0.0->powerbiclient) (5.9.0)\n",
            "Requirement already satisfied: pyzmq>=24 in c:\\users\\asus\\anaconda3\\lib\\site-packages (from ipykernel>=4.5.1->ipywidgets>=7.0.0->powerbiclient) (24.0.1)\n",
            "Requirement already satisfied: tornado>=6.1 in c:\\users\\asus\\anaconda3\\lib\\site-packages (from ipykernel>=4.5.1->ipywidgets>=7.0.0->powerbiclient) (6.3.3)\n",
            "Requirement already satisfied: decorator in c:\\users\\asus\\anaconda3\\lib\\site-packages (from ipython>=4.0.0->ipywidgets>=7.0.0->powerbiclient) (5.1.1)\n",
            "Requirement already satisfied: jedi>=0.16 in c:\\users\\asus\\anaconda3\\lib\\site-packages (from ipython>=4.0.0->ipywidgets>=7.0.0->powerbiclient) (0.18.1)\n",
            "Requirement already satisfied: prompt-toolkit<3.1.0,>=3.0.41 in c:\\users\\asus\\anaconda3\\lib\\site-packages (from ipython>=4.0.0->ipywidgets>=7.0.0->powerbiclient) (3.0.43)\n",
            "Requirement already satisfied: pygments>=2.4.0 in c:\\users\\asus\\anaconda3\\lib\\site-packages (from ipython>=4.0.0->ipywidgets>=7.0.0->powerbiclient) (2.15.1)\n",
            "Requirement already satisfied: stack-data in c:\\users\\asus\\anaconda3\\lib\\site-packages (from ipython>=4.0.0->ipywidgets>=7.0.0->powerbiclient) (0.2.0)\n",
            "Requirement already satisfied: colorama in c:\\users\\asus\\anaconda3\\lib\\site-packages (from ipython>=4.0.0->ipywidgets>=7.0.0->powerbiclient) (0.4.6)\n",
            "Requirement already satisfied: fastjsonschema in c:\\users\\asus\\anaconda3\\lib\\site-packages (from nbformat>=4.2.0->ipywidgets>=7.0.0->powerbiclient) (2.16.2)\n",
            "Requirement already satisfied: jsonschema>=2.6 in c:\\users\\asus\\anaconda3\\lib\\site-packages (from nbformat>=4.2.0->ipywidgets>=7.0.0->powerbiclient) (4.19.2)\n",
            "Requirement already satisfied: six>=1.5 in c:\\users\\asus\\anaconda3\\lib\\site-packages (from python-dateutil>=2.8.2->pandas->powerbiclient) (1.16.0)\n",
            "Requirement already satisfied: notebook>=4.4.1 in c:\\users\\asus\\anaconda3\\lib\\site-packages (from widgetsnbextension~=3.5.0->ipywidgets>=7.0.0->powerbiclient) (6.5.4)\n",
            "Requirement already satisfied: pycparser in c:\\users\\asus\\anaconda3\\lib\\site-packages (from cffi>=1.12->cryptography<45,>=0.6->msal>=1.8.0->powerbiclient) (2.21)\n",
            "Requirement already satisfied: parso<0.9.0,>=0.8.0 in c:\\users\\asus\\anaconda3\\lib\\site-packages (from jedi>=0.16->ipython>=4.0.0->ipywidgets>=7.0.0->powerbiclient) (0.8.3)\n",
            "Requirement already satisfied: attrs>=22.2.0 in c:\\users\\asus\\anaconda3\\lib\\site-packages (from jsonschema>=2.6->nbformat>=4.2.0->ipywidgets>=7.0.0->powerbiclient) (23.1.0)\n",
            "Requirement already satisfied: jsonschema-specifications>=2023.03.6 in c:\\users\\asus\\anaconda3\\lib\\site-packages (from jsonschema>=2.6->nbformat>=4.2.0->ipywidgets>=7.0.0->powerbiclient) (2023.7.1)\n",
            "Requirement already satisfied: referencing>=0.28.4 in c:\\users\\asus\\anaconda3\\lib\\site-packages (from jsonschema>=2.6->nbformat>=4.2.0->ipywidgets>=7.0.0->powerbiclient) (0.30.2)\n",
            "Requirement already satisfied: rpds-py>=0.7.1 in c:\\users\\asus\\anaconda3\\lib\\site-packages (from jsonschema>=2.6->nbformat>=4.2.0->ipywidgets>=7.0.0->powerbiclient) (0.10.6)\n",
            "Requirement already satisfied: entrypoints in c:\\users\\asus\\anaconda3\\lib\\site-packages (from jupyter-client>=6.1.12->ipykernel>=4.5.1->ipywidgets>=7.0.0->powerbiclient) (0.4)\n",
            "Requirement already satisfied: platformdirs>=2.5 in c:\\users\\asus\\anaconda3\\lib\\site-packages (from jupyter-core!=5.0.*,>=4.12->ipykernel>=4.5.1->ipywidgets>=7.0.0->powerbiclient) (3.10.0)\n",
            "Requirement already satisfied: pywin32>=300 in c:\\users\\asus\\anaconda3\\lib\\site-packages (from jupyter-core!=5.0.*,>=4.12->ipykernel>=4.5.1->ipywidgets>=7.0.0->powerbiclient) (305.1)\n",
            "Requirement already satisfied: jinja2 in c:\\users\\asus\\anaconda3\\lib\\site-packages (from notebook>=4.4.1->widgetsnbextension~=3.5.0->ipywidgets>=7.0.0->powerbiclient) (3.1.3)\n",
            "Requirement already satisfied: argon2-cffi in c:\\users\\asus\\anaconda3\\lib\\site-packages (from notebook>=4.4.1->widgetsnbextension~=3.5.0->ipywidgets>=7.0.0->powerbiclient) (21.3.0)\n",
            "Requirement already satisfied: nbconvert>=5 in c:\\users\\asus\\anaconda3\\lib\\site-packages (from notebook>=4.4.1->widgetsnbextension~=3.5.0->ipywidgets>=7.0.0->powerbiclient) (7.10.0)\n",
            "Requirement already satisfied: Send2Trash>=1.8.0 in c:\\users\\asus\\anaconda3\\lib\\site-packages (from notebook>=4.4.1->widgetsnbextension~=3.5.0->ipywidgets>=7.0.0->powerbiclient) (1.8.2)\n",
            "Requirement already satisfied: terminado>=0.8.3 in c:\\users\\asus\\anaconda3\\lib\\site-packages (from notebook>=4.4.1->widgetsnbextension~=3.5.0->ipywidgets>=7.0.0->powerbiclient) (0.17.1)\n",
            "Requirement already satisfied: prometheus-client in c:\\users\\asus\\anaconda3\\lib\\site-packages (from notebook>=4.4.1->widgetsnbextension~=3.5.0->ipywidgets>=7.0.0->powerbiclient) (0.14.1)\n",
            "Requirement already satisfied: nbclassic>=0.4.7 in c:\\users\\asus\\anaconda3\\lib\\site-packages (from notebook>=4.4.1->widgetsnbextension~=3.5.0->ipywidgets>=7.0.0->powerbiclient) (1.0.0)\n",
            "Requirement already satisfied: wcwidth in c:\\users\\asus\\anaconda3\\lib\\site-packages (from prompt-toolkit<3.1.0,>=3.0.41->ipython>=4.0.0->ipywidgets>=7.0.0->powerbiclient) (0.2.5)\n",
            "Requirement already satisfied: executing in c:\\users\\asus\\anaconda3\\lib\\site-packages (from stack-data->ipython>=4.0.0->ipywidgets>=7.0.0->powerbiclient) (0.8.3)\n",
            "Requirement already satisfied: asttokens in c:\\users\\asus\\anaconda3\\lib\\site-packages (from stack-data->ipython>=4.0.0->ipywidgets>=7.0.0->powerbiclient) (2.0.5)\n",
            "Requirement already satisfied: pure-eval in c:\\users\\asus\\anaconda3\\lib\\site-packages (from stack-data->ipython>=4.0.0->ipywidgets>=7.0.0->powerbiclient) (0.2.2)\n",
            "Requirement already satisfied: jupyter-server>=1.8 in c:\\users\\asus\\anaconda3\\lib\\site-packages (from nbclassic>=0.4.7->notebook>=4.4.1->widgetsnbextension~=3.5.0->ipywidgets>=7.0.0->powerbiclient) (2.10.0)\n",
            "Requirement already satisfied: notebook-shim>=0.2.3 in c:\\users\\asus\\anaconda3\\lib\\site-packages (from nbclassic>=0.4.7->notebook>=4.4.1->widgetsnbextension~=3.5.0->ipywidgets>=7.0.0->powerbiclient) (0.2.3)\n",
            "Requirement already satisfied: beautifulsoup4 in c:\\users\\asus\\anaconda3\\lib\\site-packages (from nbconvert>=5->notebook>=4.4.1->widgetsnbextension~=3.5.0->ipywidgets>=7.0.0->powerbiclient) (4.12.2)\n",
            "Requirement already satisfied: bleach!=5.0.0 in c:\\users\\asus\\anaconda3\\lib\\site-packages (from nbconvert>=5->notebook>=4.4.1->widgetsnbextension~=3.5.0->ipywidgets>=7.0.0->powerbiclient) (4.1.0)\n",
            "Requirement already satisfied: defusedxml in c:\\users\\asus\\anaconda3\\lib\\site-packages (from nbconvert>=5->notebook>=4.4.1->widgetsnbextension~=3.5.0->ipywidgets>=7.0.0->powerbiclient) (0.7.1)\n",
            "Requirement already satisfied: jupyterlab-pygments in c:\\users\\asus\\anaconda3\\lib\\site-packages (from nbconvert>=5->notebook>=4.4.1->widgetsnbextension~=3.5.0->ipywidgets>=7.0.0->powerbiclient) (0.1.2)\n",
            "Requirement already satisfied: markupsafe>=2.0 in c:\\users\\asus\\anaconda3\\lib\\site-packages (from nbconvert>=5->notebook>=4.4.1->widgetsnbextension~=3.5.0->ipywidgets>=7.0.0->powerbiclient) (2.1.3)\n",
            "Requirement already satisfied: mistune<4,>=2.0.3 in c:\\users\\asus\\anaconda3\\lib\\site-packages (from nbconvert>=5->notebook>=4.4.1->widgetsnbextension~=3.5.0->ipywidgets>=7.0.0->powerbiclient) (2.0.4)\n",
            "Requirement already satisfied: nbclient>=0.5.0 in c:\\users\\asus\\anaconda3\\lib\\site-packages (from nbconvert>=5->notebook>=4.4.1->widgetsnbextension~=3.5.0->ipywidgets>=7.0.0->powerbiclient) (0.8.0)\n",
            "Requirement already satisfied: pandocfilters>=1.4.1 in c:\\users\\asus\\anaconda3\\lib\\site-packages (from nbconvert>=5->notebook>=4.4.1->widgetsnbextension~=3.5.0->ipywidgets>=7.0.0->powerbiclient) (1.5.0)\n",
            "Requirement already satisfied: tinycss2 in c:\\users\\asus\\anaconda3\\lib\\site-packages (from nbconvert>=5->notebook>=4.4.1->widgetsnbextension~=3.5.0->ipywidgets>=7.0.0->powerbiclient) (1.2.1)\n",
            "Requirement already satisfied: pywinpty>=1.1.0 in c:\\users\\asus\\anaconda3\\lib\\site-packages (from terminado>=0.8.3->notebook>=4.4.1->widgetsnbextension~=3.5.0->ipywidgets>=7.0.0->powerbiclient) (2.0.10)\n",
            "Requirement already satisfied: argon2-cffi-bindings in c:\\users\\asus\\anaconda3\\lib\\site-packages (from argon2-cffi->notebook>=4.4.1->widgetsnbextension~=3.5.0->ipywidgets>=7.0.0->powerbiclient) (21.2.0)\n",
            "Requirement already satisfied: webencodings in c:\\users\\asus\\anaconda3\\lib\\site-packages (from bleach!=5.0.0->nbconvert>=5->notebook>=4.4.1->widgetsnbextension~=3.5.0->ipywidgets>=7.0.0->powerbiclient) (0.5.1)\n",
            "Requirement already satisfied: anyio>=3.1.0 in c:\\users\\asus\\anaconda3\\lib\\site-packages (from jupyter-server>=1.8->nbclassic>=0.4.7->notebook>=4.4.1->widgetsnbextension~=3.5.0->ipywidgets>=7.0.0->powerbiclient) (4.2.0)\n",
            "Requirement already satisfied: jupyter-events>=0.6.0 in c:\\users\\asus\\anaconda3\\lib\\site-packages (from jupyter-server>=1.8->nbclassic>=0.4.7->notebook>=4.4.1->widgetsnbextension~=3.5.0->ipywidgets>=7.0.0->powerbiclient) (0.8.0)\n",
            "Requirement already satisfied: jupyter-server-terminals in c:\\users\\asus\\anaconda3\\lib\\site-packages (from jupyter-server>=1.8->nbclassic>=0.4.7->notebook>=4.4.1->widgetsnbextension~=3.5.0->ipywidgets>=7.0.0->powerbiclient) (0.4.4)\n",
            "Requirement already satisfied: overrides in c:\\users\\asus\\anaconda3\\lib\\site-packages (from jupyter-server>=1.8->nbclassic>=0.4.7->notebook>=4.4.1->widgetsnbextension~=3.5.0->ipywidgets>=7.0.0->powerbiclient) (7.4.0)\n",
            "Requirement already satisfied: websocket-client in c:\\users\\asus\\anaconda3\\lib\\site-packages (from jupyter-server>=1.8->nbclassic>=0.4.7->notebook>=4.4.1->widgetsnbextension~=3.5.0->ipywidgets>=7.0.0->powerbiclient) (1.8.0)\n",
            "Requirement already satisfied: soupsieve>1.2 in c:\\users\\asus\\anaconda3\\lib\\site-packages (from beautifulsoup4->nbconvert>=5->notebook>=4.4.1->widgetsnbextension~=3.5.0->ipywidgets>=7.0.0->powerbiclient) (2.5)\n",
            "Requirement already satisfied: sniffio>=1.1 in c:\\users\\asus\\anaconda3\\lib\\site-packages (from anyio>=3.1.0->jupyter-server>=1.8->nbclassic>=0.4.7->notebook>=4.4.1->widgetsnbextension~=3.5.0->ipywidgets>=7.0.0->powerbiclient) (1.3.0)\n",
            "Requirement already satisfied: python-json-logger>=2.0.4 in c:\\users\\asus\\anaconda3\\lib\\site-packages (from jupyter-events>=0.6.0->jupyter-server>=1.8->nbclassic>=0.4.7->notebook>=4.4.1->widgetsnbextension~=3.5.0->ipywidgets>=7.0.0->powerbiclient) (2.0.7)\n",
            "Requirement already satisfied: pyyaml>=5.3 in c:\\users\\asus\\anaconda3\\lib\\site-packages (from jupyter-events>=0.6.0->jupyter-server>=1.8->nbclassic>=0.4.7->notebook>=4.4.1->widgetsnbextension~=3.5.0->ipywidgets>=7.0.0->powerbiclient) (6.0.1)\n",
            "Requirement already satisfied: rfc3339-validator in c:\\users\\asus\\anaconda3\\lib\\site-packages (from jupyter-events>=0.6.0->jupyter-server>=1.8->nbclassic>=0.4.7->notebook>=4.4.1->widgetsnbextension~=3.5.0->ipywidgets>=7.0.0->powerbiclient) (0.1.4)\n",
            "Requirement already satisfied: rfc3986-validator>=0.1.1 in c:\\users\\asus\\anaconda3\\lib\\site-packages (from jupyter-events>=0.6.0->jupyter-server>=1.8->nbclassic>=0.4.7->notebook>=4.4.1->widgetsnbextension~=3.5.0->ipywidgets>=7.0.0->powerbiclient) (0.1.1)\n",
            "Requirement already satisfied: fqdn in c:\\users\\asus\\anaconda3\\lib\\site-packages (from jsonschema[format-nongpl]>=4.18.0->jupyter-events>=0.6.0->jupyter-server>=1.8->nbclassic>=0.4.7->notebook>=4.4.1->widgetsnbextension~=3.5.0->ipywidgets>=7.0.0->powerbiclient) (1.5.1)\n",
            "Requirement already satisfied: isoduration in c:\\users\\asus\\anaconda3\\lib\\site-packages (from jsonschema[format-nongpl]>=4.18.0->jupyter-events>=0.6.0->jupyter-server>=1.8->nbclassic>=0.4.7->notebook>=4.4.1->widgetsnbextension~=3.5.0->ipywidgets>=7.0.0->powerbiclient) (20.11.0)\n",
            "Requirement already satisfied: jsonpointer>1.13 in c:\\users\\asus\\anaconda3\\lib\\site-packages (from jsonschema[format-nongpl]>=4.18.0->jupyter-events>=0.6.0->jupyter-server>=1.8->nbclassic>=0.4.7->notebook>=4.4.1->widgetsnbextension~=3.5.0->ipywidgets>=7.0.0->powerbiclient) (2.1)\n",
            "Requirement already satisfied: uri-template in c:\\users\\asus\\anaconda3\\lib\\site-packages (from jsonschema[format-nongpl]>=4.18.0->jupyter-events>=0.6.0->jupyter-server>=1.8->nbclassic>=0.4.7->notebook>=4.4.1->widgetsnbextension~=3.5.0->ipywidgets>=7.0.0->powerbiclient) (1.3.0)\n",
            "Requirement already satisfied: webcolors>=1.11 in c:\\users\\asus\\anaconda3\\lib\\site-packages (from jsonschema[format-nongpl]>=4.18.0->jupyter-events>=0.6.0->jupyter-server>=1.8->nbclassic>=0.4.7->notebook>=4.4.1->widgetsnbextension~=3.5.0->ipywidgets>=7.0.0->powerbiclient) (1.13)\n",
            "Requirement already satisfied: arrow>=0.15.0 in c:\\users\\asus\\anaconda3\\lib\\site-packages (from isoduration->jsonschema[format-nongpl]>=4.18.0->jupyter-events>=0.6.0->jupyter-server>=1.8->nbclassic>=0.4.7->notebook>=4.4.1->widgetsnbextension~=3.5.0->ipywidgets>=7.0.0->powerbiclient) (1.2.3)\n"
          ]
        }
      ],
      "source": [
        "#Crear la presentaciòn de los datos con Power Bi\n",
        "!pip install powerbiclient"
      ]
    },
    {
      "cell_type": "code",
      "execution_count": null,
      "id": "655fefa2-ac2d-4751-a7e2-03becda60106",
      "metadata": {
        "id": "655fefa2-ac2d-4751-a7e2-03becda60106"
      },
      "outputs": [],
      "source": [
        "#Importar la librería\n",
        "from powerbiclient import QuickVisualize, get_dataset_config"
      ]
    },
    {
      "cell_type": "code",
      "execution_count": null,
      "id": "YMCY8uHwwPge",
      "metadata": {
        "id": "YMCY8uHwwPge"
      },
      "outputs": [],
      "source": [
        "#Autenticación en Power BI\n",
        "from powerbiclient.authentication import DeviceCodeLoginAuthentication"
      ]
    },
    {
      "cell_type": "code",
      "execution_count": null,
      "id": "s7mG4frIvfot",
      "metadata": {
        "colab": {
          "base_uri": "https://localhost:8080/"
        },
        "id": "s7mG4frIvfot",
        "outputId": "059a62fb-b95c-4a6f-9d5e-885612070ca3"
      },
      "outputs": [
        {
          "name": "stdout",
          "output_type": "stream",
          "text": [
            "Performing device flow authentication. Please follow the instructions below.\n",
            "To sign in, use a web browser to open the page https://microsoft.com/devicelogin and enter the code FXEMK4VFB to authenticate.\n",
            "\n",
            "Device flow authentication successfully completed.\n",
            "You are now logged in .\n",
            "\n",
            "The result should be passed only to trusted code in your notebook.\n"
          ]
        }
      ],
      "source": [
        "device_auth=DeviceCodeLoginAuthentication()"
      ]
    },
    {
      "cell_type": "code",
      "execution_count": null,
      "id": "vO_r6MeSvkpU",
      "metadata": {
        "id": "vO_r6MeSvkpU"
      },
      "outputs": [],
      "source": [
        "PBI_visualizacion=QuickVisualize(get_dataset_config(df), auth=device_auth)"
      ]
    },
    {
      "cell_type": "code",
      "execution_count": null,
      "id": "XmoN4o3bwSVY",
      "metadata": {
        "colab": {
          "base_uri": "https://localhost:8080/",
          "height": 17,
          "referenced_widgets": [
            "17f785a0a905400dbd593704391ce7d4",
            "7d5dac1ebe37492ca088b2986116e7de"
          ]
        },
        "id": "XmoN4o3bwSVY",
        "outputId": "ebfc5824-5314-418c-bc67-6e46f82599a6"
      },
      "outputs": [
        {
          "data": {
            "application/vnd.jupyter.widget-view+json": {
              "model_id": "7d5dac1ebe37492ca088b2986116e7de",
              "version_major": 2,
              "version_minor": 0
            },
            "text/plain": [
              "QuickVisualize()"
            ]
          },
          "metadata": {},
          "output_type": "display_data"
        }
      ],
      "source": [
        "PBI_visualizacion"
      ]
    },
    {
      "cell_type": "code",
      "execution_count": null,
      "id": "550c48e2",
      "metadata": {
        "id": "550c48e2"
      },
      "outputs": [],
      "source": []
    }
  ],
  "metadata": {
    "colab": {
      "provenance": [],
      "include_colab_link": true
    },
    "kernelspec": {
      "display_name": "Python 3 (ipykernel)",
      "language": "python",
      "name": "python3"
    },
    "language_info": {
      "codemirror_mode": {
        "name": "ipython",
        "version": 3
      },
      "file_extension": ".py",
      "mimetype": "text/x-python",
      "name": "python",
      "nbconvert_exporter": "python",
      "pygments_lexer": "ipython3",
      "version": "3.11.9"
    },
    "widgets": {
      "application/vnd.jupyter.widget-state+json": {
        "132c8538f12c4354af6d89b1cd13d1fe": {
          "model_module": "@jupyter-widgets/controls",
          "model_module_version": "1.5.0",
          "model_name": "HTMLModel",
          "state": {
            "_dom_classes": [],
            "_model_module": "@jupyter-widgets/controls",
            "_model_module_version": "1.5.0",
            "_model_name": "HTMLModel",
            "_view_count": null,
            "_view_module": "@jupyter-widgets/controls",
            "_view_module_version": "1.5.0",
            "_view_name": "HTMLView",
            "description": "",
            "description_tooltip": null,
            "layout": "IPY_MODEL_6f4af80503304cb094dc9d8b9154c6fc",
            "placeholder": "​",
            "style": "IPY_MODEL_d25f9c5486844eefa712b171d5e66fc5",
            "value": "Done! Use &#x27;show&#x27; commands to display/save.   "
          }
        },
        "17f785a0a905400dbd593704391ce7d4": {
          "model_module": "powerbi-jupyter-client",
          "model_module_version": "3.1.1",
          "model_name": "QuickVisualizeModel",
          "state": {
            "_dom_classes": [],
            "_embed_config": {
              "accessToken": "eyJ0eXAiOiJKV1QiLCJhbGciOiJSUzI1NiIsIng1dCI6Ik1HTHFqOThWTkxvWGFGZnBKQ0JwZ0I0SmFLcyIsImtpZCI6Ik1HTHFqOThWTkxvWGFGZnBKQ0JwZ0I0SmFLcyJ9.eyJhdWQiOiJodHRwczovL2FuYWx5c2lzLndpbmRvd3MubmV0L3Bvd2VyYmkvYXBpIiwiaXNzIjoiaHR0cHM6Ly9zdHMud2luZG93cy5uZXQvMjU3MzljNjUtYzc5Zi00MDFjLWJhYjAtZDc1NWU5MGE2NjYyLyIsImlhdCI6MTcyMTI1MTExMSwibmJmIjoxNzIxMjUxMTExLCJleHAiOjE3MjEyNTYyMzEsImFjY3QiOjAsImFjciI6IjEiLCJhaW8iOiJBVFFBeS84WEFBQUF2d1FtT3VEZnJFdExaNHFPZ01aSjRqOUEramxZQk1ZUDgyclVGeGxKYUsyRzhTNGV2b3VQODRkUDA1STkrYnE3IiwiYW1yIjpbInB3ZCJdLCJhcHBpZCI6IjFhZWEzZjk3LWVkYzYtNDQ1My1hNTliLWI4OGIwYjgwMzcxMSIsImFwcGlkYWNyIjoiMCIsImZhbWlseV9uYW1lIjoiTTNBIiwiZ2l2ZW5fbmFtZSI6Ik1pbmVyaWEgZGUgRGF0b3MiLCJpZHR5cCI6InVzZXIiLCJpcGFkZHIiOiIzNS4yMjcuMTQxLjE0IiwibmFtZSI6Ik1pbmVyaWEgZGUgRGF0b3MgTTNBIiwib2lkIjoiZjk2Y2U5NjgtOTk0Zi00MWFlLTk3YzMtNTk0NjgyMjQ0NWI0IiwicHVpZCI6IjEwMDMyMDAzODJEMEMwNjUiLCJyaCI6IjAuQVNZQVpaeHpKWl9ISEVDNnNOZFY2UXBtWWdrQUFBQUFBQUFBd0FBQUFBQUFBQUFtQU9zLiIsInNjcCI6IkNvbnRlbnQuQ3JlYXRlIERhdGFzZXQuUmVhZFdyaXRlLkFsbCBSZXBvcnQuUmVhZFdyaXRlLkFsbCBXb3Jrc3BhY2UuUmVhZC5BbGwiLCJzaWduaW5fc3RhdGUiOlsia21zaSJdLCJzdWIiOiJOQkRHRm5aVlBWQ1FxN2E3T2lkcUZ6c0xDanB6cDJLWTVZLVhFclZGdkxJIiwidGlkIjoiMjU3MzljNjUtYzc5Zi00MDFjLWJhYjAtZDc1NWU5MGE2NjYyIiwidW5pcXVlX25hbWUiOiJtaW5lcmlhX2RhdG9zQHRlY2F6dWF5LmVkdS5lYyIsInVwbiI6Im1pbmVyaWFfZGF0b3NAdGVjYXp1YXkuZWR1LmVjIiwidXRpIjoiWFB1U0EwT2d6RWFIQUpaN2FpWUFBQSIsInZlciI6IjEuMCIsIndpZHMiOlsiYjc5ZmJmNGQtM2VmOS00Njg5LTgxNDMtNzZiMTk0ZTg1NTA5Il0sInhtc19pZHJlbCI6IjEgMjgifQ.ocUmPIfQkkmdPF1Iof15K-YtPOsJRp7-THi_kMVAUb_VvQ-eQ8-9O0YLdQ4vYRs2r1047xmXFKfadqQ_W0xQM7JZdjJecLJuxeYZP2iGBYH2K_99-G_gYHKzNigBu6JPk9nHKFVF5jtHNizbLhx8G752_SrBIOxTT8yJHktHrMIOXB98zqhio08koPbuF2xS-9S6SVWkf9c8OfhvkB6-t7Wgw-thUUaQ7X3raAgVSYWwL9TncUuX2xHm0XyGwmUWu3JS9mR3_U0khdlP--1C_Z8h67LWfH4jyDWi2TylQiu-2XTL3uI7zN3yShomo6LAnQpiSnb8Bp1Zj86KjneppQ",
              "datasetCreateConfig": {
                "data": [
                  {
                    "name": "Table",
                    "rows": [
                      [
                        "2022-06-22",
                        "Comida para Aves",
                        "584",
                        "2166.684334532924",
                        "16",
                        "0.05991117845970971"
                      ],
                      [
                        "2022-02-17",
                        "Comida para Aves",
                        "251",
                        "1371.7571220918226",
                        "16",
                        "0.11042517066608733"
                      ],
                      [
                        "2022-04-28",
                        "Comida para Gatos",
                        "222",
                        "1042.727538924018",
                        "11",
                        "0.16243987668268597"
                      ],
                      [
                        "2022-07-12",
                        "Comida para Gatos",
                        "182",
                        "4211.245730905616",
                        "0",
                        "0.18987513368297385"
                      ],
                      [
                        "2022-03-09",
                        "Comida para Aves",
                        "202",
                        "3182.7881462766964",
                        "12",
                        "0.1429931332628455"
                      ],
                      [
                        "2022-07-15",
                        "Comida para Aves",
                        "189",
                        "5998.469354411798",
                        "2",
                        "0.29141784652062236"
                      ],
                      [
                        "2022-04-14",
                        "Comida para Gatos",
                        "850",
                        "9315.41213324064",
                        "12",
                        "0.013867920141256805"
                      ],
                      [
                        "2022-01-10",
                        "Comida para Aves",
                        "179",
                        "1351.425339665244",
                        "19",
                        "0.1974623739080695"
                      ],
                      [
                        "2022-01-22",
                        "Comida para Perros",
                        "213",
                        "4917.395434128778",
                        "13",
                        "0.2728673705363477"
                      ],
                      [
                        "2022-02-06",
                        "Comida para Perros",
                        "255",
                        "7008.811513308636",
                        "7",
                        "0.0709692633339675"
                      ],
                      [
                        "2022-03-29",
                        "Comida para Peces",
                        "953",
                        "1757.8674711053463",
                        "19",
                        "0.0641121564207413"
                      ],
                      [
                        "2022-03-12",
                        "Comida para Peces",
                        "613",
                        "6507.727861763307",
                        "3",
                        "0.22866984224477463"
                      ],
                      [
                        "2022-03-30",
                        "Comida para Gatos",
                        "365",
                        "4321.890461956227",
                        "8",
                        "0.1459121382315708"
                      ],
                      [
                        "2022-05-21",
                        "Comida para Perros",
                        "215",
                        "7887.433217957413",
                        "10",
                        "0.2976532520093646"
                      ],
                      [
                        "2022-02-28",
                        "Comida para Gatos",
                        "949",
                        "3228.5357638159926",
                        "9",
                        "0.17673708614751366"
                      ],
                      [
                        "2022-07-13",
                        "Comida para Peces",
                        "495",
                        "2111.457028184874",
                        "2",
                        "0.2770325800463978"
                      ],
                      [
                        "2022-02-09",
                        "Comida para Perros",
                        "164",
                        "1963.383322820826",
                        "14",
                        "0.003663155899026571"
                      ],
                      [
                        "2022-03-29",
                        "Comida para Perros",
                        "347",
                        "5452.882420690847",
                        "11",
                        "0.046361886142711535"
                      ],
                      [
                        "2022-06-24",
                        "Comida para Peces",
                        "935",
                        "6058.587857381084",
                        "8",
                        "0.2053257134254769"
                      ],
                      [
                        "2022-03-30",
                        "Comida para Gatos",
                        "605",
                        "2969.0497884813212",
                        "4",
                        "0.12493991096923379"
                      ],
                      [
                        "2022-03-23",
                        "Comida para Peces",
                        "289",
                        "5957.193580621547",
                        "15",
                        "0.25078937082869407"
                      ],
                      [
                        "2022-06-15",
                        "Comida para Peces",
                        "154",
                        "7460.674004975773",
                        "7",
                        "0.12866942776695542"
                      ],
                      [
                        "2022-01-26",
                        "Comida para Aves",
                        "392",
                        "3248.226611254807",
                        "6",
                        "0.21389900890649569"
                      ],
                      [
                        "2022-03-19",
                        "Comida para Gatos",
                        "568",
                        "1091.48448436631",
                        "19",
                        "0.16984800511003745"
                      ],
                      [
                        "2022-03-14",
                        "Comida para Gatos",
                        "226",
                        "8479.599235531537",
                        "11",
                        "0.03597107019858685"
                      ],
                      [
                        "2022-01-10",
                        "Comida para Aves",
                        "119",
                        "8593.103536079037",
                        "6",
                        "0.2153853620121097"
                      ],
                      [
                        "2022-05-29",
                        "Comida para Perros",
                        "809",
                        "4399.125551960369",
                        "0",
                        "0.2119115404043094"
                      ],
                      [
                        "2022-04-26",
                        "Comida para Peces",
                        "824",
                        "9444.193918324103",
                        "5",
                        "0.03471544536396441"
                      ],
                      [
                        "2022-07-17",
                        "Comida para Peces",
                        "737",
                        "8441.169408318608",
                        "9",
                        "0.1685734373423187"
                      ],
                      [
                        "2022-03-21",
                        "Comida para Gatos",
                        "802",
                        "3856.363730021841",
                        "11",
                        "0.10069500526461551"
                      ],
                      [
                        "2022-06-25",
                        "Comida para Gatos",
                        "296",
                        "6383.732684205382",
                        "11",
                        "0.13765493461373265"
                      ],
                      [
                        "2022-07-12",
                        "Comida para Gatos",
                        "269",
                        "4637.093988103408",
                        "3",
                        "0.12682760790923278"
                      ],
                      [
                        "2022-03-24",
                        "Comida para Perros",
                        "308",
                        "2051.804336857544",
                        "0",
                        "0.03143232127475658"
                      ],
                      [
                        "2022-04-10",
                        "Comida para Perros",
                        "756",
                        "4712.333394864934",
                        "17",
                        "0.04740689588738393"
                      ],
                      [
                        "2022-06-27",
                        "Comida para Peces",
                        "285",
                        "8592.925103734287",
                        "5",
                        "0.026042584843095063"
                      ],
                      [
                        "2022-01-30",
                        "Comida para Aves",
                        "745",
                        "5707.979686272133",
                        "15",
                        "0.05773410408100857"
                      ],
                      [
                        "2022-05-28",
                        "Comida para Gatos",
                        "196",
                        "6475.61471803533",
                        "1",
                        "0.25573331594932364"
                      ],
                      [
                        "2022-05-28",
                        "Comida para Aves",
                        "378",
                        "4238.866211308072",
                        "1",
                        "0.007356794778879871"
                      ],
                      [
                        "2022-05-23",
                        "Comida para Peces",
                        "231",
                        "2582.227172497243",
                        "8",
                        "0.1294851750860568"
                      ],
                      [
                        "2022-06-17",
                        "Comida para Peces",
                        "492",
                        "6130.351367169507",
                        "11",
                        "0.2402809166109272"
                      ],
                      [
                        "2022-02-02",
                        "Comida para Aves",
                        "930",
                        "5965.999961197762",
                        "7",
                        "0.030077461358217025"
                      ],
                      [
                        "2022-07-13",
                        "Comida para Gatos",
                        "960",
                        "9605.166777636936",
                        "11",
                        "0.0683140770476894"
                      ],
                      [
                        "2022-01-10",
                        "Comida para Peces",
                        "269",
                        "1084.227179632221",
                        "19",
                        "0.21823191226748606"
                      ],
                      [
                        "2022-07-05",
                        "Comida para Peces",
                        "942",
                        "9083.393370837024",
                        "5",
                        "0.19426572977800577"
                      ],
                      [
                        "2022-05-08",
                        "Comida para Gatos",
                        "202",
                        "9332.62363506083",
                        "18",
                        "0.1689071510145498"
                      ],
                      [
                        "2022-02-02",
                        "Comida para Peces",
                        "704",
                        "3165.614563976781",
                        "15",
                        "0.05149224498845423"
                      ],
                      [
                        "2022-02-01",
                        "Comida para Peces",
                        "195",
                        "1411.0937383344033",
                        "19",
                        "0.23835930358975968"
                      ],
                      [
                        "2022-06-01",
                        "Comida para Aves",
                        "208",
                        "8639.738048121184",
                        "13",
                        "0.04242423356438881"
                      ],
                      [
                        "2022-06-13",
                        "Comida para Perros",
                        "191",
                        "2520.784489714708",
                        "8",
                        "0.04043936841691927"
                      ],
                      [
                        "2022-04-25",
                        "Comida para Peces",
                        "917",
                        "4571.957579964984",
                        "4",
                        "0.2385105132910063"
                      ],
                      [
                        "2022-07-03",
                        "Comida para Peces",
                        "683",
                        "5078.784047360309",
                        "16",
                        "0.1107669983652226"
                      ],
                      [
                        "2022-01-29",
                        "Comida para Aves",
                        "523",
                        "3924.990372515716",
                        "10",
                        "0.09378513477700405"
                      ],
                      [
                        "2022-02-04",
                        "Comida para Perros",
                        "970",
                        "4838.74779563396",
                        "16",
                        "0.08360161539307093"
                      ],
                      [
                        "2022-05-09",
                        "Comida para Perros",
                        "987",
                        "3801.2211832933262",
                        "2",
                        "0.09749163191028043"
                      ],
                      [
                        "2022-05-09",
                        "Comida para Aves",
                        "158",
                        "5727.009798900833",
                        "13",
                        "0.10217627991228156"
                      ],
                      [
                        "2022-06-14",
                        "Comida para Peces",
                        "105",
                        "1360.1536708447604",
                        "11",
                        "0.20891030808196187"
                      ],
                      [
                        "2022-02-23",
                        "Comida para Gatos",
                        "173",
                        "6318.721759064491",
                        "13",
                        "0.07207866034538175"
                      ],
                      [
                        "2022-05-14",
                        "Comida para Aves",
                        "956",
                        "2375.983087152515",
                        "15",
                        "0.09759793604217146"
                      ],
                      [
                        "2022-02-08",
                        "Comida para Aves",
                        "240",
                        "9787.623401068522",
                        "1",
                        "0.23286345254101984"
                      ],
                      [
                        "2022-01-18",
                        "Comida para Perros",
                        "844",
                        "6810.478095049243",
                        "8",
                        "0.2739451719941136"
                      ],
                      [
                        "2022-03-21",
                        "Comida para Aves",
                        "325",
                        "1071.2756972145503",
                        "3",
                        "0.18385079106852967"
                      ],
                      [
                        "2022-05-13",
                        "Comida para Gatos",
                        "927",
                        "1351.6229007939883",
                        "19",
                        "0.031535468838842104"
                      ],
                      [
                        "2022-04-16",
                        "Comida para Aves",
                        "818",
                        "3427.58073670327",
                        "12",
                        "0.16247539821258686"
                      ],
                      [
                        "2022-02-12",
                        "Comida para Aves",
                        "627",
                        "7875.427523666004",
                        "18",
                        "0.18833366226732187"
                      ],
                      [
                        "2022-07-06",
                        "Comida para Perros",
                        "104",
                        "1830.3791282006296",
                        "12",
                        "0.09421580910208424"
                      ],
                      [
                        "2022-02-01",
                        "Comida para Gatos",
                        "792",
                        "6958.606720578223",
                        "10",
                        "0.24840011187806915"
                      ],
                      [
                        "2022-05-01",
                        "Comida para Gatos",
                        "166",
                        "5964.1803557091725",
                        "9",
                        "0.23462364322715343"
                      ],
                      [
                        "2022-01-02",
                        "Comida para Peces",
                        "939",
                        "4928.791488962592",
                        "14",
                        "0.17259201201608698"
                      ],
                      [
                        "2022-03-07",
                        "Comida para Perros",
                        "465",
                        "2596.034366977564",
                        "13",
                        "0.04350467682813357"
                      ],
                      [
                        "2022-06-19",
                        "Comida para Gatos",
                        "428",
                        "1294.474657315452",
                        "5",
                        "0.2092144397052275"
                      ],
                      [
                        "2022-02-27",
                        "Comida para Gatos",
                        "361",
                        "5611.3284850915015",
                        "13",
                        "0.2686045991524566"
                      ],
                      [
                        "2022-02-05",
                        "Comida para Aves",
                        "651",
                        "5631.483787131865",
                        "8",
                        "0.07503033293197088"
                      ],
                      [
                        "2022-04-13",
                        "Comida para Peces",
                        "435",
                        "1134.100067539727",
                        "7",
                        "0.28760576870520244"
                      ],
                      [
                        "2022-04-30",
                        "Comida para Perros",
                        "947",
                        "6783.180816577439",
                        "9",
                        "0.23139071910908507"
                      ],
                      [
                        "2022-01-12",
                        "Comida para Gatos",
                        "909",
                        "4252.341232887789",
                        "14",
                        "0.09009647243373371"
                      ],
                      [
                        "2022-06-24",
                        "Comida para Peces",
                        "762",
                        "5331.766215166383",
                        "16",
                        "0.18504633723347452"
                      ],
                      [
                        "2022-03-24",
                        "Comida para Perros",
                        "573",
                        "5131.778313723315",
                        "18",
                        "0.09235437962420835"
                      ],
                      [
                        "2022-04-02",
                        "Comida para Aves",
                        "317",
                        "7278.313615144903",
                        "7",
                        "0.02984036282816822"
                      ],
                      [
                        "2022-05-09",
                        "Comida para Gatos",
                        "930",
                        "5556.206848175366",
                        "3",
                        "0.24724460088620562"
                      ],
                      [
                        "2022-05-23",
                        "Comida para Peces",
                        "897",
                        "4330.468349040924",
                        "10",
                        "0.1997421103527097"
                      ],
                      [
                        "2022-04-10",
                        "Comida para Perros",
                        "877",
                        "2768.4716097258815",
                        "17",
                        "0.18420019538421656"
                      ],
                      [
                        "2022-02-23",
                        "Comida para Gatos",
                        "495",
                        "1268.930256319338",
                        "5",
                        "0.04265186421397003"
                      ],
                      [
                        "2022-05-21",
                        "Comida para Perros",
                        "993",
                        "3035.6294122181935",
                        "1",
                        "0.11321313395093911"
                      ],
                      [
                        "2022-05-02",
                        "Comida para Aves",
                        "199",
                        "6596.289498843549",
                        "17",
                        "0.26299082400147333"
                      ],
                      [
                        "2022-06-20",
                        "Comida para Aves",
                        "638",
                        "3323.2663296587766",
                        "2",
                        "0.04899133823307189"
                      ],
                      [
                        "2022-03-26",
                        "Comida para Peces",
                        "971",
                        "7108.251777115029",
                        "3",
                        "0.014370866099135559"
                      ],
                      [
                        "2022-03-10",
                        "Comida para Peces",
                        "355",
                        "9438.315563649117",
                        "1",
                        "0.05734544306705259"
                      ],
                      [
                        "2022-01-07",
                        "Comida para Gatos",
                        "822",
                        "3309.1072685361814",
                        "11",
                        "0.07505400215245919"
                      ],
                      [
                        "2022-07-16",
                        "Comida para Peces",
                        "684",
                        "7964.494955516915",
                        "1",
                        "0.23509275712976502"
                      ],
                      [
                        "2022-02-17",
                        "Comida para Gatos",
                        "355",
                        "6905.425926735055",
                        "2",
                        "0.19444244135679942"
                      ],
                      [
                        "2022-05-08",
                        "Comida para Perros",
                        "741",
                        "4596.268126550757",
                        "17",
                        "0.005202824041947651"
                      ],
                      [
                        "2022-05-12",
                        "Comida para Gatos",
                        "967",
                        "7356.948001943917",
                        "7",
                        "0.005186895822358995"
                      ],
                      [
                        "2022-04-11",
                        "Comida para Aves",
                        "726",
                        "3517.0615285918752",
                        "8",
                        "0.17006892864001663"
                      ],
                      [
                        "2022-06-30",
                        "Comida para Aves",
                        "341",
                        "3694.41059634498",
                        "18",
                        "0.18998773271348662"
                      ],
                      [
                        "2022-03-20",
                        "Comida para Peces",
                        "786",
                        "4604.427806188045",
                        "9",
                        "0.03762656427466619"
                      ],
                      [
                        "2022-05-24",
                        "Comida para Aves",
                        "411",
                        "4813.311598351085",
                        "15",
                        "0.18313864562506776"
                      ],
                      [
                        "2022-05-29",
                        "Comida para Gatos",
                        "622",
                        "5970.5866028899",
                        "1",
                        "0.07210557312586202"
                      ],
                      [
                        "2022-07-06",
                        "Comida para Perros",
                        "814",
                        "4450.432625414687",
                        "9",
                        "0.10101640273816416"
                      ],
                      [
                        "2022-01-24",
                        "Comida para Aves",
                        "380",
                        "8699.3538509639",
                        "6",
                        "0.12264947411530239"
                      ],
                      [
                        "2022-05-22",
                        "Comida para Aves",
                        "611",
                        "6696.44939076374",
                        "12",
                        "0.03485843887028389"
                      ],
                      [
                        "2022-04-28",
                        "Comida para Gatos",
                        "451",
                        "9225.18163035751",
                        "15",
                        "0.2889280816334865"
                      ],
                      [
                        "2022-03-27",
                        "Comida para Gatos",
                        "143",
                        "4296.47444675416",
                        "18",
                        "0.2921293360882683"
                      ],
                      [
                        "2022-02-18",
                        "Comida para Gatos",
                        "753",
                        "9862.015619129119",
                        "13",
                        "0.1335005067268222"
                      ],
                      [
                        "2022-02-19",
                        "Comida para Gatos",
                        "155",
                        "7401.7851158777885",
                        "1",
                        "0.0772399434240824"
                      ],
                      [
                        "2022-03-11",
                        "Comida para Perros",
                        "105",
                        "7914.1892367406945",
                        "14",
                        "0.28757833395759336"
                      ],
                      [
                        "2022-06-19",
                        "Comida para Gatos",
                        "507",
                        "6202.725298505384",
                        "8",
                        "0.24541721896415722"
                      ],
                      [
                        "2022-06-13",
                        "Comida para Peces",
                        "142",
                        "8912.733034054494",
                        "4",
                        "0.2172685816674696"
                      ],
                      [
                        "2022-07-12",
                        "Comida para Perros",
                        "715",
                        "1881.2993936103649",
                        "14",
                        "0.13854353618329177"
                      ],
                      [
                        "2022-04-06",
                        "Comida para Perros",
                        "149",
                        "8018.405292631315",
                        "13",
                        "0.12317361043235164"
                      ],
                      [
                        "2022-07-17",
                        "Comida para Peces",
                        "457",
                        "6868.825852529695",
                        "14",
                        "0.23380478168305552"
                      ],
                      [
                        "2022-04-05",
                        "Comida para Aves",
                        "970",
                        "8568.923745536871",
                        "0",
                        "0.15588410332938799"
                      ],
                      [
                        "2022-01-01",
                        "Comida para Peces",
                        "687",
                        "8912.866006037857",
                        "18",
                        "0.1981746416462424"
                      ],
                      [
                        "2022-04-24",
                        "Comida para Aves",
                        "985",
                        "5183.905598892281",
                        "5",
                        "0.16985789448252356"
                      ],
                      [
                        "2022-06-28",
                        "Comida para Gatos",
                        "527",
                        "9661.6719152394",
                        "18",
                        "0.21365562214540887"
                      ],
                      [
                        "2022-02-06",
                        "Comida para Aves",
                        "252",
                        "8325.774302620446",
                        "9",
                        "0.02823150122352028"
                      ],
                      [
                        "2022-06-12",
                        "Comida para Peces",
                        "437",
                        "8821.7854801572",
                        "1",
                        "0.11328632779073604"
                      ],
                      [
                        "2022-02-18",
                        "Comida para Perros",
                        "633",
                        "1115.8953571984507",
                        "8",
                        "0.05012675655295953"
                      ],
                      [
                        "2022-04-04",
                        "Comida para Peces",
                        "246",
                        "9527.629282343776",
                        "8",
                        "0.07261317000706068"
                      ],
                      [
                        "2022-05-12",
                        "Comida para Gatos",
                        "163",
                        "3291.837535221506",
                        "19",
                        "0.060247282961454235"
                      ],
                      [
                        "2022-04-09",
                        "Comida para Gatos",
                        "445",
                        "6672.131394166882",
                        "7",
                        "0.15099668979115954"
                      ],
                      [
                        "2022-02-12",
                        "Comida para Gatos",
                        "641",
                        "5109.392178906794",
                        "18",
                        "0.0056978965529756115"
                      ],
                      [
                        "2022-04-23",
                        "Comida para Peces",
                        "393",
                        "6506.123774020125",
                        "17",
                        "0.2891902806025332"
                      ],
                      [
                        "2022-05-30",
                        "Comida para Gatos",
                        "268",
                        "6229.167238933177",
                        "10",
                        "0.15568914792287133"
                      ],
                      [
                        "2022-05-08",
                        "Comida para Aves",
                        "597",
                        "7941.600605343979",
                        "11",
                        "0.015771454261316698"
                      ],
                      [
                        "2022-01-01",
                        "Comida para Gatos",
                        "462",
                        "5963.936563749496",
                        "1",
                        "0.20461615210852777"
                      ],
                      [
                        "2022-05-19",
                        "Comida para Perros",
                        "323",
                        "6039.435485417145",
                        "1",
                        "0.08066641502936296"
                      ],
                      [
                        "2022-04-25",
                        "Comida para Gatos",
                        "203",
                        "6325.966991731783",
                        "6",
                        "0.03203027777652895"
                      ],
                      [
                        "2022-02-13",
                        "Comida para Aves",
                        "367",
                        "2965.720436487681",
                        "19",
                        "0.24909110579249844"
                      ],
                      [
                        "2022-07-06",
                        "Comida para Peces",
                        "412",
                        "7151.404957045537",
                        "6",
                        "0.05937228087429725"
                      ],
                      [
                        "2022-05-08",
                        "Comida para Perros",
                        "547",
                        "9847.537782838306",
                        "5",
                        "0.031426280657889404"
                      ],
                      [
                        "2022-01-24",
                        "Comida para Peces",
                        "242",
                        "9335.063886669694",
                        "4",
                        "0.017071935781149593"
                      ],
                      [
                        "2022-07-07",
                        "Comida para Aves",
                        "388",
                        "3114.674975160613",
                        "2",
                        "0.2185673230602501"
                      ],
                      [
                        "2022-05-11",
                        "Comida para Peces",
                        "293",
                        "9798.76873208879",
                        "8",
                        "0.1965813741968304"
                      ],
                      [
                        "2022-05-02",
                        "Comida para Aves",
                        "221",
                        "8471.333618981216",
                        "8",
                        "0.0024597421758222214"
                      ],
                      [
                        "2022-04-09",
                        "Comida para Aves",
                        "473",
                        "9699.86506841988",
                        "16",
                        "0.0664441621344911"
                      ],
                      [
                        "2022-03-04",
                        "Comida para Aves",
                        "933",
                        "9772.32719302062",
                        "7",
                        "0.21140460933502486"
                      ],
                      [
                        "2022-06-13",
                        "Comida para Gatos",
                        "136",
                        "5191.584024253168",
                        "8",
                        "0.045642256411185696"
                      ],
                      [
                        "2022-05-04",
                        "Comida para Aves",
                        "862",
                        "6640.079043073897",
                        "9",
                        "0.17302523493784935"
                      ],
                      [
                        "2022-07-15",
                        "Comida para Gatos",
                        "125",
                        "3396.6073197343158",
                        "6",
                        "0.06394694002563218"
                      ],
                      [
                        "2022-03-24",
                        "Comida para Gatos",
                        "172",
                        "2877.7556796777376",
                        "14",
                        "0.1347702854432362"
                      ],
                      [
                        "2022-06-24",
                        "Comida para Peces",
                        "150",
                        "5035.661349955374",
                        "19",
                        "0.2602269185405343"
                      ],
                      [
                        "2022-05-29",
                        "Comida para Peces",
                        "624",
                        "3255.5928607026294",
                        "7",
                        "0.0907789281902958"
                      ],
                      [
                        "2022-02-20",
                        "Comida para Aves",
                        "247",
                        "8673.484211381081",
                        "18",
                        "0.20579171697756937"
                      ],
                      [
                        "2022-06-05",
                        "Comida para Peces",
                        "807",
                        "1526.1749081568496",
                        "3",
                        "0.13148436983484035"
                      ],
                      [
                        "2022-01-15",
                        "Comida para Perros",
                        "494",
                        "3602.3803641913923",
                        "0",
                        "0.02884657629044649"
                      ],
                      [
                        "2022-02-11",
                        "Comida para Peces",
                        "619",
                        "2598.8656357002524",
                        "0",
                        "0.10819049809554028"
                      ],
                      [
                        "2022-02-28",
                        "Comida para Aves",
                        "192",
                        "1887.2011893358685",
                        "12",
                        "0.25238401990443227"
                      ],
                      [
                        "2022-07-13",
                        "Comida para Peces",
                        "626",
                        "5588.187309738292",
                        "4",
                        "0.2919138726804685"
                      ],
                      [
                        "2022-02-06",
                        "Comida para Peces",
                        "556",
                        "8693.193456703837",
                        "18",
                        "0.2535245011848016"
                      ],
                      [
                        "2022-01-11",
                        "Comida para Aves",
                        "146",
                        "4921.4138881242",
                        "2",
                        "0.0486685172320652"
                      ],
                      [
                        "2022-03-28",
                        "Comida para Gatos",
                        "327",
                        "3387.725552285567",
                        "18",
                        "0.10365278953472538"
                      ],
                      [
                        "2022-02-13",
                        "Comida para Peces",
                        "135",
                        "8939.410155686786",
                        "18",
                        "0.24935644758202502"
                      ],
                      [
                        "2022-04-15",
                        "Comida para Gatos",
                        "309",
                        "9290.140298001044",
                        "14",
                        "0.16616878031872964"
                      ],
                      [
                        "2022-01-12",
                        "Comida para Peces",
                        "251",
                        "5552.187694901127",
                        "7",
                        "0.23285573913432245"
                      ],
                      [
                        "2022-01-03",
                        "Comida para Gatos",
                        "161",
                        "6923.126499326766",
                        "11",
                        "0.23333497998503702"
                      ],
                      [
                        "2022-02-21",
                        "Comida para Peces",
                        "729",
                        "1553.4878065558346",
                        "10",
                        "0.02132637018903588"
                      ],
                      [
                        "2022-03-22",
                        "Comida para Peces",
                        "281",
                        "4072.6477144795267",
                        "6",
                        "0.10272196968030693"
                      ],
                      [
                        "2022-02-02",
                        "Comida para Gatos",
                        "624",
                        "4506.668043779195",
                        "9",
                        "0.14370645163589016"
                      ],
                      [
                        "2022-07-02",
                        "Comida para Aves",
                        "529",
                        "5549.257138964203",
                        "0",
                        "0.2835674164741164"
                      ],
                      [
                        "2022-05-09",
                        "Comida para Peces",
                        "619",
                        "8637.835522989764",
                        "2",
                        "0.2694686403048013"
                      ],
                      [
                        "2022-02-08",
                        "Comida para Perros",
                        "606",
                        "8286.097352038918",
                        "17",
                        "0.12690959487936593"
                      ],
                      [
                        "2022-01-20",
                        "Comida para Peces",
                        "531",
                        "1087.997658682598",
                        "10",
                        "0.028699778246074514"
                      ],
                      [
                        "2022-06-24",
                        "Comida para Perros",
                        "210",
                        "2398.340681519434",
                        "6",
                        "0.12136268606411452"
                      ],
                      [
                        "2022-02-12",
                        "Comida para Perros",
                        "779",
                        "4394.448816868553",
                        "3",
                        "0.1607709997923842"
                      ],
                      [
                        "2022-04-26",
                        "Comida para Perros",
                        "962",
                        "5608.156892768602",
                        "8",
                        "0.27131915741970936"
                      ],
                      [
                        "2022-07-04",
                        "Comida para Gatos",
                        "759",
                        "6462.902549558716",
                        "12",
                        "0.08846378014236511"
                      ],
                      [
                        "2022-07-08",
                        "Comida para Peces",
                        "334",
                        "2299.5803722302735",
                        "7",
                        "0.0926592437006962"
                      ],
                      [
                        "2022-03-19",
                        "Comida para Aves",
                        "977",
                        "7266.617620658338",
                        "0",
                        "0.18815497036435228"
                      ],
                      [
                        "2022-01-31",
                        "Comida para Gatos",
                        "677",
                        "9017.012849514536",
                        "11",
                        "0.1515574665214137"
                      ],
                      [
                        "2022-01-25",
                        "Comida para Gatos",
                        "694",
                        "3013.4598977327146",
                        "2",
                        "0.05876068771764195"
                      ],
                      [
                        "2022-05-06",
                        "Comida para Aves",
                        "562",
                        "5858.969506345818",
                        "1",
                        "0.04341817465277381"
                      ],
                      [
                        "2022-01-03",
                        "Comida para Peces",
                        "189",
                        "9907.883785677166",
                        "16",
                        "0.14684916294160397"
                      ],
                      [
                        "2022-01-04",
                        "Comida para Aves",
                        "201",
                        "6797.15811737729",
                        "11",
                        "0.23381728692008413"
                      ],
                      [
                        "2022-04-05",
                        "Comida para Aves",
                        "476",
                        "1839.285944636232",
                        "5",
                        "0.23364937546703624"
                      ],
                      [
                        "2022-04-18",
                        "Comida para Gatos",
                        "284",
                        "7960.195158515082",
                        "14",
                        "0.2927411061961772"
                      ],
                      [
                        "2022-01-14",
                        "Comida para Perros",
                        "684",
                        "5570.862997624092",
                        "11",
                        "0.1148154594473984"
                      ],
                      [
                        "2022-04-23",
                        "Comida para Peces",
                        "790",
                        "2008.1323274896567",
                        "10",
                        "0.1175967980430783"
                      ],
                      [
                        "2022-02-10",
                        "Comida para Gatos",
                        "134",
                        "5636.376523959142",
                        "19",
                        "0.0005458484341587688"
                      ],
                      [
                        "2022-03-14",
                        "Comida para Peces",
                        "623",
                        "7797.156782901954",
                        "4",
                        "0.24897520955864674"
                      ],
                      [
                        "2022-01-20",
                        "Comida para Gatos",
                        "720",
                        "2054.27699334535",
                        "7",
                        "0.19398853322041518"
                      ],
                      [
                        "2022-04-06",
                        "Comida para Aves",
                        "239",
                        "4206.303703238611",
                        "1",
                        "0.23097663561956724"
                      ],
                      [
                        "2022-03-14",
                        "Comida para Peces",
                        "460",
                        "1741.5671206363195",
                        "5",
                        "0.1411869599834409"
                      ],
                      [
                        "2022-06-04",
                        "Comida para Gatos",
                        "520",
                        "2363.473541188423",
                        "17",
                        "0.2760580465922594"
                      ],
                      [
                        "2022-07-14",
                        "Comida para Peces",
                        "994",
                        "1472.4746951992581",
                        "16",
                        "0.008734139349814318"
                      ],
                      [
                        "2022-06-30",
                        "Comida para Perros",
                        "277",
                        "3035.2879247627216",
                        "16",
                        "0.0345843548213665"
                      ],
                      [
                        "2022-03-09",
                        "Comida para Perros",
                        "323",
                        "5088.090805611782",
                        "0",
                        "0.11280520049145093"
                      ],
                      [
                        "2022-03-03",
                        "Comida para Peces",
                        "916",
                        "8122.788426247069",
                        "18",
                        "0.02553177243407163"
                      ],
                      [
                        "2022-01-15",
                        "Comida para Peces",
                        "686",
                        "7176.708166825258",
                        "3",
                        "0.026366364589521574"
                      ],
                      [
                        "2022-04-07",
                        "Comida para Peces",
                        "239",
                        "6287.846116951839",
                        "1",
                        "0.17006180380516353"
                      ],
                      [
                        "2022-01-05",
                        "Comida para Peces",
                        "705",
                        "9879.343885731281",
                        "6",
                        "0.06483660587097524"
                      ],
                      [
                        "2022-07-15",
                        "Comida para Gatos",
                        "646",
                        "5173.252181275084",
                        "0",
                        "0.18796056316713883"
                      ],
                      [
                        "2022-05-20",
                        "Comida para Aves",
                        "814",
                        "9236.30322328022",
                        "8",
                        "0.27881994664357745"
                      ],
                      [
                        "2022-03-28",
                        "Comida para Gatos",
                        "560",
                        "4029.761170731581",
                        "6",
                        "0.24716466291093875"
                      ],
                      [
                        "2022-05-02",
                        "Comida para Perros",
                        "853",
                        "4838.330855260927",
                        "11",
                        "0.07452911626614249"
                      ],
                      [
                        "2022-04-20",
                        "Comida para Perros",
                        "395",
                        "4575.412380695272",
                        "4",
                        "0.026898877833396895"
                      ],
                      [
                        "2022-03-17",
                        "Comida para Gatos",
                        "468",
                        "6371.375622693973",
                        "5",
                        "0.28505774046477605"
                      ],
                      [
                        "2022-07-04",
                        "Comida para Perros",
                        "622",
                        "9388.510565472094",
                        "7",
                        "0.29834877941199744"
                      ],
                      [
                        "2022-01-17",
                        "Comida para Gatos",
                        "870",
                        "7909.9983425812",
                        "19",
                        "0.11234846983955377"
                      ],
                      [
                        "2022-06-02",
                        "Comida para Perros",
                        "477",
                        "8505.510408699045",
                        "10",
                        "0.1382031783427683"
                      ],
                      [
                        "2022-06-07",
                        "Comida para Aves",
                        "175",
                        "8128.947607744337",
                        "5",
                        "0.04360009839901996"
                      ],
                      [
                        "2022-05-30",
                        "Comida para Peces",
                        "151",
                        "9567.103407856135",
                        "5",
                        "0.21305423783330438"
                      ],
                      [
                        "2022-04-21",
                        "Comida para Perros",
                        "600",
                        "2027.9121529443203",
                        "4",
                        "0.12655008205585225"
                      ],
                      [
                        "2022-01-26",
                        "Comida para Gatos",
                        "191",
                        "8329.577151195013",
                        "10",
                        "0.2409045435763228"
                      ],
                      [
                        "2022-07-08",
                        "Comida para Peces",
                        "743",
                        "7050.455421672633",
                        "12",
                        "0.1731890134273711"
                      ],
                      [
                        "2022-05-02",
                        "Comida para Gatos",
                        "372",
                        "1294.6410050108125",
                        "16",
                        "0.012835142749990114"
                      ],
                      [
                        "2022-04-29",
                        "Comida para Peces",
                        "419",
                        "4589.627741008956",
                        "5",
                        "0.10048636215107921"
                      ],
                      [
                        "2022-04-28",
                        "Comida para Peces",
                        "932",
                        "3866.0543433472",
                        "13",
                        "0.24257885120104608"
                      ],
                      [
                        "2022-07-09",
                        "Comida para Peces",
                        "881",
                        "1928.7381842252807",
                        "11",
                        "0.20643416441517803"
                      ],
                      [
                        "2022-03-25",
                        "Comida para Aves",
                        "906",
                        "3788.6725839267015",
                        "10",
                        "0.18975958421367464"
                      ],
                      [
                        "2022-06-11",
                        "Comida para Perros",
                        "360",
                        "2011.519800608052",
                        "7",
                        "0.20175139269482345"
                      ],
                      [
                        "2022-04-15",
                        "Comida para Gatos",
                        "615",
                        "1034.7402365311743",
                        "0",
                        "0.18151106268707945"
                      ],
                      [
                        "2022-06-10",
                        "Comida para Perros",
                        "693",
                        "8988.396736830071",
                        "16",
                        "0.19233729797627233"
                      ],
                      [
                        "2022-05-02",
                        "Comida para Aves",
                        "244",
                        "2411.587134113636",
                        "14",
                        "0.18612633139226128"
                      ],
                      [
                        "2022-03-12",
                        "Comida para Gatos",
                        "482",
                        "5390.546731842236",
                        "0",
                        "0.16002838185139748"
                      ],
                      [
                        "2022-02-01",
                        "Comida para Aves",
                        "939",
                        "1498.6692403530972",
                        "14",
                        "0.2273241376282239"
                      ],
                      [
                        "2022-01-14",
                        "Comida para Peces",
                        "764",
                        "8307.126985621566",
                        "3",
                        "0.11084776905636957"
                      ],
                      [
                        "2022-03-13",
                        "Comida para Gatos",
                        "367",
                        "7804.663220322816",
                        "15",
                        "0.14257150159215046"
                      ],
                      [
                        "2022-07-04",
                        "Comida para Perros",
                        "250",
                        "8377.813111766503",
                        "8",
                        "0.12043486707590695"
                      ],
                      [
                        "2022-06-02",
                        "Comida para Peces",
                        "672",
                        "7433.515954249556",
                        "3",
                        "0.06276314733657824"
                      ],
                      [
                        "2022-03-21",
                        "Comida para Gatos",
                        "319",
                        "8653.6465266459",
                        "4",
                        "0.09656668874996528"
                      ],
                      [
                        "2022-02-11",
                        "Comida para Peces",
                        "742",
                        "3675.9259746308794",
                        "14",
                        "0.016504523282970196"
                      ],
                      [
                        "2022-01-19",
                        "Comida para Peces",
                        "172",
                        "3453.719102756594",
                        "4",
                        "0.09765829017678322"
                      ],
                      [
                        "2022-02-10",
                        "Comida para Aves",
                        "829",
                        "1379.3590064701968",
                        "17",
                        "0.11717492787993872"
                      ],
                      [
                        "2022-07-02",
                        "Comida para Gatos",
                        "394",
                        "9743.320288820514",
                        "19",
                        "0.028015229294647146"
                      ],
                      [
                        "2022-01-12",
                        "Comida para Aves",
                        "664",
                        "3754.2052664326766",
                        "3",
                        "0.066136538913629"
                      ],
                      [
                        "2022-06-16",
                        "Comida para Gatos",
                        "837",
                        "3046.8149971464045",
                        "18",
                        "0.07486252423285229"
                      ],
                      [
                        "2022-04-22",
                        "Comida para Aves",
                        "444",
                        "1614.2790987380495",
                        "1",
                        "0.06824106246260664"
                      ],
                      [
                        "2022-04-04",
                        "Comida para Perros",
                        "419",
                        "4868.410835499402",
                        "12",
                        "0.10506651045718478"
                      ],
                      [
                        "2022-05-10",
                        "Comida para Gatos",
                        "616",
                        "8277.47317116728",
                        "7",
                        "0.04346283152099215"
                      ],
                      [
                        "2022-04-29",
                        "Comida para Perros",
                        "515",
                        "3876.3333224315465",
                        "12",
                        "0.21945040705333482"
                      ],
                      [
                        "2022-02-14",
                        "Comida para Gatos",
                        "855",
                        "8023.329992431231",
                        "15",
                        "0.10279645659532595"
                      ],
                      [
                        "2022-05-06",
                        "Comida para Gatos",
                        "303",
                        "7964.996103693354",
                        "0",
                        "0.03670957020650939"
                      ],
                      [
                        "2022-01-25",
                        "Comida para Perros",
                        "777",
                        "9428.654299701362",
                        "1",
                        "0.17807993439803488"
                      ],
                      [
                        "2022-03-09",
                        "Comida para Aves",
                        "875",
                        "3311.3173308416817",
                        "13",
                        "0.05389445253522681"
                      ],
                      [
                        "2022-01-04",
                        "Comida para Perros",
                        "762",
                        "6265.412972923292",
                        "1",
                        "0.017416896203308118"
                      ],
                      [
                        "2022-02-05",
                        "Comida para Perros",
                        "736",
                        "9364.981361869079",
                        "3",
                        "0.04898764260742285"
                      ],
                      [
                        "2022-07-09",
                        "Comida para Gatos",
                        "398",
                        "3113.6106954421434",
                        "7",
                        "0.12599844361474258"
                      ],
                      [
                        "2022-07-17",
                        "Comida para Aves",
                        "287",
                        "2213.4880287041037",
                        "4",
                        "0.20805269157823073"
                      ],
                      [
                        "2022-02-13",
                        "Comida para Peces",
                        "835",
                        "4424.0470791554335",
                        "6",
                        "0.19245026543137803"
                      ],
                      [
                        "2022-02-02",
                        "Comida para Aves",
                        "410",
                        "9193.68596510422",
                        "2",
                        "0.0015617938079475423"
                      ],
                      [
                        "2022-01-12",
                        "Comida para Perros",
                        "983",
                        "7745.83139028528",
                        "13",
                        "0.2379871957542258"
                      ],
                      [
                        "2022-04-15",
                        "Comida para Peces",
                        "535",
                        "1337.2990495207303",
                        "6",
                        "0.10070633353874822"
                      ],
                      [
                        "2022-05-19",
                        "Comida para Perros",
                        "694",
                        "7959.3585457636245",
                        "15",
                        "0.20391470728667094"
                      ],
                      [
                        "2022-07-02",
                        "Comida para Peces",
                        "891",
                        "5066.482170181451",
                        "16",
                        "0.009801951512079854"
                      ],
                      [
                        "2022-06-15",
                        "Comida para Aves",
                        "183",
                        "6996.883592248213",
                        "16",
                        "0.11813647301169322"
                      ],
                      [
                        "2022-05-06",
                        "Comida para Perros",
                        "893",
                        "7394.348528879061",
                        "18",
                        "0.005883150395730907"
                      ],
                      [
                        "2022-06-06",
                        "Comida para Gatos",
                        "925",
                        "5976.859009629671",
                        "9",
                        "0.24490366054353455"
                      ],
                      [
                        "2022-04-22",
                        "Comida para Peces",
                        "297",
                        "7270.1043563887915",
                        "0",
                        "0.0560901541548493"
                      ],
                      [
                        "2022-01-03",
                        "Comida para Peces",
                        "445",
                        "6717.825087773847",
                        "15",
                        "0.20236437225572754"
                      ],
                      [
                        "2022-01-28",
                        "Comida para Peces",
                        "401",
                        "7132.021062507581",
                        "16",
                        "0.08311984881783345"
                      ],
                      [
                        "2022-06-01",
                        "Comida para Peces",
                        "467",
                        "1935.113105437783",
                        "10",
                        "0.0406053343012943"
                      ],
                      [
                        "2022-02-23",
                        "Comida para Peces",
                        "700",
                        "7816.9378710516075",
                        "4",
                        "0.279088601713973"
                      ],
                      [
                        "2022-02-21",
                        "Comida para Gatos",
                        "415",
                        "5418.604018780202",
                        "7",
                        "0.17850738473598662"
                      ],
                      [
                        "2022-06-24",
                        "Comida para Perros",
                        "254",
                        "2699.037242054275",
                        "17",
                        "0.26718931418966796"
                      ],
                      [
                        "2022-05-29",
                        "Comida para Gatos",
                        "732",
                        "3803.9340312390495",
                        "8",
                        "0.09197982049519174"
                      ],
                      [
                        "2022-07-01",
                        "Comida para Aves",
                        "729",
                        "6584.802166495459",
                        "6",
                        "0.24895060010351833"
                      ],
                      [
                        "2022-01-30",
                        "Comida para Perros",
                        "733",
                        "9675.171321627306",
                        "13",
                        "0.2825047000218847"
                      ],
                      [
                        "2022-03-09",
                        "Comida para Gatos",
                        "516",
                        "2692.729104633743",
                        "5",
                        "0.11855514803603645"
                      ],
                      [
                        "2022-02-05",
                        "Comida para Perros",
                        "898",
                        "9057.631585991865",
                        "17",
                        "0.27123931535953405"
                      ],
                      [
                        "2022-02-09",
                        "Comida para Aves",
                        "754",
                        "6820.979017761625",
                        "5",
                        "0.10052572280373298"
                      ],
                      [
                        "2022-05-18",
                        "Comida para Gatos",
                        "427",
                        "5477.318647819305",
                        "4",
                        "0.09737999973818733"
                      ],
                      [
                        "2022-03-15",
                        "Comida para Aves",
                        "196",
                        "4331.757206965256",
                        "2",
                        "0.29871980165852874"
                      ],
                      [
                        "2022-02-11",
                        "Comida para Peces",
                        "801",
                        "2385.485183312334",
                        "17",
                        "0.2857231344532057"
                      ],
                      [
                        "2022-06-01",
                        "Comida para Perros",
                        "613",
                        "2085.816492632385",
                        "1",
                        "0.0685855037914425"
                      ],
                      [
                        "2022-05-12",
                        "Comida para Perros",
                        "602",
                        "2178.413175462415",
                        "7",
                        "0.2511606081111436"
                      ],
                      [
                        "2022-02-16",
                        "Comida para Gatos",
                        "531",
                        "3053.1959986951942",
                        "13",
                        "0.10273736329227062"
                      ],
                      [
                        "2022-06-28",
                        "Comida para Aves",
                        "480",
                        "8673.705881750819",
                        "5",
                        "0.29377301219340807"
                      ],
                      [
                        "2022-04-19",
                        "Comida para Perros",
                        "465",
                        "3206.044424213578",
                        "4",
                        "0.25494528862801896"
                      ],
                      [
                        "2022-01-04",
                        "Comida para Peces",
                        "218",
                        "4208.363986005541",
                        "17",
                        "0.27147579039376146"
                      ],
                      [
                        "2022-02-01",
                        "Comida para Peces",
                        "271",
                        "9387.57609150334",
                        "15",
                        "0.17210205344686755"
                      ],
                      [
                        "2022-01-10",
                        "Comida para Aves",
                        "574",
                        "5322.659480905453",
                        "7",
                        "0.08824540569635411"
                      ],
                      [
                        "2022-05-19",
                        "Comida para Aves",
                        "115",
                        "6328.793907441202",
                        "8",
                        "0.059257501913012996"
                      ],
                      [
                        "2022-01-28",
                        "Comida para Gatos",
                        "936",
                        "8458.608717749325",
                        "18",
                        "0.15836157616383992"
                      ],
                      [
                        "2022-06-23",
                        "Comida para Aves",
                        "302",
                        "2285.7044778122417",
                        "7",
                        "0.2014547175698947"
                      ],
                      [
                        "2022-07-19",
                        "Comida para Peces",
                        "185",
                        "5803.508094304306",
                        "2",
                        "0.2225365905371102"
                      ],
                      [
                        "2022-06-17",
                        "Comida para Peces",
                        "779",
                        "1889.2524688228254",
                        "8",
                        "0.051114963768888855"
                      ],
                      [
                        "2022-03-03",
                        "Comida para Perros",
                        "206",
                        "5885.043797489304",
                        "18",
                        "0.16076639777131863"
                      ],
                      [
                        "2022-03-27",
                        "Comida para Peces",
                        "591",
                        "6349.4079339739665",
                        "17",
                        "0.1308329460285654"
                      ],
                      [
                        "2022-04-08",
                        "Comida para Peces",
                        "706",
                        "5914.8043030981335",
                        "8",
                        "0.06246726329334359"
                      ],
                      [
                        "2022-02-14",
                        "Comida para Perros",
                        "570",
                        "4278.561172469614",
                        "7",
                        "0.16588869520764718"
                      ],
                      [
                        "2022-02-04",
                        "Comida para Gatos",
                        "356",
                        "8635.946631639947",
                        "1",
                        "0.08277411654193724"
                      ],
                      [
                        "2022-06-12",
                        "Comida para Aves",
                        "693",
                        "3786.704737670134",
                        "3",
                        "0.16051636713286505"
                      ],
                      [
                        "2022-03-30",
                        "Comida para Perros",
                        "286",
                        "7875.347912119167",
                        "15",
                        "0.060032803470263185"
                      ],
                      [
                        "2022-02-03",
                        "Comida para Perros",
                        "112",
                        "5036.339027612759",
                        "17",
                        "0.26998276107474156"
                      ],
                      [
                        "2022-05-14",
                        "Comida para Gatos",
                        "319",
                        "8248.790505255565",
                        "19",
                        "0.10143084747587716"
                      ],
                      [
                        "2022-02-06",
                        "Comida para Aves",
                        "911",
                        "8123.837250908142",
                        "1",
                        "0.1831003807973379"
                      ],
                      [
                        "2022-01-01",
                        "Comida para Aves",
                        "481",
                        "8388.099869126305",
                        "10",
                        "0.036579896225968765"
                      ],
                      [
                        "2022-02-04",
                        "Comida para Aves",
                        "531",
                        "7217.836944346707",
                        "18",
                        "0.18900515775854015"
                      ],
                      [
                        "2022-07-17",
                        "Comida para Perros",
                        "890",
                        "7821.65628278966",
                        "7",
                        "0.08161210178742251"
                      ],
                      [
                        "2022-05-07",
                        "Comida para Peces",
                        "899",
                        "8017.7334821261165",
                        "11",
                        "0.28695947711135017"
                      ],
                      [
                        "2022-07-01",
                        "Comida para Peces",
                        "472",
                        "7762.117848897184",
                        "5",
                        "0.11824627981239925"
                      ],
                      [
                        "2022-03-22",
                        "Comida para Perros",
                        "134",
                        "4528.71955310234",
                        "8",
                        "0.1822219670135574"
                      ],
                      [
                        "2022-07-10",
                        "Comida para Peces",
                        "910",
                        "2776.971787535297",
                        "5",
                        "0.0647440096989889"
                      ],
                      [
                        "2022-05-17",
                        "Comida para Gatos",
                        "424",
                        "9731.177851437737",
                        "19",
                        "0.25844286086292"
                      ],
                      [
                        "2022-07-09",
                        "Comida para Peces",
                        "990",
                        "3306.7912908274443",
                        "2",
                        "0.24129987543613987"
                      ],
                      [
                        "2022-05-10",
                        "Comida para Perros",
                        "930",
                        "9823.375713066911",
                        "4",
                        "0.07369059368273145"
                      ],
                      [
                        "2022-04-23",
                        "Comida para Peces",
                        "904",
                        "1919.6579030383173",
                        "1",
                        "0.2733145524018317"
                      ],
                      [
                        "2022-02-05",
                        "Comida para Gatos",
                        "951",
                        "8442.770075701148",
                        "0",
                        "0.012046506610238305"
                      ],
                      [
                        "2022-05-01",
                        "Comida para Peces",
                        "272",
                        "2903.661835757488",
                        "13",
                        "0.22577193615502192"
                      ],
                      [
                        "2022-04-02",
                        "Comida para Peces",
                        "821",
                        "8478.533346126904",
                        "15",
                        "0.1373606356027933"
                      ],
                      [
                        "2022-06-18",
                        "Comida para Gatos",
                        "340",
                        "1622.6632422337848",
                        "4",
                        "0.2506378183430892"
                      ],
                      [
                        "2022-04-27",
                        "Comida para Aves",
                        "467",
                        "8800.326812141418",
                        "0",
                        "0.1396457902308024"
                      ],
                      [
                        "2022-02-06",
                        "Comida para Gatos",
                        "298",
                        "4765.2708484781715",
                        "4",
                        "0.019674628701120887"
                      ],
                      [
                        "2022-06-26",
                        "Comida para Peces",
                        "362",
                        "9323.423863053597",
                        "18",
                        "0.06796365968875408"
                      ],
                      [
                        "2022-01-26",
                        "Comida para Aves",
                        "532",
                        "6780.513967426844",
                        "4",
                        "0.29831245041508153"
                      ],
                      [
                        "2022-03-09",
                        "Comida para Aves",
                        "493",
                        "5647.268319368053",
                        "5",
                        "0.1002532808308106"
                      ],
                      [
                        "2022-04-14",
                        "Comida para Perros",
                        "640",
                        "6105.165001374229",
                        "14",
                        "0.04809156510762986"
                      ],
                      [
                        "2022-02-05",
                        "Comida para Perros",
                        "177",
                        "5828.100741682137",
                        "15",
                        "0.24174924774164663"
                      ],
                      [
                        "2022-04-25",
                        "Comida para Gatos",
                        "796",
                        "2230.929431011819",
                        "19",
                        "0.013520948217150242"
                      ],
                      [
                        "2022-01-31",
                        "Comida para Gatos",
                        "493",
                        "7044.114931499931",
                        "12",
                        "0.019922625440628772"
                      ],
                      [
                        "2022-01-30",
                        "Comida para Gatos",
                        "569",
                        "2608.453961080896",
                        "7",
                        "0.08925563383630983"
                      ],
                      [
                        "2022-02-03",
                        "Comida para Peces",
                        "934",
                        "8543.579458766038",
                        "0",
                        "0.014220292390619015"
                      ],
                      [
                        "2022-05-27",
                        "Comida para Gatos",
                        "621",
                        "1566.162651255352",
                        "5",
                        "0.2987138051676917"
                      ],
                      [
                        "2022-01-18",
                        "Comida para Perros",
                        "210",
                        "9589.607925128445",
                        "10",
                        "0.20733866582463975"
                      ],
                      [
                        "2022-03-26",
                        "Comida para Gatos",
                        "264",
                        "2340.6278602092193",
                        "11",
                        "0.15587593225720714"
                      ],
                      [
                        "2022-01-03",
                        "Comida para Aves",
                        "384",
                        "2399.25898850687",
                        "6",
                        "0.24154991698687908"
                      ],
                      [
                        "2022-03-11",
                        "Comida para Perros",
                        "600",
                        "1630.7988747565173",
                        "1",
                        "0.19874604018358008"
                      ],
                      [
                        "2022-04-12",
                        "Comida para Aves",
                        "164",
                        "2348.33953168957",
                        "13",
                        "0.05197948610276837"
                      ],
                      [
                        "2022-05-21",
                        "Comida para Peces",
                        "992",
                        "6165.943334278957",
                        "15",
                        "0.06589013989466679"
                      ],
                      [
                        "2022-02-14",
                        "Comida para Gatos",
                        "241",
                        "4212.135294711261",
                        "15",
                        "0.2603082857163874"
                      ],
                      [
                        "2022-04-28",
                        "Comida para Perros",
                        "335",
                        "9404.559893223672",
                        "11",
                        "0.10108839803214642"
                      ],
                      [
                        "2022-03-08",
                        "Comida para Aves",
                        "614",
                        "4296.9444487592955",
                        "3",
                        "0.1342921027874635"
                      ],
                      [
                        "2022-04-22",
                        "Comida para Perros",
                        "521",
                        "9335.272404889665",
                        "9",
                        "0.11734071363700395"
                      ],
                      [
                        "2022-04-02",
                        "Comida para Aves",
                        "187",
                        "1527.106663034433",
                        "4",
                        "0.015608943601512725"
                      ],
                      [
                        "2022-03-27",
                        "Comida para Perros",
                        "834",
                        "2979.459764030248",
                        "17",
                        "0.21137211518508583"
                      ],
                      [
                        "2022-06-17",
                        "Comida para Aves",
                        "615",
                        "8584.102105551236",
                        "5",
                        "0.16202222423586468"
                      ],
                      [
                        "2022-02-09",
                        "Comida para Peces",
                        "211",
                        "2473.057668173475",
                        "14",
                        "0.20284202454417907"
                      ],
                      [
                        "2022-05-31",
                        "Comida para Aves",
                        "948",
                        "3342.2728460525545",
                        "19",
                        "0.08346941690014299"
                      ],
                      [
                        "2022-06-08",
                        "Comida para Aves",
                        "855",
                        "4340.956493030306",
                        "8",
                        "0.12207417249809305"
                      ],
                      [
                        "2022-05-26",
                        "Comida para Perros",
                        "694",
                        "6257.786224879201",
                        "3",
                        "0.05779492868149439"
                      ],
                      [
                        "2022-07-18",
                        "Comida para Aves",
                        "918",
                        "4530.800008657363",
                        "5",
                        "0.12590478943115932"
                      ],
                      [
                        "2022-07-19",
                        "Comida para Aves",
                        "590",
                        "3413.5578897066025",
                        "3",
                        "0.19604742353911014"
                      ],
                      [
                        "2022-01-19",
                        "Comida para Gatos",
                        "128",
                        "5382.4975880018355",
                        "6",
                        "0.2834067129577404"
                      ],
                      [
                        "2022-04-03",
                        "Comida para Aves",
                        "903",
                        "5786.731782883052",
                        "1",
                        "0.19903715996580232"
                      ],
                      [
                        "2022-02-13",
                        "Comida para Gatos",
                        "409",
                        "9661.692471479482",
                        "9",
                        "0.15754791899789963"
                      ],
                      [
                        "2022-03-25",
                        "Comida para Perros",
                        "894",
                        "7083.591539682369",
                        "12",
                        "0.12491016674944841"
                      ],
                      [
                        "2022-06-27",
                        "Comida para Aves",
                        "469",
                        "2729.5592149633558",
                        "5",
                        "0.031664905278294096"
                      ],
                      [
                        "2022-02-11",
                        "Comida para Peces",
                        "459",
                        "7851.972484115193",
                        "2",
                        "0.1431222890795971"
                      ],
                      [
                        "2022-04-04",
                        "Comida para Perros",
                        "654",
                        "9830.275917924779",
                        "14",
                        "0.04653242794819313"
                      ],
                      [
                        "2022-06-24",
                        "Comida para Peces",
                        "914",
                        "2356.436294510555",
                        "19",
                        "0.17465615492372702"
                      ],
                      [
                        "2022-05-30",
                        "Comida para Gatos",
                        "297",
                        "2460.266292442608",
                        "5",
                        "0.2190741232831752"
                      ],
                      [
                        "2022-03-31",
                        "Comida para Gatos",
                        "640",
                        "2032.1288868596082",
                        "3",
                        "0.2839486835064577"
                      ],
                      [
                        "2022-03-15",
                        "Comida para Peces",
                        "227",
                        "3616.8532272772886",
                        "15",
                        "0.08905586030638997"
                      ],
                      [
                        "2022-01-29",
                        "Comida para Peces",
                        "271",
                        "7263.767966269087",
                        "1",
                        "0.11907166162725989"
                      ],
                      [
                        "2022-04-16",
                        "Comida para Peces",
                        "183",
                        "3994.9916184834997",
                        "10",
                        "0.05488558185759968"
                      ],
                      [
                        "2022-07-06",
                        "Comida para Perros",
                        "162",
                        "1859.109539963323",
                        "7",
                        "0.26338215296412976"
                      ],
                      [
                        "2022-05-09",
                        "Comida para Peces",
                        "942",
                        "6669.116827783966",
                        "8",
                        "0.24722316733482683"
                      ],
                      [
                        "2022-03-05",
                        "Comida para Aves",
                        "302",
                        "7976.24388647823",
                        "17",
                        "0.23248796840197075"
                      ],
                      [
                        "2022-01-17",
                        "Comida para Perros",
                        "749",
                        "4645.3734125491355",
                        "7",
                        "0.0171870115649704"
                      ],
                      [
                        "2022-04-17",
                        "Comida para Gatos",
                        "319",
                        "7001.352547496547",
                        "19",
                        "0.1670158325924765"
                      ],
                      [
                        "2022-06-14",
                        "Comida para Peces",
                        "839",
                        "6301.280103730791",
                        "7",
                        "0.07050406861064072"
                      ],
                      [
                        "2022-04-05",
                        "Comida para Gatos",
                        "943",
                        "6792.79612235018",
                        "9",
                        "0.035905559016692075"
                      ],
                      [
                        "2022-01-25",
                        "Comida para Aves",
                        "964",
                        "4796.939224094143",
                        "1",
                        "0.2344839300550168"
                      ],
                      [
                        "2022-04-27",
                        "Comida para Peces",
                        "266",
                        "5293.895358191037",
                        "17",
                        "0.06347441253230458"
                      ],
                      [
                        "2022-07-11",
                        "Comida para Gatos",
                        "131",
                        "8334.546468579949",
                        "10",
                        "0.15024350947430087"
                      ],
                      [
                        "2022-07-15",
                        "Comida para Aves",
                        "855",
                        "6284.098042793497",
                        "12",
                        "0.1578289045201622"
                      ],
                      [
                        "2022-02-21",
                        "Comida para Peces",
                        "482",
                        "1848.5929281243148",
                        "15",
                        "0.06398460121169147"
                      ],
                      [
                        "2022-05-17",
                        "Comida para Aves",
                        "959",
                        "1268.6833408896696",
                        "2",
                        "0.14767834989671466"
                      ],
                      [
                        "2022-07-04",
                        "Comida para Peces",
                        "925",
                        "5601.264561843076",
                        "0",
                        "0.015845969279999084"
                      ],
                      [
                        "2022-04-02",
                        "Comida para Aves",
                        "121",
                        "5901.938412862427",
                        "5",
                        "2.17348915476534e-05"
                      ],
                      [
                        "2022-04-04",
                        "Comida para Gatos",
                        "837",
                        "8345.51279014883",
                        "19",
                        "0.26409657949931103"
                      ],
                      [
                        "2022-05-04",
                        "Comida para Perros",
                        "929",
                        "7573.93139975146",
                        "0",
                        "0.12467661062584565"
                      ],
                      [
                        "2022-03-29",
                        "Comida para Peces",
                        "592",
                        "3028.4462656725163",
                        "17",
                        "0.27222593968600667"
                      ],
                      [
                        "2022-06-10",
                        "Comida para Peces",
                        "909",
                        "8142.373379278542",
                        "14",
                        "0.14889220791847788"
                      ],
                      [
                        "2022-05-28",
                        "Comida para Perros",
                        "471",
                        "6662.0406149406",
                        "4",
                        "0.12933248837644942"
                      ],
                      [
                        "2022-03-14",
                        "Comida para Gatos",
                        "975",
                        "3099.4388430429876",
                        "4",
                        "0.08877364219758217"
                      ],
                      [
                        "2022-07-19",
                        "Comida para Peces",
                        "455",
                        "5642.860538668858",
                        "12",
                        "0.024506681277911623"
                      ],
                      [
                        "2022-03-29",
                        "Comida para Perros",
                        "269",
                        "3160.2489333486774",
                        "12",
                        "0.09290839477935654"
                      ],
                      [
                        "2022-01-14",
                        "Comida para Perros",
                        "350",
                        "7495.505837894751",
                        "4",
                        "0.18254107955215249"
                      ],
                      [
                        "2022-02-28",
                        "Comida para Gatos",
                        "763",
                        "3716.789867308492",
                        "15",
                        "0.22883590416689675"
                      ],
                      [
                        "2022-03-23",
                        "Comida para Perros",
                        "353",
                        "5470.699812480084",
                        "5",
                        "0.1622476552961531"
                      ],
                      [
                        "2022-05-01",
                        "Comida para Peces",
                        "844",
                        "9083.766536978519",
                        "13",
                        "0.22747675310892565"
                      ],
                      [
                        "2022-04-27",
                        "Comida para Gatos",
                        "920",
                        "9886.252461525923",
                        "7",
                        "0.04732547749769623"
                      ],
                      [
                        "2022-07-03",
                        "Comida para Aves",
                        "379",
                        "9621.08788639801",
                        "14",
                        "0.17497197950375212"
                      ],
                      [
                        "2022-03-06",
                        "Comida para Aves",
                        "222",
                        "7934.1975695502815",
                        "5",
                        "0.2647809681077131"
                      ],
                      [
                        "2022-06-14",
                        "Comida para Peces",
                        "940",
                        "2225.82938329805",
                        "7",
                        "0.065388062292241"
                      ],
                      [
                        "2022-01-26",
                        "Comida para Perros",
                        "653",
                        "5211.523896388892",
                        "4",
                        "0.06830068151789709"
                      ],
                      [
                        "2022-02-02",
                        "Comida para Gatos",
                        "337",
                        "9714.569650847981",
                        "15",
                        "0.22452975392041516"
                      ],
                      [
                        "2022-06-20",
                        "Comida para Aves",
                        "928",
                        "4177.086327542869",
                        "9",
                        "0.24361703545463864"
                      ],
                      [
                        "2022-01-15",
                        "Comida para Gatos",
                        "915",
                        "2435.4689373071797",
                        "5",
                        "0.07441389890822976"
                      ],
                      [
                        "2022-01-29",
                        "Comida para Peces",
                        "755",
                        "2721.8130015839643",
                        "1",
                        "0.09947094125633334"
                      ],
                      [
                        "2022-01-21",
                        "Comida para Peces",
                        "136",
                        "5944.134898571622",
                        "0",
                        "0.18953082013518355"
                      ],
                      [
                        "2022-03-10",
                        "Comida para Gatos",
                        "706",
                        "1195.3163040241013",
                        "1",
                        "0.11952951395675693"
                      ],
                      [
                        "2022-01-23",
                        "Comida para Gatos",
                        "910",
                        "7932.352963649351",
                        "19",
                        "0.18720329103877587"
                      ],
                      [
                        "2022-05-03",
                        "Comida para Peces",
                        "866",
                        "4533.1212098016995",
                        "9",
                        "0.14892900962901753"
                      ],
                      [
                        "2022-03-25",
                        "Comida para Peces",
                        "612",
                        "3010.223934768056",
                        "2",
                        "0.2320953927236175"
                      ],
                      [
                        "2022-05-16",
                        "Comida para Perros",
                        "833",
                        "3624.370114828695",
                        "16",
                        "0.25376659407399726"
                      ],
                      [
                        "2022-03-03",
                        "Comida para Aves",
                        "167",
                        "8228.29672262321",
                        "18",
                        "0.259148162791548"
                      ],
                      [
                        "2022-05-22",
                        "Comida para Perros",
                        "387",
                        "1334.6302783347403",
                        "10",
                        "0.18345752331895293"
                      ],
                      [
                        "2022-01-06",
                        "Comida para Gatos",
                        "897",
                        "7941.8876816771235",
                        "16",
                        "0.18377523135577511"
                      ],
                      [
                        "2022-01-01",
                        "Comida para Aves",
                        "116",
                        "7860.672213037652",
                        "17",
                        "0.13489406964582173"
                      ],
                      [
                        "2022-05-17",
                        "Comida para Perros",
                        "382",
                        "1733.8709718231125",
                        "8",
                        "0.008284213488991632"
                      ],
                      [
                        "2022-07-01",
                        "Comida para Aves",
                        "362",
                        "8479.32750169024",
                        "17",
                        "0.08975406583897873"
                      ],
                      [
                        "2022-05-20",
                        "Comida para Perros",
                        "333",
                        "2548.3794723267347",
                        "17",
                        "0.019109315550222238"
                      ],
                      [
                        "2022-01-05",
                        "Comida para Gatos",
                        "585",
                        "2227.8913211842264",
                        "5",
                        "0.13133557465792592"
                      ],
                      [
                        "2022-06-17",
                        "Comida para Peces",
                        "367",
                        "2497.6107655424985",
                        "9",
                        "0.25484557469478425"
                      ],
                      [
                        "2022-04-03",
                        "Comida para Aves",
                        "437",
                        "1024.822080381152",
                        "6",
                        "0.17904060531144636"
                      ],
                      [
                        "2022-06-23",
                        "Comida para Gatos",
                        "923",
                        "5801.110203394354",
                        "12",
                        "0.2026597794808671"
                      ],
                      [
                        "2022-01-27",
                        "Comida para Gatos",
                        "993",
                        "4320.782664388285",
                        "6",
                        "0.05640239153312249"
                      ],
                      [
                        "2022-03-16",
                        "Comida para Peces",
                        "399",
                        "2289.279075029516",
                        "15",
                        "0.07858594491083827"
                      ],
                      [
                        "2022-02-22",
                        "Comida para Peces",
                        "423",
                        "8818.557192799835",
                        "1",
                        "0.048939645891868354"
                      ],
                      [
                        "2022-06-27",
                        "Comida para Peces",
                        "632",
                        "5555.814997664935",
                        "14",
                        "0.2528066286781292"
                      ],
                      [
                        "2022-02-21",
                        "Comida para Aves",
                        "575",
                        "4138.372619892934",
                        "5",
                        "0.08409390389624777"
                      ],
                      [
                        "2022-04-16",
                        "Comida para Peces",
                        "611",
                        "5794.485206469758",
                        "9",
                        "0.16869789291036877"
                      ],
                      [
                        "2022-01-19",
                        "Comida para Aves",
                        "731",
                        "8282.907118751897",
                        "5",
                        "0.04233858390570254"
                      ],
                      [
                        "2022-04-28",
                        "Comida para Peces",
                        "576",
                        "2538.41325385694",
                        "6",
                        "0.03719667249819351"
                      ],
                      [
                        "2022-02-04",
                        "Comida para Perros",
                        "370",
                        "8791.089485196477",
                        "11",
                        "0.10427500896480524"
                      ],
                      [
                        "2022-02-21",
                        "Comida para Perros",
                        "370",
                        "6269.003162466637",
                        "16",
                        "0.09910594741800519"
                      ],
                      [
                        "2022-06-08",
                        "Comida para Gatos",
                        "180",
                        "6539.787050773922",
                        "19",
                        "0.09865597014342235"
                      ],
                      [
                        "2022-07-01",
                        "Comida para Perros",
                        "583",
                        "6296.8795528661585",
                        "18",
                        "0.18027983610592685"
                      ],
                      [
                        "2022-02-28",
                        "Comida para Peces",
                        "547",
                        "2991.8720729357865",
                        "16",
                        "0.09479704681213333"
                      ],
                      [
                        "2022-06-21",
                        "Comida para Aves",
                        "473",
                        "2662.6468489667077",
                        "9",
                        "0.23062076069243137"
                      ],
                      [
                        "2022-02-25",
                        "Comida para Aves",
                        "842",
                        "5296.170842894447",
                        "10",
                        "0.027201230473992397"
                      ],
                      [
                        "2022-01-19",
                        "Comida para Peces",
                        "143",
                        "4207.08461265203",
                        "9",
                        "0.09743575732128858"
                      ],
                      [
                        "2022-06-23",
                        "Comida para Aves",
                        "255",
                        "3167.5271410364044",
                        "9",
                        "0.2007579385506188"
                      ],
                      [
                        "2022-03-29",
                        "Comida para Gatos",
                        "458",
                        "6231.423663514282",
                        "7",
                        "0.180879633143259"
                      ],
                      [
                        "2022-07-13",
                        "Comida para Perros",
                        "827",
                        "8705.661313686307",
                        "10",
                        "0.03585468551011661"
                      ],
                      [
                        "2022-03-12",
                        "Comida para Peces",
                        "635",
                        "6012.079622653024",
                        "11",
                        "0.13184204794045126"
                      ],
                      [
                        "2022-02-23",
                        "Comida para Perros",
                        "390",
                        "9158.709064674398",
                        "7",
                        "0.092766438862361"
                      ],
                      [
                        "2022-02-18",
                        "Comida para Perros",
                        "388",
                        "7451.155072750319",
                        "0",
                        "0.18956112969443176"
                      ],
                      [
                        "2022-04-05",
                        "Comida para Peces",
                        "933",
                        "9103.935498702584",
                        "0",
                        "0.038961083871841086"
                      ],
                      [
                        "2022-03-01",
                        "Comida para Peces",
                        "378",
                        "2815.396546651872",
                        "2",
                        "0.20116977689511228"
                      ],
                      [
                        "2022-03-22",
                        "Comida para Perros",
                        "889",
                        "6286.029396746376",
                        "15",
                        "0.1391497593809369"
                      ],
                      [
                        "2022-06-04",
                        "Comida para Peces",
                        "541",
                        "4192.099743510277",
                        "8",
                        "0.0824669963757771"
                      ],
                      [
                        "2022-05-05",
                        "Comida para Perros",
                        "680",
                        "7693.345961418123",
                        "15",
                        "0.22423319809922282"
                      ],
                      [
                        "2022-06-13",
                        "Comida para Perros",
                        "913",
                        "5048.917015661325",
                        "19",
                        "0.05637295659397383"
                      ],
                      [
                        "2022-02-28",
                        "Comida para Perros",
                        "892",
                        "4709.630412831471",
                        "14",
                        "0.04567138156891554"
                      ],
                      [
                        "2022-06-27",
                        "Comida para Peces",
                        "442",
                        "2286.809043574469",
                        "2",
                        "0.004606780969363744"
                      ],
                      [
                        "2022-04-17",
                        "Comida para Peces",
                        "373",
                        "4190.990272125317",
                        "3",
                        "0.2583901068938106"
                      ],
                      [
                        "2022-02-14",
                        "Comida para Gatos",
                        "574",
                        "7010.231008066525",
                        "1",
                        "0.1477096622140313"
                      ],
                      [
                        "2022-01-14",
                        "Comida para Perros",
                        "748",
                        "5578.953118135829",
                        "10",
                        "0.15501468279646363"
                      ],
                      [
                        "2022-05-02",
                        "Comida para Perros",
                        "873",
                        "5672.187236335428",
                        "4",
                        "0.0344287850117506"
                      ],
                      [
                        "2022-03-12",
                        "Comida para Perros",
                        "325",
                        "6833.492851205579",
                        "0",
                        "0.03233284081428821"
                      ],
                      [
                        "2022-02-08",
                        "Comida para Gatos",
                        "442",
                        "3482.5379686277124",
                        "18",
                        "0.10013502146841087"
                      ],
                      [
                        "2022-06-17",
                        "Comida para Perros",
                        "350",
                        "2986.7163524680145",
                        "6",
                        "0.15486919320558343"
                      ],
                      [
                        "2022-05-17",
                        "Comida para Gatos",
                        "694",
                        "9709.827217341657",
                        "12",
                        "0.21026166571300484"
                      ],
                      [
                        "2022-01-14",
                        "Comida para Gatos",
                        "878",
                        "2240.481719948094",
                        "15",
                        "0.1497811069538785"
                      ],
                      [
                        "2022-05-16",
                        "Comida para Peces",
                        "674",
                        "1728.9836625256794",
                        "16",
                        "0.24946752931171218"
                      ],
                      [
                        "2022-01-23",
                        "Comida para Gatos",
                        "641",
                        "7332.8531114402585",
                        "18",
                        "0.11321769952409672"
                      ],
                      [
                        "2022-03-21",
                        "Comida para Peces",
                        "239",
                        "6824.127894154418",
                        "13",
                        "0.008426397586410438"
                      ],
                      [
                        "2022-01-09",
                        "Comida para Aves",
                        "258",
                        "4338.759267802823",
                        "1",
                        "0.12784568250783382"
                      ],
                      [
                        "2022-01-07",
                        "Comida para Perros",
                        "427",
                        "1691.076210994995",
                        "3",
                        "0.025500788795209804"
                      ],
                      [
                        "2022-07-19",
                        "Comida para Aves",
                        "670",
                        "3515.769490409328",
                        "6",
                        "0.09661632820910748"
                      ],
                      [
                        "2022-07-14",
                        "Comida para Perros",
                        "142",
                        "1560.021129855465",
                        "7",
                        "0.29554640493552226"
                      ],
                      [
                        "2022-03-02",
                        "Comida para Gatos",
                        "427",
                        "9902.091748939754",
                        "16",
                        "0.257206277136313"
                      ],
                      [
                        "2022-05-25",
                        "Comida para Peces",
                        "765",
                        "7258.666179371817",
                        "2",
                        "0.0709367139476817"
                      ],
                      [
                        "2022-02-26",
                        "Comida para Gatos",
                        "592",
                        "4887.0379015783965",
                        "10",
                        "0.11278872939381263"
                      ],
                      [
                        "2022-04-25",
                        "Comida para Perros",
                        "922",
                        "9277.569758102165",
                        "19",
                        "0.1293495392832932"
                      ],
                      [
                        "2022-06-01",
                        "Comida para Perros",
                        "218",
                        "6089.0117654068445",
                        "2",
                        "0.2291605133100557"
                      ],
                      [
                        "2022-01-25",
                        "Comida para Gatos",
                        "439",
                        "7401.474752207436",
                        "0",
                        "0.010037138346169526"
                      ],
                      [
                        "2022-01-05",
                        "Comida para Perros",
                        "125",
                        "5560.927699302691",
                        "6",
                        "0.011586831008371013"
                      ],
                      [
                        "2022-04-11",
                        "Comida para Perros",
                        "273",
                        "8438.301565477566",
                        "13",
                        "0.035135360258614634"
                      ],
                      [
                        "2022-02-19",
                        "Comida para Aves",
                        "477",
                        "9842.018440034095",
                        "6",
                        "0.18849749477552225"
                      ],
                      [
                        "2022-03-29",
                        "Comida para Gatos",
                        "590",
                        "4709.1507467204265",
                        "15",
                        "0.12436398517333419"
                      ],
                      [
                        "2022-01-31",
                        "Comida para Aves",
                        "231",
                        "2325.6759533036698",
                        "5",
                        "0.25467768862870016"
                      ],
                      [
                        "2022-02-24",
                        "Comida para Gatos",
                        "984",
                        "4616.600661207456",
                        "13",
                        "0.08521736706835116"
                      ],
                      [
                        "2022-06-03",
                        "Comida para Aves",
                        "951",
                        "8179.407258219529",
                        "9",
                        "0.14677560894283012"
                      ],
                      [
                        "2022-01-21",
                        "Comida para Peces",
                        "349",
                        "1001.6804253925822",
                        "19",
                        "0.21203571645892327"
                      ],
                      [
                        "2022-04-08",
                        "Comida para Perros",
                        "649",
                        "9591.35303908159",
                        "13",
                        "0.16356035914950276"
                      ],
                      [
                        "2022-04-12",
                        "Comida para Perros",
                        "261",
                        "6962.630270837466",
                        "13",
                        "0.0950399933270878"
                      ],
                      [
                        "2022-07-05",
                        "Comida para Gatos",
                        "544",
                        "3795.8305434335257",
                        "2",
                        "0.045762830584005244"
                      ],
                      [
                        "2022-06-01",
                        "Comida para Gatos",
                        "976",
                        "5408.392333798498",
                        "9",
                        "0.1621810255873236"
                      ],
                      [
                        "2022-06-05",
                        "Comida para Gatos",
                        "829",
                        "3376.654693155113",
                        "1",
                        "0.04264695067864448"
                      ],
                      [
                        "2022-01-30",
                        "Comida para Aves",
                        "619",
                        "4923.381558398276",
                        "13",
                        "0.28179133790743366"
                      ],
                      [
                        "2022-06-11",
                        "Comida para Gatos",
                        "265",
                        "6743.971900284677",
                        "0",
                        "0.16196718318319211"
                      ],
                      [
                        "2022-04-26",
                        "Comida para Perros",
                        "696",
                        "7066.6956009193955",
                        "14",
                        "0.052474591457077856"
                      ],
                      [
                        "2022-02-23",
                        "Comida para Gatos",
                        "454",
                        "3904.9600931231225",
                        "4",
                        "0.21619276407507224"
                      ],
                      [
                        "2022-04-30",
                        "Comida para Perros",
                        "372",
                        "1206.6961605294678",
                        "7",
                        "0.031064158295931663"
                      ],
                      [
                        "2022-06-29",
                        "Comida para Aves",
                        "785",
                        "4394.748884582625",
                        "16",
                        "0.231493436992206"
                      ],
                      [
                        "2022-03-28",
                        "Comida para Perros",
                        "588",
                        "4378.40197858794",
                        "9",
                        "0.1371867333237131"
                      ],
                      [
                        "2022-01-08",
                        "Comida para Peces",
                        "267",
                        "4708.219772978036",
                        "12",
                        "0.039798586653759606"
                      ],
                      [
                        "2022-04-16",
                        "Comida para Perros",
                        "645",
                        "9691.52925856113",
                        "17",
                        "0.011163310892640454"
                      ],
                      [
                        "2022-05-18",
                        "Comida para Peces",
                        "965",
                        "9730.87278057284",
                        "4",
                        "0.2980133981069715"
                      ],
                      [
                        "2022-07-02",
                        "Comida para Aves",
                        "933",
                        "2338.4271957029814",
                        "16",
                        "0.08231048702628939"
                      ],
                      [
                        "2022-05-09",
                        "Comida para Perros",
                        "301",
                        "9220.8934896627",
                        "16",
                        "0.28567458662151185"
                      ],
                      [
                        "2022-03-25",
                        "Comida para Aves",
                        "187",
                        "9806.13679292086",
                        "16",
                        "0.1505509010211152"
                      ],
                      [
                        "2022-05-01",
                        "Comida para Aves",
                        "424",
                        "3309.8275604433497",
                        "3",
                        "0.15090461517764445"
                      ],
                      [
                        "2022-06-14",
                        "Comida para Peces",
                        "380",
                        "7669.215101759271",
                        "8",
                        "0.02732091551164002"
                      ],
                      [
                        "2022-05-29",
                        "Comida para Aves",
                        "106",
                        "2579.0936489822443",
                        "2",
                        "0.2852117456513925"
                      ],
                      [
                        "2022-04-28",
                        "Comida para Perros",
                        "965",
                        "5247.690748874315",
                        "0",
                        "0.21986875936502603"
                      ],
                      [
                        "2022-01-04",
                        "Comida para Peces",
                        "470",
                        "6464.841381630032",
                        "6",
                        "0.15561835144786534"
                      ],
                      [
                        "2022-05-07",
                        "Comida para Aves",
                        "867",
                        "2616.2963219085605",
                        "17",
                        "0.036077141722165806"
                      ],
                      [
                        "2022-02-12",
                        "Comida para Gatos",
                        "672",
                        "5924.656841693589",
                        "4",
                        "0.05270297084648564"
                      ],
                      [
                        "2022-03-07",
                        "Comida para Peces",
                        "316",
                        "7649.481658536297",
                        "4",
                        "0.12964998154253513"
                      ],
                      [
                        "2022-01-21",
                        "Comida para Perros",
                        "161",
                        "7006.759842722097",
                        "2",
                        "0.10867764621966508"
                      ],
                      [
                        "2022-02-06",
                        "Comida para Perros",
                        "287",
                        "6676.718449528967",
                        "11",
                        "0.16744140206139982"
                      ],
                      [
                        "2022-03-10",
                        "Comida para Gatos",
                        "603",
                        "2083.890179815835",
                        "10",
                        "0.02290319242716263"
                      ],
                      [
                        "2022-04-23",
                        "Comida para Peces",
                        "733",
                        "9607.505626647713",
                        "2",
                        "0.012103805795501943"
                      ],
                      [
                        "2022-06-25",
                        "Comida para Gatos",
                        "558",
                        "2268.2533690646633",
                        "11",
                        "0.15333092600701625"
                      ],
                      [
                        "2022-05-19",
                        "Comida para Peces",
                        "897",
                        "6510.1420795893855",
                        "12",
                        "0.008550414278721686"
                      ],
                      [
                        "2022-04-15",
                        "Comida para Peces",
                        "339",
                        "2165.782609612236",
                        "9",
                        "0.01786558620305283"
                      ],
                      [
                        "2022-04-02",
                        "Comida para Gatos",
                        "128",
                        "5857.330053202173",
                        "3",
                        "0.11290243745712189"
                      ],
                      [
                        "2022-02-13",
                        "Comida para Gatos",
                        "252",
                        "8806.90267028584",
                        "19",
                        "0.01853372092044059"
                      ],
                      [
                        "2022-03-05",
                        "Comida para Peces",
                        "487",
                        "6672.568883818594",
                        "6",
                        "0.11564088798490502"
                      ],
                      [
                        "2022-06-09",
                        "Comida para Aves",
                        "566",
                        "9177.280176524877",
                        "10",
                        "0.07252515477283092"
                      ],
                      [
                        "2022-05-29",
                        "Comida para Peces",
                        "761",
                        "6926.89840197683",
                        "16",
                        "0.056331089132726296"
                      ],
                      [
                        "2022-07-18",
                        "Comida para Perros",
                        "362",
                        "5098.597293814821",
                        "8",
                        "0.12140394944587884"
                      ],
                      [
                        "2022-01-10",
                        "Comida para Perros",
                        "184",
                        "5201.760409294289",
                        "5",
                        "0.03597117168937712"
                      ],
                      [
                        "2022-07-08",
                        "Comida para Gatos",
                        "377",
                        "2904.7376009887116",
                        "15",
                        "0.10489181013578124"
                      ],
                      [
                        "2022-04-02",
                        "Comida para Peces",
                        "731",
                        "9584.74925289369",
                        "5",
                        "0.13046208880998086"
                      ],
                      [
                        "2022-04-22",
                        "Comida para Aves",
                        "383",
                        "3798.3339513007495",
                        "18",
                        "0.24900088408804136"
                      ],
                      [
                        "2022-06-13",
                        "Comida para Aves",
                        "548",
                        "4599.512917189689",
                        "0",
                        "0.27984185474466666"
                      ],
                      [
                        "2022-03-25",
                        "Comida para Gatos",
                        "466",
                        "1268.1058916543252",
                        "4",
                        "0.09250153033986976"
                      ],
                      [
                        "2022-03-18",
                        "Comida para Gatos",
                        "487",
                        "4492.054996607057",
                        "0",
                        "0.08779261492213088"
                      ],
                      [
                        "2022-01-19",
                        "Comida para Gatos",
                        "921",
                        "2050.35181231717",
                        "5",
                        "0.16995548228136545"
                      ],
                      [
                        "2022-04-24",
                        "Comida para Gatos",
                        "905",
                        "2722.8298636622235",
                        "18",
                        "0.041224327920097156"
                      ],
                      [
                        "2022-03-16",
                        "Comida para Aves",
                        "107",
                        "8105.844749972262",
                        "13",
                        "0.10491365541841723"
                      ],
                      [
                        "2022-06-21",
                        "Comida para Perros",
                        "476",
                        "5249.710579865703",
                        "19",
                        "0.015964913748572205"
                      ],
                      [
                        "2022-05-12",
                        "Comida para Aves",
                        "436",
                        "8539.651718759618",
                        "2",
                        "0.11372044313463828"
                      ],
                      [
                        "2022-05-21",
                        "Comida para Perros",
                        "559",
                        "3905.6401496042236",
                        "15",
                        "0.03424540371693314"
                      ],
                      [
                        "2022-02-28",
                        "Comida para Perros",
                        "751",
                        "4448.7649031475585",
                        "8",
                        "0.16854387354068878"
                      ],
                      [
                        "2022-05-10",
                        "Comida para Perros",
                        "486",
                        "8489.211303401404",
                        "9",
                        "0.19247812031869851"
                      ],
                      [
                        "2022-04-24",
                        "Comida para Aves",
                        "410",
                        "1608.6837936327079",
                        "0",
                        "0.29612746100300874"
                      ],
                      [
                        "2022-05-09",
                        "Comida para Peces",
                        "617",
                        "8383.802067884593",
                        "6",
                        "0.05854159867783199"
                      ],
                      [
                        "2022-02-09",
                        "Comida para Gatos",
                        "885",
                        "2848.5096185966995",
                        "0",
                        "0.06216064464073917"
                      ],
                      [
                        "2022-01-25",
                        "Comida para Gatos",
                        "862",
                        "6894.373439352266",
                        "9",
                        "0.28422585557692953"
                      ],
                      [
                        "2022-07-06",
                        "Comida para Peces",
                        "993",
                        "5795.825460957811",
                        "17",
                        "0.2593922515370455"
                      ],
                      [
                        "2022-02-06",
                        "Comida para Aves",
                        "690",
                        "8103.569403471602",
                        "3",
                        "0.18481621483116564"
                      ],
                      [
                        "2022-04-10",
                        "Comida para Aves",
                        "946",
                        "7898.480861772936",
                        "5",
                        "0.2524221710250627"
                      ],
                      [
                        "2022-03-11",
                        "Comida para Peces",
                        "181",
                        "6178.636080119147",
                        "17",
                        "0.06290764341644653"
                      ],
                      [
                        "2022-05-15",
                        "Comida para Perros",
                        "333",
                        "6226.203687912666",
                        "18",
                        "0.2622086468590308"
                      ],
                      [
                        "2022-01-04",
                        "Comida para Aves",
                        "210",
                        "7609.249247176326",
                        "13",
                        "0.2601922529023922"
                      ],
                      [
                        "2022-05-02",
                        "Comida para Perros",
                        "720",
                        "6495.069208994851",
                        "11",
                        "0.0744336745440188"
                      ],
                      [
                        "2022-06-18",
                        "Comida para Aves",
                        "130",
                        "6030.924726072339",
                        "0",
                        "0.1525119942779639"
                      ],
                      [
                        "2022-07-08",
                        "Comida para Peces",
                        "966",
                        "5479.258178056101",
                        "6",
                        "0.2789322791673013"
                      ],
                      [
                        "2022-06-11",
                        "Comida para Gatos",
                        "871",
                        "9617.588250385574",
                        "12",
                        "0.20374499885024555"
                      ],
                      [
                        "2022-01-29",
                        "Comida para Gatos",
                        "228",
                        "2991.159517083711",
                        "9",
                        "0.19815573159622216"
                      ],
                      [
                        "2022-03-10",
                        "Comida para Gatos",
                        "961",
                        "4933.848211025495",
                        "17",
                        "0.16792938016930978"
                      ],
                      [
                        "2022-01-27",
                        "Comida para Aves",
                        "400",
                        "4769.08655113956",
                        "12",
                        "0.08064946940797506"
                      ],
                      [
                        "2022-04-20",
                        "Comida para Peces",
                        "784",
                        "6279.007648011314",
                        "18",
                        "0.29352461145337766"
                      ],
                      [
                        "2022-06-29",
                        "Comida para Perros",
                        "336",
                        "7154.046346023249",
                        "6",
                        "0.13425289368665486"
                      ],
                      [
                        "2022-07-01",
                        "Comida para Gatos",
                        "995",
                        "3004.9399417097666",
                        "15",
                        "0.09343502896588915"
                      ],
                      [
                        "2022-07-17",
                        "Comida para Perros",
                        "727",
                        "6056.718552197968",
                        "7",
                        "0.21857421290453313"
                      ],
                      [
                        "2022-06-11",
                        "Comida para Gatos",
                        "354",
                        "9283.499162291137",
                        "0",
                        "0.18231144397814025"
                      ],
                      [
                        "2022-05-16",
                        "Comida para Perros",
                        "100",
                        "3109.1238393499793",
                        "5",
                        "0.10267239246138378"
                      ],
                      [
                        "2022-05-06",
                        "Comida para Aves",
                        "885",
                        "1997.2357400713795",
                        "4",
                        "0.0911374772571112"
                      ],
                      [
                        "2022-04-05",
                        "Comida para Aves",
                        "513",
                        "3513.0917310922077",
                        "7",
                        "0.06435200554875971"
                      ],
                      [
                        "2022-03-14",
                        "Comida para Perros",
                        "703",
                        "5974.66662617835",
                        "13",
                        "0.023545931022077835"
                      ],
                      [
                        "2022-03-26",
                        "Comida para Aves",
                        "328",
                        "5072.333347907666",
                        "11",
                        "0.1877132719557776"
                      ],
                      [
                        "2022-05-16",
                        "Comida para Perros",
                        "287",
                        "4963.471524102299",
                        "4",
                        "0.15170809144312655"
                      ],
                      [
                        "2022-07-15",
                        "Comida para Aves",
                        "121",
                        "6887.78708201104",
                        "6",
                        "0.07045452322585384"
                      ],
                      [
                        "2022-04-19",
                        "Comida para Aves",
                        "163",
                        "9248.368588718411",
                        "6",
                        "0.0165373576750088"
                      ],
                      [
                        "2022-03-09",
                        "Comida para Perros",
                        "834",
                        "2672.763874070415",
                        "8",
                        "0.005670320479129109"
                      ],
                      [
                        "2022-04-13",
                        "Comida para Gatos",
                        "604",
                        "4137.162707432879",
                        "6",
                        "0.2215487788995352"
                      ],
                      [
                        "2022-03-26",
                        "Comida para Gatos",
                        "713",
                        "4466.485123128574",
                        "16",
                        "0.05647595674655099"
                      ],
                      [
                        "2022-03-13",
                        "Comida para Peces",
                        "757",
                        "2380.333123891012",
                        "2",
                        "0.079993085816852"
                      ],
                      [
                        "2022-03-25",
                        "Comida para Peces",
                        "138",
                        "9014.542792459557",
                        "16",
                        "0.004233658134178908"
                      ],
                      [
                        "2022-01-01",
                        "Comida para Gatos",
                        "819",
                        "9391.990752470214",
                        "0",
                        "0.04519171644965366"
                      ],
                      [
                        "2022-05-14",
                        "Comida para Perros",
                        "997",
                        "9992.872001692396",
                        "4",
                        "0.26233371526874877"
                      ],
                      [
                        "2022-04-02",
                        "Comida para Peces",
                        "243",
                        "3134.8725686366824",
                        "0",
                        "0.07261825042273733"
                      ],
                      [
                        "2022-04-18",
                        "Comida para Gatos",
                        "826",
                        "1645.767122280955",
                        "17",
                        "0.2861874595449216"
                      ],
                      [
                        "2022-06-08",
                        "Comida para Aves",
                        "849",
                        "2335.3621593208754",
                        "16",
                        "0.04930405152004169"
                      ],
                      [
                        "2022-01-08",
                        "Comida para Gatos",
                        "629",
                        "8387.79084701878",
                        "8",
                        "0.0759784375978933"
                      ],
                      [
                        "2022-05-30",
                        "Comida para Peces",
                        "336",
                        "9367.103622705088",
                        "18",
                        "0.2603129905430977"
                      ],
                      [
                        "2022-05-17",
                        "Comida para Aves",
                        "506",
                        "4203.082689909855",
                        "16",
                        "0.12798250160754635"
                      ],
                      [
                        "2022-06-21",
                        "Comida para Gatos",
                        "561",
                        "9662.465538763658",
                        "10",
                        "0.08034868175808176"
                      ],
                      [
                        "2022-02-16",
                        "Comida para Gatos",
                        "726",
                        "8172.564336001277",
                        "0",
                        "0.2078441288160539"
                      ],
                      [
                        "2022-01-01",
                        "Comida para Perros",
                        "275",
                        "4181.434461231525",
                        "8",
                        "0.015368521194671947"
                      ],
                      [
                        "2022-04-15",
                        "Comida para Aves",
                        "806",
                        "8658.576236996487",
                        "5",
                        "0.26718155297355134"
                      ],
                      [
                        "2022-06-29",
                        "Comida para Aves",
                        "367",
                        "6769.051298640988",
                        "6",
                        "0.2524684636069979"
                      ],
                      [
                        "2022-02-08",
                        "Comida para Aves",
                        "598",
                        "5018.352245183774",
                        "10",
                        "0.02573911053973076"
                      ],
                      [
                        "2022-03-31",
                        "Comida para Gatos",
                        "908",
                        "5067.330249022344",
                        "13",
                        "0.23958562398734837"
                      ],
                      [
                        "2022-03-16",
                        "Comida para Gatos",
                        "147",
                        "9659.077908741154",
                        "13",
                        "0.2883511325649587"
                      ],
                      [
                        "2022-05-04",
                        "Comida para Peces",
                        "872",
                        "3637.2055282014335",
                        "2",
                        "0.14762088574646803"
                      ],
                      [
                        "2022-03-29",
                        "Comida para Perros",
                        "597",
                        "7027.253486147128",
                        "4",
                        "0.17044600503781135"
                      ],
                      [
                        "2022-04-07",
                        "Comida para Peces",
                        "354",
                        "8237.891671829297",
                        "16",
                        "0.20393902206777825"
                      ],
                      [
                        "2022-03-25",
                        "Comida para Perros",
                        "746",
                        "4468.451071441952",
                        "14",
                        "0.0800180829648033"
                      ],
                      [
                        "2022-01-27",
                        "Comida para Peces",
                        "474",
                        "5178.610117586033",
                        "1",
                        "0.19489837769651244"
                      ],
                      [
                        "2022-02-02",
                        "Comida para Perros",
                        "528",
                        "6780.442326919117",
                        "7",
                        "0.1424602500308826"
                      ],
                      [
                        "2022-04-26",
                        "Comida para Peces",
                        "428",
                        "6290.031036071473",
                        "11",
                        "0.12166254138407347"
                      ],
                      [
                        "2022-07-18",
                        "Comida para Gatos",
                        "492",
                        "7599.032847029759",
                        "13",
                        "0.27084046787625143"
                      ],
                      [
                        "2022-04-08",
                        "Comida para Perros",
                        "300",
                        "8700.81869291271",
                        "4",
                        "0.23937093298454515"
                      ],
                      [
                        "2022-06-22",
                        "Comida para Aves",
                        "592",
                        "5875.6898634801555",
                        "1",
                        "0.2803822884610881"
                      ],
                      [
                        "2022-03-01",
                        "Comida para Perros",
                        "841",
                        "9634.776333127389",
                        "12",
                        "0.25099554746613184"
                      ],
                      [
                        "2022-02-27",
                        "Comida para Peces",
                        "118",
                        "3530.22031343765",
                        "16",
                        "0.012543180345990413"
                      ],
                      [
                        "2022-06-28",
                        "Comida para Gatos",
                        "102",
                        "1600.811187865683",
                        "5",
                        "0.18195881732274702"
                      ],
                      [
                        "2022-06-23",
                        "Comida para Perros",
                        "297",
                        "4459.183590612658",
                        "1",
                        "0.20929106445464127"
                      ],
                      [
                        "2022-05-13",
                        "Comida para Aves",
                        "321",
                        "9676.836485392743",
                        "8",
                        "0.19945724271489002"
                      ],
                      [
                        "2022-07-05",
                        "Comida para Aves",
                        "605",
                        "7875.400280673566",
                        "1",
                        "0.08158693042750521"
                      ],
                      [
                        "2022-04-04",
                        "Comida para Aves",
                        "329",
                        "2772.0279089008136",
                        "0",
                        "0.1276891054394975"
                      ],
                      [
                        "2022-04-02",
                        "Comida para Gatos",
                        "712",
                        "9817.350733477504",
                        "0",
                        "0.01170874142507876"
                      ],
                      [
                        "2022-05-26",
                        "Comida para Aves",
                        "462",
                        "7321.756062276687",
                        "2",
                        "0.02822823830870198"
                      ],
                      [
                        "2022-06-13",
                        "Comida para Perros",
                        "257",
                        "8193.123334628968",
                        "10",
                        "0.16815357018575516"
                      ],
                      [
                        "2022-07-14",
                        "Comida para Peces",
                        "255",
                        "1484.8219376883803",
                        "16",
                        "0.17472352933967406"
                      ],
                      [
                        "2022-05-29",
                        "Comida para Peces",
                        "757",
                        "7503.916737857851",
                        "2",
                        "0.06036878718709164"
                      ],
                      [
                        "2022-06-23",
                        "Comida para Perros",
                        "542",
                        "5352.636752038038",
                        "7",
                        "0.13446081712246385"
                      ],
                      [
                        "2022-07-05",
                        "Comida para Peces",
                        "495",
                        "8154.336858925401",
                        "5",
                        "0.14162317792459847"
                      ],
                      [
                        "2022-04-30",
                        "Comida para Aves",
                        "405",
                        "7444.519410786845",
                        "13",
                        "0.003401033260554076"
                      ],
                      [
                        "2022-06-14",
                        "Comida para Gatos",
                        "428",
                        "2587.7688527223954",
                        "0",
                        "0.042756234990747884"
                      ],
                      [
                        "2022-04-16",
                        "Comida para Peces",
                        "444",
                        "9268.480436137714",
                        "7",
                        "0.1872900171848036"
                      ],
                      [
                        "2022-07-10",
                        "Comida para Aves",
                        "615",
                        "6199.358165665176",
                        "1",
                        "0.29784603233928514"
                      ],
                      [
                        "2022-01-05",
                        "Comida para Peces",
                        "724",
                        "4471.534994144251",
                        "3",
                        "0.19511752438123084"
                      ],
                      [
                        "2022-06-08",
                        "Comida para Perros",
                        "111",
                        "3049.3575745605613",
                        "2",
                        "0.03606500015635798"
                      ],
                      [
                        "2022-04-20",
                        "Comida para Perros",
                        "925",
                        "8051.852757000316",
                        "2",
                        "0.24643208912973197"
                      ],
                      [
                        "2022-03-29",
                        "Comida para Peces",
                        "534",
                        "9736.321516998172",
                        "17",
                        "0.12946131635447522"
                      ],
                      [
                        "2022-06-13",
                        "Comida para Peces",
                        "755",
                        "7619.683362736597",
                        "5",
                        "0.025110062764333262"
                      ],
                      [
                        "2022-03-15",
                        "Comida para Aves",
                        "231",
                        "6488.772536714437",
                        "3",
                        "0.17994737499780675"
                      ],
                      [
                        "2022-07-03",
                        "Comida para Peces",
                        "986",
                        "9553.025888762659",
                        "6",
                        "0.06841382944947567"
                      ],
                      [
                        "2022-01-27",
                        "Comida para Gatos",
                        "610",
                        "7404.144401339908",
                        "19",
                        "0.12503452421385883"
                      ],
                      [
                        "2022-04-29",
                        "Comida para Peces",
                        "257",
                        "5108.25383056824",
                        "12",
                        "0.09548827496230539"
                      ],
                      [
                        "2022-01-23",
                        "Comida para Perros",
                        "167",
                        "3894.8845729941754",
                        "10",
                        "0.19285618425217183"
                      ],
                      [
                        "2022-04-09",
                        "Comida para Gatos",
                        "668",
                        "2698.3482961751342",
                        "14",
                        "0.12931040184198658"
                      ],
                      [
                        "2022-04-01",
                        "Comida para Peces",
                        "303",
                        "8863.126752144453",
                        "12",
                        "0.031194627964942934"
                      ],
                      [
                        "2022-02-21",
                        "Comida para Aves",
                        "475",
                        "7506.002975573848",
                        "9",
                        "0.06470266983961626"
                      ],
                      [
                        "2022-02-16",
                        "Comida para Peces",
                        "179",
                        "9802.710222199425",
                        "5",
                        "0.15013358209141847"
                      ],
                      [
                        "2022-03-03",
                        "Comida para Perros",
                        "401",
                        "1676.8304267083504",
                        "7",
                        "0.2367552681212279"
                      ],
                      [
                        "2022-07-08",
                        "Comida para Perros",
                        "702",
                        "3832.5165247296036",
                        "19",
                        "0.0029229795712905735"
                      ],
                      [
                        "2022-02-17",
                        "Comida para Perros",
                        "179",
                        "4658.162878388035",
                        "10",
                        "0.18372818519682002"
                      ],
                      [
                        "2022-04-15",
                        "Comida para Perros",
                        "325",
                        "9662.88116432643",
                        "19",
                        "0.03476452760269986"
                      ],
                      [
                        "2022-05-09",
                        "Comida para Peces",
                        "111",
                        "6317.079254545904",
                        "14",
                        "0.18121482713045084"
                      ],
                      [
                        "2022-05-19",
                        "Comida para Perros",
                        "603",
                        "7120.754056441185",
                        "16",
                        "0.25104229064347466"
                      ],
                      [
                        "2022-05-22",
                        "Comida para Perros",
                        "233",
                        "3437.7613180801422",
                        "1",
                        "0.0685448899430805"
                      ],
                      [
                        "2022-03-13",
                        "Comida para Aves",
                        "286",
                        "3317.3947587303646",
                        "19",
                        "0.1486544257431803"
                      ],
                      [
                        "2022-04-05",
                        "Comida para Peces",
                        "680",
                        "4084.9454464124983",
                        "14",
                        "0.23221587775336053"
                      ],
                      [
                        "2022-01-07",
                        "Comida para Perros",
                        "415",
                        "1755.972525503416",
                        "9",
                        "0.05267324377638619"
                      ],
                      [
                        "2022-06-23",
                        "Comida para Perros",
                        "644",
                        "9455.64033791212",
                        "12",
                        "0.045768342810588454"
                      ],
                      [
                        "2022-06-08",
                        "Comida para Aves",
                        "905",
                        "4646.44953157788",
                        "3",
                        "0.27151376059177806"
                      ],
                      [
                        "2022-01-16",
                        "Comida para Perros",
                        "271",
                        "2804.5145566102883",
                        "3",
                        "0.20839399541216894"
                      ],
                      [
                        "2022-06-19",
                        "Comida para Perros",
                        "737",
                        "4094.3263183604117",
                        "8",
                        "0.2209720089126665"
                      ],
                      [
                        "2022-06-16",
                        "Comida para Aves",
                        "416",
                        "2762.101339186139",
                        "19",
                        "0.2531905882836121"
                      ],
                      [
                        "2022-02-23",
                        "Comida para Perros",
                        "657",
                        "3302.55350502467",
                        "8",
                        "0.1618277342655034"
                      ],
                      [
                        "2022-06-21",
                        "Comida para Perros",
                        "385",
                        "7818.363702309634",
                        "13",
                        "0.14652164975773913"
                      ],
                      [
                        "2022-03-24",
                        "Comida para Aves",
                        "350",
                        "3142.19840707755",
                        "13",
                        "0.16687720547501406"
                      ],
                      [
                        "2022-05-16",
                        "Comida para Perros",
                        "255",
                        "7289.5908819305405",
                        "12",
                        "0.2151053906796422"
                      ],
                      [
                        "2022-03-07",
                        "Comida para Aves",
                        "843",
                        "6340.289675272255",
                        "14",
                        "0.11728119154567843"
                      ],
                      [
                        "2022-06-19",
                        "Comida para Perros",
                        "895",
                        "2305.7460469754915",
                        "16",
                        "0.02855047401509516"
                      ],
                      [
                        "2022-03-08",
                        "Comida para Peces",
                        "129",
                        "7873.37751832997",
                        "13",
                        "0.040679065374865396"
                      ],
                      [
                        "2022-04-25",
                        "Comida para Peces",
                        "226",
                        "8675.852451710032",
                        "6",
                        "0.29217088741272107"
                      ],
                      [
                        "2022-04-03",
                        "Comida para Perros",
                        "172",
                        "9603.88712277691",
                        "11",
                        "0.015515298702234736"
                      ],
                      [
                        "2022-03-20",
                        "Comida para Peces",
                        "175",
                        "9630.994144804003",
                        "8",
                        "0.21348580123474475"
                      ],
                      [
                        "2022-04-11",
                        "Comida para Peces",
                        "197",
                        "7357.337177406057",
                        "6",
                        "0.28310445852630095"
                      ],
                      [
                        "2022-06-09",
                        "Comida para Peces",
                        "306",
                        "3622.100851079256",
                        "19",
                        "0.03877786417217492"
                      ],
                      [
                        "2022-06-28",
                        "Comida para Aves",
                        "650",
                        "1341.2050145031108",
                        "14",
                        "0.21667931335562346"
                      ],
                      [
                        "2022-06-24",
                        "Comida para Peces",
                        "367",
                        "4512.073771749762",
                        "14",
                        "0.0907369793940932"
                      ],
                      [
                        "2022-04-04",
                        "Comida para Gatos",
                        "558",
                        "7598.139475245385",
                        "8",
                        "0.07108950549334916"
                      ],
                      [
                        "2022-04-25",
                        "Comida para Aves",
                        "858",
                        "9465.74751694516",
                        "11",
                        "0.2557867824639226"
                      ],
                      [
                        "2022-06-11",
                        "Comida para Gatos",
                        "957",
                        "2021.8632616769792",
                        "2",
                        "0.27280610747579515"
                      ],
                      [
                        "2022-01-13",
                        "Comida para Peces",
                        "132",
                        "5880.177462067211",
                        "15",
                        "0.10411515281771404"
                      ],
                      [
                        "2022-03-22",
                        "Comida para Peces",
                        "790",
                        "5272.963460530019",
                        "2",
                        "0.1897942610127802"
                      ],
                      [
                        "2022-03-08",
                        "Comida para Gatos",
                        "140",
                        "1411.5547389916653",
                        "5",
                        "0.05278129030033835"
                      ],
                      [
                        "2022-05-06",
                        "Comida para Perros",
                        "298",
                        "6856.0967811501005",
                        "10",
                        "0.23692783092787578"
                      ],
                      [
                        "2022-05-19",
                        "Comida para Peces",
                        "386",
                        "8853.217233779742",
                        "6",
                        "0.26437196636271193"
                      ],
                      [
                        "2022-04-23",
                        "Comida para Aves",
                        "762",
                        "5156.67345978752",
                        "5",
                        "0.0956017056544586"
                      ],
                      [
                        "2022-06-05",
                        "Comida para Gatos",
                        "223",
                        "5709.39150319231",
                        "5",
                        "0.1958900952742445"
                      ],
                      [
                        "2022-07-04",
                        "Comida para Gatos",
                        "687",
                        "2600.108821527523",
                        "14",
                        "0.26292530936744773"
                      ],
                      [
                        "2022-05-01",
                        "Comida para Peces",
                        "391",
                        "2090.0664069825643",
                        "2",
                        "0.004612471874926937"
                      ],
                      [
                        "2022-03-07",
                        "Comida para Gatos",
                        "568",
                        "6524.630590638199",
                        "11",
                        "0.2567205786239265"
                      ],
                      [
                        "2022-07-12",
                        "Comida para Gatos",
                        "675",
                        "7447.691123746765",
                        "16",
                        "0.17163430325161635"
                      ],
                      [
                        "2022-07-17",
                        "Comida para Aves",
                        "872",
                        "3587.5303559365652",
                        "18",
                        "0.12420461543254532"
                      ],
                      [
                        "2022-03-30",
                        "Comida para Perros",
                        "789",
                        "5495.054558746137",
                        "12",
                        "0.15678475405462539"
                      ],
                      [
                        "2022-02-04",
                        "Comida para Perros",
                        "984",
                        "9622.534491377637",
                        "0",
                        "0.2472186024185976"
                      ],
                      [
                        "2022-01-04",
                        "Comida para Gatos",
                        "257",
                        "1299.911884310428",
                        "2",
                        "0.21663886486500888"
                      ],
                      [
                        "2022-07-08",
                        "Comida para Perros",
                        "803",
                        "3122.3207482312077",
                        "0",
                        "0.1503794552046748"
                      ],
                      [
                        "2022-06-15",
                        "Comida para Gatos",
                        "929",
                        "1927.4792830905092",
                        "16",
                        "0.1462956977812266"
                      ],
                      [
                        "2022-06-21",
                        "Comida para Perros",
                        "703",
                        "8397.93189313513",
                        "4",
                        "0.2697773138086151"
                      ],
                      [
                        "2022-03-30",
                        "Comida para Perros",
                        "723",
                        "9930.191091330717",
                        "4",
                        "0.06970266108108233"
                      ],
                      [
                        "2022-03-12",
                        "Comida para Aves",
                        "311",
                        "2437.561059706344",
                        "3",
                        "0.028710508742741902"
                      ],
                      [
                        "2022-05-29",
                        "Comida para Gatos",
                        "460",
                        "7767.108127726303",
                        "5",
                        "0.20359143560862955"
                      ],
                      [
                        "2022-05-15",
                        "Comida para Aves",
                        "190",
                        "3586.4107739921283",
                        "18",
                        "0.2106635136617293"
                      ],
                      [
                        "2022-01-29",
                        "Comida para Peces",
                        "638",
                        "3958.7018600802794",
                        "10",
                        "0.17051580804628758"
                      ],
                      [
                        "2022-04-26",
                        "Comida para Perros",
                        "685",
                        "9368.632850265194",
                        "16",
                        "0.07876096352344682"
                      ],
                      [
                        "2022-05-15",
                        "Comida para Peces",
                        "323",
                        "7412.708234824991",
                        "13",
                        "0.0887859181214299"
                      ],
                      [
                        "2022-03-08",
                        "Comida para Gatos",
                        "962",
                        "8308.670532286491",
                        "15",
                        "0.1851129686585121"
                      ],
                      [
                        "2022-04-03",
                        "Comida para Gatos",
                        "885",
                        "5092.852938320002",
                        "5",
                        "0.08188750270440971"
                      ],
                      [
                        "2022-04-13",
                        "Comida para Gatos",
                        "811",
                        "3945.364104791569",
                        "9",
                        "0.14988636372028225"
                      ],
                      [
                        "2022-04-12",
                        "Comida para Peces",
                        "924",
                        "2244.7607169625485",
                        "13",
                        "0.09962230496537612"
                      ],
                      [
                        "2022-05-04",
                        "Comida para Peces",
                        "903",
                        "6628.403617792968",
                        "1",
                        "0.1531314528403948"
                      ],
                      [
                        "2022-07-17",
                        "Comida para Gatos",
                        "301",
                        "7118.515662909519",
                        "11",
                        "0.06880916990683035"
                      ],
                      [
                        "2022-04-20",
                        "Comida para Gatos",
                        "832",
                        "9373.576861831014",
                        "2",
                        "0.05941814349458495"
                      ],
                      [
                        "2022-03-15",
                        "Comida para Peces",
                        "915",
                        "2126.3854431988407",
                        "13",
                        "0.22019950194387286"
                      ],
                      [
                        "2022-04-11",
                        "Comida para Gatos",
                        "148",
                        "7633.544015362245",
                        "7",
                        "0.11571826120812195"
                      ],
                      [
                        "2022-07-02",
                        "Comida para Perros",
                        "475",
                        "5918.860146877949",
                        "1",
                        "0.06976985734941434"
                      ],
                      [
                        "2022-03-19",
                        "Comida para Gatos",
                        "729",
                        "5115.97096093101",
                        "3",
                        "0.257526120444648"
                      ],
                      [
                        "2022-05-30",
                        "Comida para Perros",
                        "679",
                        "7776.265419412075",
                        "18",
                        "0.1205101429560589"
                      ],
                      [
                        "2022-06-09",
                        "Comida para Aves",
                        "735",
                        "6465.479637098351",
                        "14",
                        "0.03476104957816432"
                      ],
                      [
                        "2022-03-23",
                        "Comida para Peces",
                        "811",
                        "1924.7899932644164",
                        "8",
                        "0.2124143891536657"
                      ],
                      [
                        "2022-02-05",
                        "Comida para Perros",
                        "418",
                        "4772.4075842555885",
                        "1",
                        "0.08399159677251125"
                      ],
                      [
                        "2022-05-17",
                        "Comida para Peces",
                        "393",
                        "9961.031742722982",
                        "10",
                        "0.1695726736077124"
                      ],
                      [
                        "2022-01-26",
                        "Comida para Peces",
                        "105",
                        "7907.997016794943",
                        "15",
                        "0.18710791207864777"
                      ],
                      [
                        "2022-01-22",
                        "Comida para Aves",
                        "709",
                        "7863.223403595411",
                        "15",
                        "0.28877231132757614"
                      ],
                      [
                        "2022-06-23",
                        "Comida para Gatos",
                        "155",
                        "9299.855220765972",
                        "9",
                        "0.05733036018455013"
                      ],
                      [
                        "2022-05-25",
                        "Comida para Perros",
                        "576",
                        "7564.469213971836",
                        "13",
                        "0.0852516171811015"
                      ],
                      [
                        "2022-06-03",
                        "Comida para Perros",
                        "530",
                        "8631.862210535874",
                        "6",
                        "0.27966594962349617"
                      ],
                      [
                        "2022-04-30",
                        "Comida para Perros",
                        "138",
                        "4609.7507266402245",
                        "0",
                        "0.21548787189420024"
                      ],
                      [
                        "2022-06-15",
                        "Comida para Aves",
                        "661",
                        "4601.301930583297",
                        "6",
                        "0.13479929909256363"
                      ],
                      [
                        "2022-05-08",
                        "Comida para Gatos",
                        "364",
                        "9613.28642882323",
                        "14",
                        "0.2204320191687868"
                      ],
                      [
                        "2022-05-10",
                        "Comida para Peces",
                        "734",
                        "7817.442761218647",
                        "6",
                        "0.12401553696288985"
                      ],
                      [
                        "2022-05-14",
                        "Comida para Peces",
                        "293",
                        "5241.83907632545",
                        "1",
                        "0.12301545641369344"
                      ],
                      [
                        "2022-07-18",
                        "Comida para Perros",
                        "422",
                        "5406.3696730883485",
                        "14",
                        "0.046925026267234146"
                      ],
                      [
                        "2022-05-21",
                        "Comida para Peces",
                        "162",
                        "1149.3167721274538",
                        "19",
                        "0.15661447397783484"
                      ],
                      [
                        "2022-04-01",
                        "Comida para Aves",
                        "116",
                        "3067.602300929187",
                        "0",
                        "0.07879932425550835"
                      ],
                      [
                        "2022-03-16",
                        "Comida para Perros",
                        "289",
                        "5241.719692876824",
                        "14",
                        "0.19007803078598987"
                      ],
                      [
                        "2022-07-02",
                        "Comida para Perros",
                        "294",
                        "3644.1886550732597",
                        "7",
                        "0.11958185485180936"
                      ],
                      [
                        "2022-03-20",
                        "Comida para Perros",
                        "367",
                        "9836.344773675597",
                        "17",
                        "0.25611630981878947"
                      ],
                      [
                        "2022-03-04",
                        "Comida para Perros",
                        "515",
                        "2039.6999828537364",
                        "7",
                        "0.23140877733915707"
                      ],
                      [
                        "2022-03-14",
                        "Comida para Aves",
                        "494",
                        "5550.021972920083",
                        "1",
                        "0.044379969958067735"
                      ],
                      [
                        "2022-07-19",
                        "Comida para Peces",
                        "120",
                        "1089.213391025725",
                        "5",
                        "0.1773275889556845"
                      ],
                      [
                        "2022-02-15",
                        "Comida para Gatos",
                        "200",
                        "3452.665485402454",
                        "5",
                        "0.21412218614514134"
                      ],
                      [
                        "2022-05-14",
                        "Comida para Gatos",
                        "882",
                        "3019.8778071151437",
                        "6",
                        "0.15433227348294765"
                      ],
                      [
                        "2022-02-17",
                        "Comida para Perros",
                        "732",
                        "6445.803926739194",
                        "13",
                        "0.03418418459724871"
                      ],
                      [
                        "2022-07-07",
                        "Comida para Aves",
                        "152",
                        "8984.97051048372",
                        "12",
                        "0.15097421823718063"
                      ],
                      [
                        "2022-06-20",
                        "Comida para Gatos",
                        "555",
                        "6097.991474736953",
                        "9",
                        "0.1298696968968893"
                      ],
                      [
                        "2022-07-15",
                        "Comida para Gatos",
                        "769",
                        "6796.922901845018",
                        "13",
                        "0.09772633079592698"
                      ],
                      [
                        "2022-05-19",
                        "Comida para Peces",
                        "370",
                        "3519.3104390517706",
                        "9",
                        "0.17476067146384403"
                      ],
                      [
                        "2022-02-27",
                        "Comida para Perros",
                        "726",
                        "3779.7983991708893",
                        "4",
                        "0.09746169989629229"
                      ],
                      [
                        "2022-03-31",
                        "Comida para Peces",
                        "850",
                        "5491.047185106405",
                        "5",
                        "0.07066700610158716"
                      ],
                      [
                        "2022-05-12",
                        "Comida para Peces",
                        "919",
                        "6117.036971279468",
                        "11",
                        "0.22077038261531431"
                      ],
                      [
                        "2022-05-06",
                        "Comida para Perros",
                        "132",
                        "5916.960285990384",
                        "5",
                        "0.06401130641476267"
                      ],
                      [
                        "2022-03-24",
                        "Comida para Aves",
                        "507",
                        "3340.4171191335813",
                        "8",
                        "0.24158647662955093"
                      ],
                      [
                        "2022-07-17",
                        "Comida para Peces",
                        "861",
                        "2313.760514114486",
                        "8",
                        "0.293748301865514"
                      ],
                      [
                        "2022-07-06",
                        "Comida para Gatos",
                        "959",
                        "4315.351275750165",
                        "2",
                        "0.13237161493594776"
                      ],
                      [
                        "2022-05-13",
                        "Comida para Perros",
                        "874",
                        "8057.075333524524",
                        "14",
                        "0.24371771579756002"
                      ],
                      [
                        "2022-01-18",
                        "Comida para Aves",
                        "813",
                        "6365.19717763919",
                        "1",
                        "0.05051031851694562"
                      ],
                      [
                        "2022-07-17",
                        "Comida para Aves",
                        "220",
                        "2636.857358186724",
                        "13",
                        "0.2391910506602411"
                      ],
                      [
                        "2022-07-11",
                        "Comida para Aves",
                        "165",
                        "3098.959659752217",
                        "1",
                        "0.28874014756012006"
                      ],
                      [
                        "2022-04-05",
                        "Comida para Gatos",
                        "175",
                        "9137.73004652985",
                        "7",
                        "0.15510701825097087"
                      ],
                      [
                        "2022-06-02",
                        "Comida para Peces",
                        "955",
                        "4565.690626556649",
                        "12",
                        "0.0767159412623818"
                      ],
                      [
                        "2022-05-12",
                        "Comida para Peces",
                        "608",
                        "8683.308055544334",
                        "9",
                        "0.04824788048298795"
                      ],
                      [
                        "2022-03-11",
                        "Comida para Gatos",
                        "810",
                        "9797.239877135671",
                        "14",
                        "0.27498804878515937"
                      ],
                      [
                        "2022-06-18",
                        "Comida para Gatos",
                        "908",
                        "4220.80569325521",
                        "12",
                        "0.09737176160600826"
                      ],
                      [
                        "2022-06-14",
                        "Comida para Aves",
                        "800",
                        "1116.2591448757719",
                        "16",
                        "0.14910111926491978"
                      ],
                      [
                        "2022-02-28",
                        "Comida para Aves",
                        "136",
                        "7550.098755328144",
                        "3",
                        "0.13002946535155374"
                      ],
                      [
                        "2022-06-27",
                        "Comida para Peces",
                        "162",
                        "5368.943218011046",
                        "2",
                        "0.13056465613690718"
                      ],
                      [
                        "2022-07-03",
                        "Comida para Perros",
                        "553",
                        "8986.796346710446",
                        "1",
                        "0.22957747813537416"
                      ],
                      [
                        "2022-06-02",
                        "Comida para Peces",
                        "930",
                        "2523.061813482117",
                        "17",
                        "0.2805474957945083"
                      ],
                      [
                        "2022-06-11",
                        "Comida para Peces",
                        "542",
                        "3189.227951913579",
                        "11",
                        "0.1910324031684201"
                      ],
                      [
                        "2022-05-27",
                        "Comida para Peces",
                        "688",
                        "5244.775621913614",
                        "16",
                        "0.2871414667341639"
                      ],
                      [
                        "2022-04-08",
                        "Comida para Peces",
                        "630",
                        "2221.9821101648067",
                        "9",
                        "0.05713340058241013"
                      ],
                      [
                        "2022-05-16",
                        "Comida para Perros",
                        "484",
                        "4243.005985672748",
                        "16",
                        "0.16918118298851903"
                      ],
                      [
                        "2022-07-01",
                        "Comida para Gatos",
                        "101",
                        "1140.0735225784574",
                        "3",
                        "0.2056520956135173"
                      ],
                      [
                        "2022-02-16",
                        "Comida para Peces",
                        "824",
                        "8216.023877067782",
                        "9",
                        "0.21449289888784703"
                      ],
                      [
                        "2022-05-08",
                        "Comida para Gatos",
                        "817",
                        "1906.3367342397241",
                        "15",
                        "0.22675423532991146"
                      ],
                      [
                        "2022-06-11",
                        "Comida para Perros",
                        "702",
                        "6362.721492815894",
                        "1",
                        "0.09994503049024937"
                      ],
                      [
                        "2022-03-23",
                        "Comida para Gatos",
                        "212",
                        "3360.0818172140907",
                        "4",
                        "0.2646583738507767"
                      ],
                      [
                        "2022-06-07",
                        "Comida para Perros",
                        "207",
                        "1270.1347412954854",
                        "12",
                        "0.03951166873557027"
                      ],
                      [
                        "2022-01-13",
                        "Comida para Perros",
                        "249",
                        "1987.2563759679065",
                        "12",
                        "0.08356071430470365"
                      ],
                      [
                        "2022-04-29",
                        "Comida para Peces",
                        "690",
                        "7292.936510865712",
                        "2",
                        "0.14061420017298754"
                      ],
                      [
                        "2022-02-16",
                        "Comida para Perros",
                        "369",
                        "9019.56082919289",
                        "14",
                        "0.1775994277763556"
                      ],
                      [
                        "2022-04-29",
                        "Comida para Aves",
                        "167",
                        "1492.0997433123164",
                        "19",
                        "0.08858525449287494"
                      ],
                      [
                        "2022-02-02",
                        "Comida para Gatos",
                        "973",
                        "3532.929797921472",
                        "18",
                        "0.2723476934854077"
                      ],
                      [
                        "2022-02-04",
                        "Comida para Peces",
                        "501",
                        "4585.885354665399",
                        "2",
                        "0.1355540494552772"
                      ],
                      [
                        "2022-04-26",
                        "Comida para Aves",
                        "361",
                        "9808.143593725208",
                        "3",
                        "0.030101200234705437"
                      ],
                      [
                        "2022-03-29",
                        "Comida para Gatos",
                        "126",
                        "4984.011528114788",
                        "0",
                        "0.24571552973588118"
                      ],
                      [
                        "2022-05-05",
                        "Comida para Aves",
                        "803",
                        "8423.747888756705",
                        "16",
                        "0.28963616872523634"
                      ],
                      [
                        "2022-06-03",
                        "Comida para Peces",
                        "511",
                        "3530.078884602411",
                        "14",
                        "0.10389829502575346"
                      ],
                      [
                        "2022-06-24",
                        "Comida para Gatos",
                        "849",
                        "5213.52736774721",
                        "3",
                        "0.16639307537556527"
                      ],
                      [
                        "2022-04-18",
                        "Comida para Gatos",
                        "625",
                        "8432.754762840224",
                        "0",
                        "0.17492118083632555"
                      ],
                      [
                        "2022-02-22",
                        "Comida para Perros",
                        "913",
                        "7918.22880724532",
                        "11",
                        "0.24048627564041436"
                      ],
                      [
                        "2022-04-21",
                        "Comida para Aves",
                        "532",
                        "3147.0942315040106",
                        "16",
                        "0.045551482158472635"
                      ],
                      [
                        "2022-03-06",
                        "Comida para Aves",
                        "668",
                        "3274.457389980303",
                        "8",
                        "0.2523762192090135"
                      ],
                      [
                        "2022-03-18",
                        "Comida para Gatos",
                        "158",
                        "5936.256866191456",
                        "9",
                        "0.21648285037539575"
                      ],
                      [
                        "2022-04-29",
                        "Comida para Aves",
                        "117",
                        "9442.135043179132",
                        "2",
                        "0.010476028782365409"
                      ],
                      [
                        "2022-03-15",
                        "Comida para Gatos",
                        "314",
                        "2079.351441783861",
                        "14",
                        "0.17007455138167"
                      ],
                      [
                        "2022-05-27",
                        "Comida para Gatos",
                        "963",
                        "7948.557892291909",
                        "10",
                        "0.008410130132688598"
                      ],
                      [
                        "2022-01-05",
                        "Comida para Perros",
                        "320",
                        "7638.404903309906",
                        "4",
                        "0.14893198420081194"
                      ],
                      [
                        "2022-01-08",
                        "Comida para Gatos",
                        "305",
                        "8656.980825093819",
                        "9",
                        "0.17982393534533775"
                      ],
                      [
                        "2022-05-12",
                        "Comida para Aves",
                        "491",
                        "9002.80330978633",
                        "13",
                        "0.19046391168875415"
                      ],
                      [
                        "2022-02-18",
                        "Comida para Peces",
                        "382",
                        "8950.829110387345",
                        "11",
                        "0.27806360060631335"
                      ],
                      [
                        "2022-03-18",
                        "Comida para Perros",
                        "373",
                        "9108.243087428862",
                        "8",
                        "0.08911710565823515"
                      ],
                      [
                        "2022-02-07",
                        "Comida para Peces",
                        "808",
                        "9826.343561441805",
                        "5",
                        "0.2533697579215487"
                      ],
                      [
                        "2022-04-27",
                        "Comida para Gatos",
                        "655",
                        "3991.86586699431",
                        "8",
                        "0.1356663640111244"
                      ],
                      [
                        "2022-02-18",
                        "Comida para Perros",
                        "531",
                        "9361.101958089608",
                        "2",
                        "0.2000819578765346"
                      ],
                      [
                        "2022-04-20",
                        "Comida para Perros",
                        "834",
                        "9528.042803328279",
                        "12",
                        "0.24238302687678992"
                      ],
                      [
                        "2022-06-29",
                        "Comida para Gatos",
                        "225",
                        "6833.640506765345",
                        "6",
                        "0.21721234977264361"
                      ],
                      [
                        "2022-02-19",
                        "Comida para Aves",
                        "448",
                        "6981.316696641544",
                        "16",
                        "0.2386501766666813"
                      ],
                      [
                        "2022-03-13",
                        "Comida para Gatos",
                        "605",
                        "4227.026991815379",
                        "17",
                        "0.19082085216216"
                      ],
                      [
                        "2022-04-01",
                        "Comida para Gatos",
                        "940",
                        "7707.735331816981",
                        "19",
                        "0.2402341826714785"
                      ],
                      [
                        "2022-06-27",
                        "Comida para Gatos",
                        "798",
                        "6423.048509817097",
                        "3",
                        "0.2727040430320913"
                      ],
                      [
                        "2022-01-30",
                        "Comida para Gatos",
                        "895",
                        "8076.870794625873",
                        "4",
                        "0.27132565246547447"
                      ],
                      [
                        "2022-01-04",
                        "Comida para Gatos",
                        "106",
                        "2381.6224517948904",
                        "10",
                        "0.09836646585125226"
                      ],
                      [
                        "2022-03-16",
                        "Comida para Aves",
                        "793",
                        "8331.333926381376",
                        "17",
                        "0.29159184820657635"
                      ],
                      [
                        "2022-03-26",
                        "Comida para Perros",
                        "987",
                        "7510.434566571488",
                        "18",
                        "0.01730009889361932"
                      ],
                      [
                        "2022-03-07",
                        "Comida para Aves",
                        "604",
                        "5913.507753531304",
                        "4",
                        "0.1849208080296502"
                      ],
                      [
                        "2022-04-30",
                        "Comida para Gatos",
                        "126",
                        "3337.448625558187",
                        "15",
                        "0.14856736731057618"
                      ],
                      [
                        "2022-01-21",
                        "Comida para Perros",
                        "735",
                        "1879.0678447958635",
                        "17",
                        "0.0691428210478539"
                      ],
                      [
                        "2022-02-12",
                        "Comida para Perros",
                        "815",
                        "5363.499852159992",
                        "13",
                        "0.1605444145739671"
                      ],
                      [
                        "2022-01-29",
                        "Comida para Perros",
                        "905",
                        "2301.594031670847",
                        "19",
                        "0.01978639791002682"
                      ],
                      [
                        "2022-06-04",
                        "Comida para Peces",
                        "193",
                        "7855.958504512171",
                        "16",
                        "0.1661142472770823"
                      ],
                      [
                        "2022-03-29",
                        "Comida para Aves",
                        "533",
                        "9321.030398577968",
                        "8",
                        "0.25633963256215414"
                      ],
                      [
                        "2022-06-30",
                        "Comida para Aves",
                        "632",
                        "8382.891731723288",
                        "13",
                        "0.04229172376887025"
                      ],
                      [
                        "2022-02-18",
                        "Comida para Aves",
                        "577",
                        "3974.1301852278707",
                        "11",
                        "0.09760565602226152"
                      ],
                      [
                        "2022-07-14",
                        "Comida para Gatos",
                        "987",
                        "2314.039137728423",
                        "2",
                        "0.18933698131553992"
                      ],
                      [
                        "2022-04-13",
                        "Comida para Aves",
                        "540",
                        "1071.219279606382",
                        "17",
                        "0.10779038360613884"
                      ],
                      [
                        "2022-01-10",
                        "Comida para Peces",
                        "539",
                        "6972.923186531745",
                        "6",
                        "0.1245009081443047"
                      ],
                      [
                        "2022-01-03",
                        "Comida para Peces",
                        "832",
                        "2688.5087128972154",
                        "2",
                        "0.10153526944800607"
                      ],
                      [
                        "2022-04-27",
                        "Comida para Aves",
                        "251",
                        "7448.9889174833015",
                        "11",
                        "0.14480096868118827"
                      ],
                      [
                        "2022-04-19",
                        "Comida para Peces",
                        "797",
                        "6178.895330497389",
                        "14",
                        "0.11195878611819152"
                      ],
                      [
                        "2022-03-31",
                        "Comida para Aves",
                        "749",
                        "5230.1573465166475",
                        "8",
                        "0.0432744969737626"
                      ],
                      [
                        "2022-05-05",
                        "Comida para Peces",
                        "740",
                        "7907.853174573858",
                        "17",
                        "0.05964383885960223"
                      ],
                      [
                        "2022-04-28",
                        "Comida para Perros",
                        "714",
                        "9829.596006463249",
                        "7",
                        "0.023773977006978784"
                      ],
                      [
                        "2022-04-11",
                        "Comida para Perros",
                        "503",
                        "2157.347304378745",
                        "9",
                        "0.14029712031573005"
                      ],
                      [
                        "2022-04-01",
                        "Comida para Gatos",
                        "555",
                        "5954.668192657631",
                        "11",
                        "0.25362118035262016"
                      ],
                      [
                        "2022-03-10",
                        "Comida para Perros",
                        "150",
                        "3819.0059678370562",
                        "4",
                        "0.027165325015556706"
                      ],
                      [
                        "2022-04-16",
                        "Comida para Gatos",
                        "650",
                        "1251.598422064995",
                        "10",
                        "0.19761764925455044"
                      ],
                      [
                        "2022-01-11",
                        "Comida para Perros",
                        "864",
                        "1264.1164022754783",
                        "2",
                        "0.12606694813605074"
                      ],
                      [
                        "2022-01-13",
                        "Comida para Peces",
                        "514",
                        "6198.598041308027",
                        "7",
                        "0.2614143064784211"
                      ],
                      [
                        "2022-04-15",
                        "Comida para Gatos",
                        "649",
                        "1746.2389888329506",
                        "19",
                        "0.10899406374921572"
                      ],
                      [
                        "2022-06-15",
                        "Comida para Peces",
                        "994",
                        "1395.3543605410143",
                        "7",
                        "0.208333016619586"
                      ],
                      [
                        "2022-06-17",
                        "Comida para Peces",
                        "745",
                        "2555.906803558517",
                        "0",
                        "0.11973366796080868"
                      ],
                      [
                        "2022-06-10",
                        "Comida para Gatos",
                        "159",
                        "5138.782121475199",
                        "4",
                        "0.16258453229634487"
                      ],
                      [
                        "2022-05-03",
                        "Comida para Perros",
                        "574",
                        "5506.908935314627",
                        "10",
                        "0.23248369243269337"
                      ],
                      [
                        "2022-02-03",
                        "Comida para Perros",
                        "545",
                        "9237.39867765587",
                        "8",
                        "0.2903571250348398"
                      ],
                      [
                        "2022-06-04",
                        "Comida para Peces",
                        "899",
                        "4777.022658377501",
                        "12",
                        "0.04046623426986205"
                      ],
                      [
                        "2022-04-10",
                        "Comida para Aves",
                        "445",
                        "1970.009326793654",
                        "6",
                        "0.1587291182607136"
                      ],
                      [
                        "2022-02-20",
                        "Comida para Aves",
                        "303",
                        "3078.2433202719963",
                        "2",
                        "0.039680592715319186"
                      ],
                      [
                        "2022-03-30",
                        "Comida para Gatos",
                        "757",
                        "9508.678176062649",
                        "11",
                        "0.009151116042713636"
                      ],
                      [
                        "2022-01-21",
                        "Comida para Peces",
                        "131",
                        "6356.368343683414",
                        "12",
                        "0.22438518607596297"
                      ],
                      [
                        "2022-06-06",
                        "Comida para Gatos",
                        "771",
                        "4198.083545377116",
                        "15",
                        "0.2949813956532393"
                      ],
                      [
                        "2022-03-14",
                        "Comida para Gatos",
                        "184",
                        "9034.40366127713",
                        "8",
                        "0.17862098494088402"
                      ],
                      [
                        "2022-01-19",
                        "Comida para Perros",
                        "190",
                        "3705.167855243653",
                        "8",
                        "0.02172979350135482"
                      ],
                      [
                        "2022-06-03",
                        "Comida para Perros",
                        "139",
                        "8929.852300933337",
                        "13",
                        "0.018518393673497113"
                      ],
                      [
                        "2022-06-02",
                        "Comida para Peces",
                        "857",
                        "2090.2035936480133",
                        "0",
                        "0.0943642091003428"
                      ],
                      [
                        "2022-02-09",
                        "Comida para Aves",
                        "278",
                        "9444.06421506517",
                        "0",
                        "0.11426521812850865"
                      ],
                      [
                        "2022-05-04",
                        "Comida para Perros",
                        "686",
                        "9439.177216924552",
                        "15",
                        "0.0011599452723061287"
                      ],
                      [
                        "2022-01-29",
                        "Comida para Gatos",
                        "394",
                        "4107.428642519208",
                        "17",
                        "0.2528048709397497"
                      ],
                      [
                        "2022-06-02",
                        "Comida para Aves",
                        "680",
                        "1157.9388418717592",
                        "12",
                        "0.14057392991483406"
                      ],
                      [
                        "2022-05-27",
                        "Comida para Perros",
                        "479",
                        "4177.372908027017",
                        "16",
                        "0.29871230462415516"
                      ],
                      [
                        "2022-07-15",
                        "Comida para Gatos",
                        "651",
                        "2627.29913711226",
                        "11",
                        "0.2652440805284235"
                      ],
                      [
                        "2022-06-22",
                        "Comida para Perros",
                        "227",
                        "3394.603912993601",
                        "15",
                        "0.15023289234355644"
                      ],
                      [
                        "2022-02-15",
                        "Comida para Perros",
                        "307",
                        "6631.145895422285",
                        "19",
                        "0.18811743830337538"
                      ],
                      [
                        "2022-02-24",
                        "Comida para Perros",
                        "113",
                        "4987.883670804285",
                        "0",
                        "0.09436559977562582"
                      ],
                      [
                        "2022-01-01",
                        "Comida para Gatos",
                        "263",
                        "7626.814229074314",
                        "14",
                        "0.09100683132404584"
                      ],
                      [
                        "2022-05-19",
                        "Comida para Gatos",
                        "586",
                        "6733.333346218871",
                        "4",
                        "0.03906148866321076"
                      ],
                      [
                        "2022-07-15",
                        "Comida para Perros",
                        "991",
                        "3705.014849768722",
                        "18",
                        "0.16362006490656905"
                      ],
                      [
                        "2022-05-15",
                        "Comida para Gatos",
                        "495",
                        "3914.888846788555",
                        "17",
                        "0.024501379525046028"
                      ],
                      [
                        "2022-04-10",
                        "Comida para Perros",
                        "459",
                        "8183.3176598630025",
                        "8",
                        "0.13405789776853164"
                      ],
                      [
                        "2022-07-05",
                        "Comida para Peces",
                        "431",
                        "5789.467434001184",
                        "4",
                        "0.09651732597809305"
                      ],
                      [
                        "2022-07-18",
                        "Comida para Aves",
                        "922",
                        "2146.4253351948764",
                        "10",
                        "0.23716000062232104"
                      ],
                      [
                        "2022-05-28",
                        "Comida para Gatos",
                        "520",
                        "6280.508053287742",
                        "1",
                        "0.11443368413541555"
                      ],
                      [
                        "2022-06-12",
                        "Comida para Perros",
                        "182",
                        "2241.8104486701186",
                        "1",
                        "0.2704485905549795"
                      ],
                      [
                        "2022-02-20",
                        "Comida para Perros",
                        "303",
                        "8818.37348600784",
                        "14",
                        "0.05685912902722829"
                      ],
                      [
                        "2022-04-13",
                        "Comida para Peces",
                        "791",
                        "2163.4317543824104",
                        "18",
                        "0.279163972248618"
                      ],
                      [
                        "2022-01-21",
                        "Comida para Perros",
                        "262",
                        "7024.673079022347",
                        "3",
                        "0.1779859933812166"
                      ],
                      [
                        "2022-06-21",
                        "Comida para Aves",
                        "180",
                        "9071.293344977887",
                        "16",
                        "0.0360724806677594"
                      ],
                      [
                        "2022-04-29",
                        "Comida para Gatos",
                        "640",
                        "1883.1117290582847",
                        "5",
                        "0.15064505114998228"
                      ],
                      [
                        "2022-05-09",
                        "Comida para Peces",
                        "493",
                        "5772.089619235909",
                        "3",
                        "0.08037545621722823"
                      ],
                      [
                        "2022-04-20",
                        "Comida para Perros",
                        "969",
                        "9622.817863166478",
                        "15",
                        "0.22471094908878986"
                      ],
                      [
                        "2022-04-16",
                        "Comida para Perros",
                        "108",
                        "3501.4850093076257",
                        "13",
                        "0.1953928316433887"
                      ],
                      [
                        "2022-07-14",
                        "Comida para Perros",
                        "245",
                        "3529.6114595292856",
                        "8",
                        "0.018820953395373808"
                      ],
                      [
                        "2022-05-21",
                        "Comida para Peces",
                        "852",
                        "5230.4716014686965",
                        "7",
                        "0.12526386596048722"
                      ],
                      [
                        "2022-01-16",
                        "Comida para Gatos",
                        "336",
                        "9529.329643527513",
                        "11",
                        "0.2661408609323313"
                      ],
                      [
                        "2022-04-29",
                        "Comida para Aves",
                        "320",
                        "8209.123229426019",
                        "8",
                        "0.12234809779322309"
                      ],
                      [
                        "2022-02-03",
                        "Comida para Aves",
                        "765",
                        "3440.6706925835774",
                        "8",
                        "0.22308916849626168"
                      ],
                      [
                        "2022-06-01",
                        "Comida para Perros",
                        "450",
                        "3084.268207142224",
                        "18",
                        "0.034014771369465714"
                      ],
                      [
                        "2022-05-21",
                        "Comida para Perros",
                        "223",
                        "2787.550750760027",
                        "5",
                        "0.26007498807113466"
                      ],
                      [
                        "2022-05-14",
                        "Comida para Gatos",
                        "201",
                        "4867.529496560701",
                        "19",
                        "0.15072952901550637"
                      ],
                      [
                        "2022-02-08",
                        "Comida para Perros",
                        "799",
                        "8271.151102944297",
                        "6",
                        "0.28427165046902525"
                      ],
                      [
                        "2022-01-02",
                        "Comida para Aves",
                        "479",
                        "2370.71985371771",
                        "19",
                        "0.16119635157088608"
                      ],
                      [
                        "2022-01-11",
                        "Comida para Gatos",
                        "159",
                        "6553.5371133746185",
                        "5",
                        "0.2307677051684923"
                      ],
                      [
                        "2022-01-07",
                        "Comida para Peces",
                        "286",
                        "5250.613476606029",
                        "11",
                        "0.29163416877726445"
                      ],
                      [
                        "2022-05-06",
                        "Comida para Peces",
                        "374",
                        "6816.88728898505",
                        "15",
                        "0.21880410297898867"
                      ],
                      [
                        "2022-01-07",
                        "Comida para Gatos",
                        "624",
                        "4631.366783596295",
                        "12",
                        "0.1731820009082547"
                      ],
                      [
                        "2022-04-13",
                        "Comida para Perros",
                        "997",
                        "7838.399900692796",
                        "4",
                        "0.11001244188279827"
                      ],
                      [
                        "2022-06-16",
                        "Comida para Aves",
                        "383",
                        "3889.067746256641",
                        "3",
                        "0.0127575262577726"
                      ],
                      [
                        "2022-03-17",
                        "Comida para Gatos",
                        "622",
                        "7499.506539663348",
                        "18",
                        "0.129763712747394"
                      ],
                      [
                        "2022-04-25",
                        "Comida para Gatos",
                        "884",
                        "9636.92542303969",
                        "17",
                        "0.12374413737913464"
                      ],
                      [
                        "2022-03-27",
                        "Comida para Perros",
                        "383",
                        "6213.175762485057",
                        "12",
                        "0.24691867729126613"
                      ],
                      [
                        "2022-05-07",
                        "Comida para Aves",
                        "736",
                        "6711.046010877837",
                        "12",
                        "0.05677581185939082"
                      ],
                      [
                        "2022-04-25",
                        "Comida para Aves",
                        "874",
                        "5723.210797827216",
                        "0",
                        "0.22279345558615457"
                      ],
                      [
                        "2022-06-28",
                        "Comida para Peces",
                        "612",
                        "5373.553392775655",
                        "0",
                        "0.011269083866622365"
                      ],
                      [
                        "2022-02-21",
                        "Comida para Peces",
                        "107",
                        "2516.9213757112093",
                        "6",
                        "0.26590959842825984"
                      ],
                      [
                        "2022-01-03",
                        "Comida para Gatos",
                        "765",
                        "7187.940618070978",
                        "3",
                        "0.20038277883389746"
                      ],
                      [
                        "2022-03-18",
                        "Comida para Aves",
                        "167",
                        "6455.546774312382",
                        "9",
                        "0.12673313618118281"
                      ],
                      [
                        "2022-06-07",
                        "Comida para Perros",
                        "927",
                        "5975.971844336469",
                        "8",
                        "0.07965231664020601"
                      ],
                      [
                        "2022-01-10",
                        "Comida para Perros",
                        "860",
                        "3757.8428082715577",
                        "19",
                        "0.055320312028603325"
                      ],
                      [
                        "2022-04-26",
                        "Comida para Gatos",
                        "472",
                        "4550.4226726308425",
                        "3",
                        "0.1756935407037033"
                      ],
                      [
                        "2022-05-14",
                        "Comida para Gatos",
                        "611",
                        "4898.744702609186",
                        "10",
                        "0.12307160249003037"
                      ],
                      [
                        "2022-04-27",
                        "Comida para Aves",
                        "520",
                        "6917.365866665927",
                        "12",
                        "0.2229068677599743"
                      ],
                      [
                        "2022-07-01",
                        "Comida para Perros",
                        "528",
                        "7533.042640827029",
                        "8",
                        "0.27203236544626913"
                      ],
                      [
                        "2022-07-13",
                        "Comida para Peces",
                        "825",
                        "3816.581113991154",
                        "6",
                        "0.08869546381572165"
                      ],
                      [
                        "2022-02-13",
                        "Comida para Peces",
                        "725",
                        "6532.628468829609",
                        "7",
                        "0.1949701071609993"
                      ],
                      [
                        "2022-03-21",
                        "Comida para Peces",
                        "858",
                        "4333.368418224483",
                        "18",
                        "0.1268166577470272"
                      ],
                      [
                        "2022-03-04",
                        "Comida para Aves",
                        "611",
                        "5366.905057477046",
                        "15",
                        "0.012821697906241724"
                      ],
                      [
                        "2022-03-18",
                        "Comida para Aves",
                        "300",
                        "1737.2575015885232",
                        "4",
                        "0.1846298018956973"
                      ],
                      [
                        "2022-02-17",
                        "Comida para Gatos",
                        "723",
                        "6208.0986192596065",
                        "11",
                        "0.1091107697480709"
                      ],
                      [
                        "2022-03-18",
                        "Comida para Perros",
                        "266",
                        "9067.979073054303",
                        "11",
                        "0.0041178135979139325"
                      ],
                      [
                        "2022-05-30",
                        "Comida para Peces",
                        "776",
                        "9580.648118530135",
                        "12",
                        "0.14168399431956075"
                      ],
                      [
                        "2022-05-01",
                        "Comida para Perros",
                        "168",
                        "4011.7161805331134",
                        "0",
                        "0.027500670261618974"
                      ],
                      [
                        "2022-01-19",
                        "Comida para Aves",
                        "191",
                        "2531.1349056797762",
                        "5",
                        "0.18845089731913675"
                      ],
                      [
                        "2022-03-31",
                        "Comida para Perros",
                        "881",
                        "9789.765363382534",
                        "6",
                        "0.15794890962278982"
                      ],
                      [
                        "2022-01-14",
                        "Comida para Peces",
                        "753",
                        "8170.345017515977",
                        "13",
                        "0.1501046229488609"
                      ],
                      [
                        "2022-04-03",
                        "Comida para Perros",
                        "428",
                        "3638.5880696417476",
                        "5",
                        "0.28106376254679033"
                      ],
                      [
                        "2022-04-16",
                        "Comida para Peces",
                        "746",
                        "1040.410395757058",
                        "18",
                        "0.2641282136148575"
                      ],
                      [
                        "2022-01-07",
                        "Comida para Aves",
                        "450",
                        "3377.838378017555",
                        "12",
                        "0.21418018998343544"
                      ],
                      [
                        "2022-04-11",
                        "Comida para Gatos",
                        "240",
                        "9594.507402232157",
                        "14",
                        "0.1732622132165517"
                      ],
                      [
                        "2022-02-18",
                        "Comida para Peces",
                        "710",
                        "5268.4011369198315",
                        "3",
                        "0.07571079411074895"
                      ],
                      [
                        "2022-02-10",
                        "Comida para Gatos",
                        "999",
                        "3648.82612489887",
                        "9",
                        "0.0024488302339827793"
                      ],
                      [
                        "2022-06-04",
                        "Comida para Peces",
                        "332",
                        "4081.5344427103973",
                        "19",
                        "0.0358904220733255"
                      ],
                      [
                        "2022-06-08",
                        "Comida para Gatos",
                        "628",
                        "3062.771514724766",
                        "5",
                        "0.0960882689887569"
                      ],
                      [
                        "2022-05-14",
                        "Comida para Aves",
                        "361",
                        "6087.739652294371",
                        "1",
                        "0.059018353772656115"
                      ],
                      [
                        "2022-05-24",
                        "Comida para Perros",
                        "652",
                        "2954.5035771901776",
                        "1",
                        "0.17100114674366648"
                      ],
                      [
                        "2022-07-11",
                        "Comida para Peces",
                        "539",
                        "7263.023974430347",
                        "0",
                        "0.16048494524845214"
                      ],
                      [
                        "2022-02-07",
                        "Comida para Peces",
                        "793",
                        "5254.868015224291",
                        "15",
                        "0.1169374334822379"
                      ],
                      [
                        "2022-03-01",
                        "Comida para Peces",
                        "378",
                        "2431.088266684561",
                        "10",
                        "0.2401633576591723"
                      ],
                      [
                        "2022-04-24",
                        "Comida para Aves",
                        "457",
                        "9895.657074218387",
                        "12",
                        "0.21934714375548997"
                      ],
                      [
                        "2022-04-06",
                        "Comida para Peces",
                        "635",
                        "4579.567868077674",
                        "13",
                        "0.20636485977717026"
                      ],
                      [
                        "2022-04-07",
                        "Comida para Aves",
                        "351",
                        "4504.957007564823",
                        "3",
                        "0.15080257423305093"
                      ],
                      [
                        "2022-02-02",
                        "Comida para Gatos",
                        "990",
                        "4985.681039765939",
                        "19",
                        "0.01303356882709834"
                      ],
                      [
                        "2022-03-04",
                        "Comida para Perros",
                        "847",
                        "2958.139880154649",
                        "10",
                        "0.12840831872257571"
                      ],
                      [
                        "2022-05-19",
                        "Comida para Gatos",
                        "287",
                        "9665.44577674986",
                        "19",
                        "0.14975455036550864"
                      ],
                      [
                        "2022-05-21",
                        "Comida para Perros",
                        "134",
                        "4820.491496245126",
                        "9",
                        "0.13435427890095156"
                      ],
                      [
                        "2022-04-04",
                        "Comida para Perros",
                        "490",
                        "6275.47054354515",
                        "5",
                        "0.0013423880135199128"
                      ],
                      [
                        "2022-03-06",
                        "Comida para Gatos",
                        "444",
                        "4052.987365479798",
                        "13",
                        "0.19572865763557568"
                      ],
                      [
                        "2022-06-07",
                        "Comida para Peces",
                        "688",
                        "5325.01924201348",
                        "8",
                        "0.07721783259925148"
                      ],
                      [
                        "2022-04-01",
                        "Comida para Peces",
                        "117",
                        "9136.813796357543",
                        "17",
                        "0.013397647307833537"
                      ],
                      [
                        "2022-05-31",
                        "Comida para Gatos",
                        "707",
                        "2508.5216470935384",
                        "13",
                        "0.1510405828137956"
                      ],
                      [
                        "2022-05-28",
                        "Comida para Aves",
                        "660",
                        "8140.614283119098",
                        "3",
                        "0.2761642147983666"
                      ],
                      [
                        "2022-05-14",
                        "Comida para Perros",
                        "905",
                        "5159.227652089608",
                        "0",
                        "0.008832085009808465"
                      ],
                      [
                        "2022-02-06",
                        "Comida para Perros",
                        "100",
                        "3312.470666537277",
                        "14",
                        "0.0041224779214329875"
                      ],
                      [
                        "2022-03-25",
                        "Comida para Perros",
                        "558",
                        "7178.227839409488",
                        "14",
                        "0.17632442605881946"
                      ],
                      [
                        "2022-05-08",
                        "Comida para Perros",
                        "725",
                        "3198.9931752624284",
                        "6",
                        "0.16289587119251647"
                      ],
                      [
                        "2022-01-06",
                        "Comida para Perros",
                        "976",
                        "2380.37002837553",
                        "15",
                        "0.004711904553848578"
                      ],
                      [
                        "2022-04-03",
                        "Comida para Peces",
                        "104",
                        "3971.4053314671146",
                        "5",
                        "0.03092062520232064"
                      ],
                      [
                        "2022-06-04",
                        "Comida para Aves",
                        "707",
                        "3635.9463710132973",
                        "0",
                        "0.25091839268840804"
                      ],
                      [
                        "2022-03-25",
                        "Comida para Perros",
                        "739",
                        "7573.327873365928",
                        "7",
                        "0.1357915339490218"
                      ],
                      [
                        "2022-05-21",
                        "Comida para Aves",
                        "622",
                        "7894.042681111579",
                        "7",
                        "0.03731617999230805"
                      ],
                      [
                        "2022-05-16",
                        "Comida para Gatos",
                        "897",
                        "1952.486403692738",
                        "17",
                        "0.04677614524823682"
                      ],
                      [
                        "2022-06-30",
                        "Comida para Aves",
                        "965",
                        "7910.921390610871",
                        "0",
                        "0.18342682079836936"
                      ],
                      [
                        "2022-03-22",
                        "Comida para Peces",
                        "973",
                        "3309.115561198674",
                        "15",
                        "0.0985997984336334"
                      ],
                      [
                        "2022-06-07",
                        "Comida para Aves",
                        "340",
                        "3039.005880764803",
                        "11",
                        "0.007711569614864333"
                      ],
                      [
                        "2022-01-01",
                        "Comida para Aves",
                        "625",
                        "7351.771273709806",
                        "11",
                        "0.19080554886537862"
                      ],
                      [
                        "2022-03-16",
                        "Comida para Gatos",
                        "375",
                        "8863.77078264944",
                        "18",
                        "0.009705877815881713"
                      ],
                      [
                        "2022-05-12",
                        "Comida para Perros",
                        "141",
                        "6465.173943568142",
                        "11",
                        "0.03308398454786667"
                      ],
                      [
                        "2022-03-03",
                        "Comida para Aves",
                        "304",
                        "9452.174545598136",
                        "6",
                        "0.0476304745474793"
                      ],
                      [
                        "2022-03-09",
                        "Comida para Peces",
                        "528",
                        "6988.837878735477",
                        "7",
                        "0.0429833734445461"
                      ],
                      [
                        "2022-05-25",
                        "Comida para Gatos",
                        "151",
                        "8691.809205409112",
                        "3",
                        "0.2284688839027296"
                      ],
                      [
                        "2022-04-23",
                        "Comida para Aves",
                        "207",
                        "5685.599711331718",
                        "19",
                        "0.02803363676506434"
                      ],
                      [
                        "2022-03-26",
                        "Comida para Aves",
                        "244",
                        "8971.485593541309",
                        "5",
                        "0.04459247739826242"
                      ],
                      [
                        "2022-04-27",
                        "Comida para Gatos",
                        "604",
                        "2036.3315320465483",
                        "17",
                        "0.13410467069539198"
                      ],
                      [
                        "2022-02-26",
                        "Comida para Peces",
                        "854",
                        "4477.609367434757",
                        "0",
                        "0.04202510726374455"
                      ],
                      [
                        "2022-03-04",
                        "Comida para Peces",
                        "626",
                        "3604.6942176563957",
                        "11",
                        "0.2240808082552671"
                      ],
                      [
                        "2022-07-04",
                        "Comida para Peces",
                        "776",
                        "2343.122623678696",
                        "1",
                        "0.14632375520084637"
                      ],
                      [
                        "2022-02-18",
                        "Comida para Aves",
                        "214",
                        "2344.725278073116",
                        "18",
                        "0.26389301887204436"
                      ],
                      [
                        "2022-05-26",
                        "Comida para Aves",
                        "232",
                        "4985.778652868625",
                        "14",
                        "0.011434762571384205"
                      ],
                      [
                        "2022-04-28",
                        "Comida para Peces",
                        "403",
                        "4981.91980148976",
                        "18",
                        "0.2565595164842417"
                      ],
                      [
                        "2022-07-05",
                        "Comida para Perros",
                        "996",
                        "9196.405716941792",
                        "9",
                        "0.0461432863474286"
                      ],
                      [
                        "2022-01-10",
                        "Comida para Peces",
                        "917",
                        "9469.812630472448",
                        "6",
                        "0.27769042076565126"
                      ],
                      [
                        "2022-07-10",
                        "Comida para Gatos",
                        "354",
                        "1171.689369041765",
                        "4",
                        "0.09781233284258856"
                      ],
                      [
                        "2022-03-21",
                        "Comida para Aves",
                        "559",
                        "3332.2125235881085",
                        "11",
                        "0.1532349114583369"
                      ],
                      [
                        "2022-06-11",
                        "Comida para Gatos",
                        "912",
                        "1076.0152526450743",
                        "17",
                        "0.007108222914200501"
                      ],
                      [
                        "2022-05-13",
                        "Comida para Gatos",
                        "681",
                        "8932.713627535626",
                        "0",
                        "0.2187416731086775"
                      ],
                      [
                        "2022-05-25",
                        "Comida para Perros",
                        "460",
                        "5788.991781735698",
                        "11",
                        "0.0641313856274586"
                      ],
                      [
                        "2022-03-13",
                        "Comida para Perros",
                        "594",
                        "2450.2110448117664",
                        "18",
                        "0.27498502275300774"
                      ],
                      [
                        "2022-03-04",
                        "Comida para Peces",
                        "884",
                        "8474.25791792266",
                        "8",
                        "0.19853611371294155"
                      ],
                      [
                        "2022-01-24",
                        "Comida para Perros",
                        "372",
                        "1645.6719362902274",
                        "19",
                        "0.0850857436592915"
                      ],
                      [
                        "2022-04-02",
                        "Comida para Aves",
                        "878",
                        "8682.62341981943",
                        "2",
                        "0.0782725767685952"
                      ],
                      [
                        "2022-04-21",
                        "Comida para Aves",
                        "617",
                        "1145.429345376659",
                        "18",
                        "0.05114376398370548"
                      ],
                      [
                        "2022-01-08",
                        "Comida para Aves",
                        "679",
                        "5094.0131811919455",
                        "6",
                        "0.24056115103183706"
                      ],
                      [
                        "2022-01-23",
                        "Comida para Aves",
                        "266",
                        "4185.701412095394",
                        "14",
                        "0.131543024698391"
                      ],
                      [
                        "2022-04-09",
                        "Comida para Aves",
                        "374",
                        "6840.987969365623",
                        "11",
                        "0.08308368343192538"
                      ],
                      [
                        "2022-06-08",
                        "Comida para Peces",
                        "194",
                        "5951.944157281776",
                        "1",
                        "0.28584585363601933"
                      ],
                      [
                        "2022-03-22",
                        "Comida para Aves",
                        "564",
                        "4184.256077017865",
                        "13",
                        "0.2406722496699546"
                      ],
                      [
                        "2022-06-05",
                        "Comida para Peces",
                        "899",
                        "9874.527848863505",
                        "13",
                        "0.17589090315046646"
                      ],
                      [
                        "2022-02-17",
                        "Comida para Gatos",
                        "526",
                        "4864.094159615763",
                        "1",
                        "0.24073459670770847"
                      ],
                      [
                        "2022-04-25",
                        "Comida para Gatos",
                        "147",
                        "5362.263641175012",
                        "10",
                        "0.036038023187270285"
                      ],
                      [
                        "2022-01-12",
                        "Comida para Perros",
                        "377",
                        "6659.294131596636",
                        "19",
                        "0.20164913295941087"
                      ],
                      [
                        "2022-03-20",
                        "Comida para Aves",
                        "155",
                        "1892.4458674024152",
                        "13",
                        "0.09724547248385036"
                      ],
                      [
                        "2022-01-31",
                        "Comida para Gatos",
                        "430",
                        "8932.784175067074",
                        "19",
                        "0.20625269184898753"
                      ],
                      [
                        "2022-04-01",
                        "Comida para Peces",
                        "208",
                        "6094.023579386668",
                        "14",
                        "0.28849713882914046"
                      ],
                      [
                        "2022-02-04",
                        "Comida para Peces",
                        "131",
                        "7081.202913696733",
                        "0",
                        "0.23410787721219714"
                      ],
                      [
                        "2022-02-24",
                        "Comida para Peces",
                        "695",
                        "9303.75686405059",
                        "11",
                        "0.16966765117468918"
                      ],
                      [
                        "2022-03-23",
                        "Comida para Perros",
                        "166",
                        "6781.069051534517",
                        "7",
                        "0.2236599624660223"
                      ],
                      [
                        "2022-06-13",
                        "Comida para Peces",
                        "247",
                        "1645.6106324391321",
                        "3",
                        "0.14049950007519696"
                      ],
                      [
                        "2022-03-13",
                        "Comida para Perros",
                        "259",
                        "1752.2068302169887",
                        "14",
                        "0.08398355359519828"
                      ],
                      [
                        "2022-04-20",
                        "Comida para Peces",
                        "982",
                        "6114.081396679657",
                        "0",
                        "0.012190211991510035"
                      ],
                      [
                        "2022-03-01",
                        "Comida para Perros",
                        "887",
                        "2049.986948866711",
                        "8",
                        "0.20316091357781205"
                      ],
                      [
                        "2022-04-23",
                        "Comida para Perros",
                        "907",
                        "1385.960337854346",
                        "3",
                        "0.04277743038334742"
                      ],
                      [
                        "2022-06-15",
                        "Comida para Gatos",
                        "673",
                        "4452.957885966252",
                        "11",
                        "0.1378043882532748"
                      ],
                      [
                        "2022-03-10",
                        "Comida para Gatos",
                        "709",
                        "9803.011794955906",
                        "1",
                        "0.20002636287283435"
                      ],
                      [
                        "2022-07-01",
                        "Comida para Peces",
                        "344",
                        "5947.392239850302",
                        "6",
                        "0.2673882017907181"
                      ],
                      [
                        "2022-01-14",
                        "Comida para Gatos",
                        "848",
                        "8963.307042561475",
                        "14",
                        "0.18280909117642025"
                      ],
                      [
                        "2022-04-12",
                        "Comida para Perros",
                        "538",
                        "5075.700216718016",
                        "4",
                        "0.06531740381492475"
                      ],
                      [
                        "2022-01-20",
                        "Comida para Perros",
                        "834",
                        "9375.899113516636",
                        "10",
                        "0.1422166967597546"
                      ],
                      [
                        "2022-04-18",
                        "Comida para Aves",
                        "222",
                        "1269.230902079866",
                        "3",
                        "0.20028602066529544"
                      ],
                      [
                        "2022-01-09",
                        "Comida para Aves",
                        "587",
                        "7475.050999321525",
                        "15",
                        "0.058595256711938645"
                      ],
                      [
                        "2022-04-07",
                        "Comida para Perros",
                        "290",
                        "9598.220995632753",
                        "6",
                        "0.2196515386891727"
                      ],
                      [
                        "2022-07-17",
                        "Comida para Gatos",
                        "304",
                        "5226.100588984161",
                        "11",
                        "0.22914727118127665"
                      ],
                      [
                        "2022-05-05",
                        "Comida para Perros",
                        "180",
                        "3284.695423156885",
                        "2",
                        "0.1567588073752615"
                      ],
                      [
                        "2022-04-11",
                        "Comida para Peces",
                        "610",
                        "6863.538001026786",
                        "3",
                        "0.25764037184941324"
                      ],
                      [
                        "2022-05-10",
                        "Comida para Aves",
                        "234",
                        "4437.766745827028",
                        "17",
                        "0.06742195142724923"
                      ],
                      [
                        "2022-06-07",
                        "Comida para Aves",
                        "552",
                        "4046.880430436548",
                        "10",
                        "0.16132124807616297"
                      ],
                      [
                        "2022-05-14",
                        "Comida para Gatos",
                        "913",
                        "4216.490809079818",
                        "0",
                        "0.26824925512876857"
                      ],
                      [
                        "2022-06-18",
                        "Comida para Perros",
                        "606",
                        "4705.024792078161",
                        "6",
                        "0.21124545326183175"
                      ],
                      [
                        "2022-05-31",
                        "Comida para Aves",
                        "770",
                        "5058.056792565087",
                        "1",
                        "0.24206229407088414"
                      ],
                      [
                        "2022-01-31",
                        "Comida para Gatos",
                        "688",
                        "2500.3420033264597",
                        "14",
                        "0.06662790669505374"
                      ],
                      [
                        "2022-01-20",
                        "Comida para Aves",
                        "991",
                        "7086.463826630748",
                        "3",
                        "0.17183417438305887"
                      ],
                      [
                        "2022-01-05",
                        "Comida para Gatos",
                        "793",
                        "8561.782815051058",
                        "17",
                        "0.0972128146415287"
                      ],
                      [
                        "2022-05-29",
                        "Comida para Aves",
                        "517",
                        "7608.628703196008",
                        "7",
                        "0.19767492995529534"
                      ],
                      [
                        "2022-04-17",
                        "Comida para Peces",
                        "702",
                        "4776.267421055156",
                        "14",
                        "0.15678289406466"
                      ],
                      [
                        "2022-03-16",
                        "Comida para Aves",
                        "502",
                        "2495.2273747861254",
                        "11",
                        "0.1876466415177122"
                      ],
                      [
                        "2022-05-04",
                        "Comida para Perros",
                        "234",
                        "7406.3729124583515",
                        "13",
                        "0.185301007301194"
                      ],
                      [
                        "2022-07-15",
                        "Comida para Gatos",
                        "732",
                        "1473.932919621394",
                        "0",
                        "0.2209307462244413"
                      ],
                      [
                        "2022-03-02",
                        "Comida para Gatos",
                        "230",
                        "5517.517359087303",
                        "0",
                        "0.23966468603506985"
                      ],
                      [
                        "2022-04-04",
                        "Comida para Aves",
                        "254",
                        "9548.164311333549",
                        "18",
                        "0.01856333053753595"
                      ],
                      [
                        "2022-06-19",
                        "Comida para Perros",
                        "338",
                        "4163.460005710155",
                        "17",
                        "0.28451305490450746"
                      ],
                      [
                        "2022-02-10",
                        "Comida para Aves",
                        "381",
                        "7603.06586697441",
                        "9",
                        "0.12193347372026563"
                      ],
                      [
                        "2022-07-08",
                        "Comida para Aves",
                        "625",
                        "9412.359224414247",
                        "5",
                        "0.05102910365579718"
                      ],
                      [
                        "2022-06-29",
                        "Comida para Aves",
                        "831",
                        "2045.5367881232914",
                        "12",
                        "0.27659403561537327"
                      ],
                      [
                        "2022-02-10",
                        "Comida para Peces",
                        "674",
                        "6482.3573534274565",
                        "17",
                        "0.23519742461246723"
                      ],
                      [
                        "2022-03-01",
                        "Comida para Gatos",
                        "157",
                        "6068.33983642184",
                        "3",
                        "0.1261061428311627"
                      ]
                    ]
                  }
                ],
                "locale": "en-US",
                "tableSchemaList": [
                  {
                    "columns": [
                      {
                        "dataType": "DateTime",
                        "name": "Fecha"
                      },
                      {
                        "dataType": "Text",
                        "name": "Categoria"
                      },
                      {
                        "dataType": "Number",
                        "name": "Ventas"
                      },
                      {
                        "dataType": "Number",
                        "name": "Ingresos"
                      },
                      {
                        "dataType": "Number",
                        "name": "Promociones"
                      },
                      {
                        "dataType": "Number",
                        "name": "Descuento"
                      }
                    ],
                    "name": "Table"
                  }
                ]
              }
            },
            "_embedded": false,
            "_event_data": {
              "event_details": null,
              "event_name": null
            },
            "_init_error": "",
            "_model_module": "powerbi-jupyter-client",
            "_model_module_version": "3.1.1",
            "_model_name": "QuickVisualizeModel",
            "_saved_report_id": "",
            "_token_expired": false,
            "_view_count": null,
            "_view_module": "powerbi-jupyter-client",
            "_view_module_version": "3.1.1",
            "_view_name": "QuickVisualizeView",
            "container_height": 0,
            "container_width": 0,
            "layout": "IPY_MODEL_618a41f0125a4607954d8850f7de401d"
          }
        },
        "32e8d1a7be0a416caa7580f2b91ba430": {
          "model_module": "@jupyter-widgets/base",
          "model_module_version": "1.2.0",
          "model_name": "LayoutModel",
          "state": {
            "_model_module": "@jupyter-widgets/base",
            "_model_module_version": "1.2.0",
            "_model_name": "LayoutModel",
            "_view_count": null,
            "_view_module": "@jupyter-widgets/base",
            "_view_module_version": "1.2.0",
            "_view_name": "LayoutView",
            "align_content": null,
            "align_items": null,
            "align_self": null,
            "border": null,
            "bottom": null,
            "display": "inline-flex",
            "flex": null,
            "flex_flow": "row wrap",
            "grid_area": null,
            "grid_auto_columns": null,
            "grid_auto_flow": null,
            "grid_auto_rows": null,
            "grid_column": null,
            "grid_gap": null,
            "grid_row": null,
            "grid_template_areas": null,
            "grid_template_columns": null,
            "grid_template_rows": null,
            "height": null,
            "justify_content": null,
            "justify_items": null,
            "left": null,
            "margin": null,
            "max_height": null,
            "max_width": null,
            "min_height": null,
            "min_width": null,
            "object_fit": null,
            "object_position": null,
            "order": null,
            "overflow": null,
            "overflow_x": null,
            "overflow_y": null,
            "padding": null,
            "right": null,
            "top": null,
            "visibility": null,
            "width": "100%"
          }
        },
        "34d660d203e943aa84ee8881064e454c": {
          "model_module": "@jupyter-widgets/controls",
          "model_module_version": "1.5.0",
          "model_name": "ProgressStyleModel",
          "state": {
            "_model_module": "@jupyter-widgets/controls",
            "_model_module_version": "1.5.0",
            "_model_name": "ProgressStyleModel",
            "_view_count": null,
            "_view_module": "@jupyter-widgets/base",
            "_view_module_version": "1.2.0",
            "_view_name": "StyleView",
            "bar_color": null,
            "description_width": ""
          }
        },
        "5ccdaf10cab3467295fa8a52e9b07505": {
          "model_module": "@jupyter-widgets/controls",
          "model_module_version": "1.5.0",
          "model_name": "HBoxModel",
          "state": {
            "_dom_classes": [],
            "_model_module": "@jupyter-widgets/controls",
            "_model_module_version": "1.5.0",
            "_model_name": "HBoxModel",
            "_view_count": null,
            "_view_module": "@jupyter-widgets/controls",
            "_view_module_version": "1.5.0",
            "_view_name": "HBoxView",
            "box_style": "",
            "children": [
              "IPY_MODEL_132c8538f12c4354af6d89b1cd13d1fe",
              "IPY_MODEL_a8719f7cf21d422aa80d079757e6209c",
              "IPY_MODEL_a9fe5608b2ab464a8990f8f178b86456"
            ],
            "layout": "IPY_MODEL_32e8d1a7be0a416caa7580f2b91ba430"
          }
        },
        "6f4af80503304cb094dc9d8b9154c6fc": {
          "model_module": "@jupyter-widgets/base",
          "model_module_version": "1.2.0",
          "model_name": "LayoutModel",
          "state": {
            "_model_module": "@jupyter-widgets/base",
            "_model_module_version": "1.2.0",
            "_model_name": "LayoutModel",
            "_view_count": null,
            "_view_module": "@jupyter-widgets/base",
            "_view_module_version": "1.2.0",
            "_view_name": "LayoutView",
            "align_content": null,
            "align_items": null,
            "align_self": null,
            "border": null,
            "bottom": null,
            "display": null,
            "flex": null,
            "flex_flow": null,
            "grid_area": null,
            "grid_auto_columns": null,
            "grid_auto_flow": null,
            "grid_auto_rows": null,
            "grid_column": null,
            "grid_gap": null,
            "grid_row": null,
            "grid_template_areas": null,
            "grid_template_columns": null,
            "grid_template_rows": null,
            "height": null,
            "justify_content": null,
            "justify_items": null,
            "left": null,
            "margin": null,
            "max_height": null,
            "max_width": null,
            "min_height": null,
            "min_width": null,
            "object_fit": null,
            "object_position": null,
            "order": null,
            "overflow": null,
            "overflow_x": null,
            "overflow_y": null,
            "padding": null,
            "right": null,
            "top": null,
            "visibility": null,
            "width": null
          }
        },
        "97d3afb4f45240109963c67792b426d5": {
          "model_module": "@jupyter-widgets/controls",
          "model_module_version": "1.5.0",
          "model_name": "DescriptionStyleModel",
          "state": {
            "_model_module": "@jupyter-widgets/controls",
            "_model_module_version": "1.5.0",
            "_model_name": "DescriptionStyleModel",
            "_view_count": null,
            "_view_module": "@jupyter-widgets/base",
            "_view_module_version": "1.2.0",
            "_view_name": "StyleView",
            "description_width": ""
          }
        },
        "a8719f7cf21d422aa80d079757e6209c": {
          "model_module": "@jupyter-widgets/controls",
          "model_module_version": "1.5.0",
          "model_name": "FloatProgressModel",
          "state": {
            "_dom_classes": [],
            "_model_module": "@jupyter-widgets/controls",
            "_model_module_version": "1.5.0",
            "_model_name": "FloatProgressModel",
            "_view_count": null,
            "_view_module": "@jupyter-widgets/controls",
            "_view_module_version": "1.5.0",
            "_view_name": "ProgressView",
            "bar_style": "success",
            "description": "",
            "description_tooltip": null,
            "layout": "IPY_MODEL_ee174affad034adead0be5f43cc8055d",
            "max": 1,
            "min": 0,
            "orientation": "horizontal",
            "style": "IPY_MODEL_34d660d203e943aa84ee8881064e454c",
            "value": 1
          }
        },
        "a9fe5608b2ab464a8990f8f178b86456": {
          "model_module": "@jupyter-widgets/controls",
          "model_module_version": "1.5.0",
          "model_name": "HTMLModel",
          "state": {
            "_dom_classes": [],
            "_model_module": "@jupyter-widgets/controls",
            "_model_module_version": "1.5.0",
            "_model_name": "HTMLModel",
            "_view_count": null,
            "_view_module": "@jupyter-widgets/controls",
            "_view_module_version": "1.5.0",
            "_view_name": "HTMLView",
            "description": "",
            "description_tooltip": null,
            "layout": "IPY_MODEL_bbcaaa17e8134c84b8ad693e529b2b4c",
            "placeholder": "​",
            "style": "IPY_MODEL_97d3afb4f45240109963c67792b426d5",
            "value": " [100%]   00:03 -&gt; (00:00 left)"
          }
        },
        "bbcaaa17e8134c84b8ad693e529b2b4c": {
          "model_module": "@jupyter-widgets/base",
          "model_module_version": "1.2.0",
          "model_name": "LayoutModel",
          "state": {
            "_model_module": "@jupyter-widgets/base",
            "_model_module_version": "1.2.0",
            "_model_name": "LayoutModel",
            "_view_count": null,
            "_view_module": "@jupyter-widgets/base",
            "_view_module_version": "1.2.0",
            "_view_name": "LayoutView",
            "align_content": null,
            "align_items": null,
            "align_self": null,
            "border": null,
            "bottom": null,
            "display": null,
            "flex": null,
            "flex_flow": null,
            "grid_area": null,
            "grid_auto_columns": null,
            "grid_auto_flow": null,
            "grid_auto_rows": null,
            "grid_column": null,
            "grid_gap": null,
            "grid_row": null,
            "grid_template_areas": null,
            "grid_template_columns": null,
            "grid_template_rows": null,
            "height": null,
            "justify_content": null,
            "justify_items": null,
            "left": null,
            "margin": null,
            "max_height": null,
            "max_width": null,
            "min_height": null,
            "min_width": null,
            "object_fit": null,
            "object_position": null,
            "order": null,
            "overflow": null,
            "overflow_x": null,
            "overflow_y": null,
            "padding": null,
            "right": null,
            "top": null,
            "visibility": null,
            "width": null
          }
        },
        "d25f9c5486844eefa712b171d5e66fc5": {
          "model_module": "@jupyter-widgets/controls",
          "model_module_version": "1.5.0",
          "model_name": "DescriptionStyleModel",
          "state": {
            "_model_module": "@jupyter-widgets/controls",
            "_model_module_version": "1.5.0",
            "_model_name": "DescriptionStyleModel",
            "_view_count": null,
            "_view_module": "@jupyter-widgets/base",
            "_view_module_version": "1.2.0",
            "_view_name": "StyleView",
            "description_width": ""
          }
        },
        "ee174affad034adead0be5f43cc8055d": {
          "model_module": "@jupyter-widgets/base",
          "model_module_version": "1.2.0",
          "model_name": "LayoutModel",
          "state": {
            "_model_module": "@jupyter-widgets/base",
            "_model_module_version": "1.2.0",
            "_model_name": "LayoutModel",
            "_view_count": null,
            "_view_module": "@jupyter-widgets/base",
            "_view_module_version": "1.2.0",
            "_view_name": "LayoutView",
            "align_content": null,
            "align_items": null,
            "align_self": null,
            "border": null,
            "bottom": null,
            "display": null,
            "flex": "2",
            "flex_flow": null,
            "grid_area": null,
            "grid_auto_columns": null,
            "grid_auto_flow": null,
            "grid_auto_rows": null,
            "grid_column": null,
            "grid_gap": null,
            "grid_row": null,
            "grid_template_areas": null,
            "grid_template_columns": null,
            "grid_template_rows": null,
            "height": null,
            "justify_content": null,
            "justify_items": null,
            "left": null,
            "margin": null,
            "max_height": null,
            "max_width": null,
            "min_height": null,
            "min_width": null,
            "object_fit": null,
            "object_position": null,
            "order": null,
            "overflow": null,
            "overflow_x": null,
            "overflow_y": null,
            "padding": null,
            "right": null,
            "top": null,
            "visibility": null,
            "width": null
          }
        }
      }
    }
  },
  "nbformat": 4,
  "nbformat_minor": 5
}